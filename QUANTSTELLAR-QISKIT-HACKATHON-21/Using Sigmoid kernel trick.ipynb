{
 "cells": [
  {
   "cell_type": "code",
   "execution_count": 1,
   "metadata": {},
   "outputs": [],
   "source": [
    "import numpy as np\n",
    "import pandas as pd\n",
    "import matplotlib.pyplot as plt\n",
    "import seaborn as sns\n",
    "%matplotlib inline"
   ]
  },
  {
   "cell_type": "code",
   "execution_count": 2,
   "metadata": {
    "scrolled": true
   },
   "outputs": [],
   "source": [
    "data = pd.read_csv(\"skyserver.csv\")"
   ]
  },
  {
   "cell_type": "code",
   "execution_count": 3,
   "metadata": {},
   "outputs": [
    {
     "data": {
      "text/html": [
       "<div>\n",
       "<style scoped>\n",
       "    .dataframe tbody tr th:only-of-type {\n",
       "        vertical-align: middle;\n",
       "    }\n",
       "\n",
       "    .dataframe tbody tr th {\n",
       "        vertical-align: top;\n",
       "    }\n",
       "\n",
       "    .dataframe thead th {\n",
       "        text-align: right;\n",
       "    }\n",
       "</style>\n",
       "<table border=\"1\" class=\"dataframe\">\n",
       "  <thead>\n",
       "    <tr style=\"text-align: right;\">\n",
       "      <th></th>\n",
       "      <th>objid</th>\n",
       "      <th>ra</th>\n",
       "      <th>dec</th>\n",
       "      <th>u</th>\n",
       "      <th>g</th>\n",
       "      <th>r</th>\n",
       "      <th>i</th>\n",
       "      <th>z</th>\n",
       "      <th>run</th>\n",
       "      <th>rerun</th>\n",
       "      <th>camcol</th>\n",
       "      <th>field</th>\n",
       "      <th>specobjid</th>\n",
       "      <th>class</th>\n",
       "      <th>redshift</th>\n",
       "      <th>plate</th>\n",
       "      <th>mjd</th>\n",
       "      <th>fiberid</th>\n",
       "    </tr>\n",
       "  </thead>\n",
       "  <tbody>\n",
       "    <tr>\n",
       "      <th>0</th>\n",
       "      <td>1237666301628060000</td>\n",
       "      <td>47.372545</td>\n",
       "      <td>0.820621</td>\n",
       "      <td>18.69254</td>\n",
       "      <td>17.13867</td>\n",
       "      <td>16.55555</td>\n",
       "      <td>16.34662</td>\n",
       "      <td>16.17639</td>\n",
       "      <td>4849</td>\n",
       "      <td>301</td>\n",
       "      <td>5</td>\n",
       "      <td>771</td>\n",
       "      <td>8168632633242440000</td>\n",
       "      <td>STAR</td>\n",
       "      <td>0.000115</td>\n",
       "      <td>7255</td>\n",
       "      <td>56597</td>\n",
       "      <td>832</td>\n",
       "    </tr>\n",
       "    <tr>\n",
       "      <th>1</th>\n",
       "      <td>1237673706652430000</td>\n",
       "      <td>116.303083</td>\n",
       "      <td>42.455980</td>\n",
       "      <td>18.47633</td>\n",
       "      <td>17.30546</td>\n",
       "      <td>17.24116</td>\n",
       "      <td>17.32780</td>\n",
       "      <td>17.37114</td>\n",
       "      <td>6573</td>\n",
       "      <td>301</td>\n",
       "      <td>6</td>\n",
       "      <td>220</td>\n",
       "      <td>9333948945297330000</td>\n",
       "      <td>STAR</td>\n",
       "      <td>-0.000093</td>\n",
       "      <td>8290</td>\n",
       "      <td>57364</td>\n",
       "      <td>868</td>\n",
       "    </tr>\n",
       "    <tr>\n",
       "      <th>2</th>\n",
       "      <td>1237671126974140000</td>\n",
       "      <td>172.756623</td>\n",
       "      <td>-8.785698</td>\n",
       "      <td>16.47714</td>\n",
       "      <td>15.31072</td>\n",
       "      <td>15.55971</td>\n",
       "      <td>15.72207</td>\n",
       "      <td>15.82471</td>\n",
       "      <td>5973</td>\n",
       "      <td>301</td>\n",
       "      <td>1</td>\n",
       "      <td>13</td>\n",
       "      <td>3221211255238850000</td>\n",
       "      <td>STAR</td>\n",
       "      <td>0.000165</td>\n",
       "      <td>2861</td>\n",
       "      <td>54583</td>\n",
       "      <td>42</td>\n",
       "    </tr>\n",
       "    <tr>\n",
       "      <th>3</th>\n",
       "      <td>1237665441518260000</td>\n",
       "      <td>201.224207</td>\n",
       "      <td>28.771290</td>\n",
       "      <td>18.63561</td>\n",
       "      <td>16.88346</td>\n",
       "      <td>16.09825</td>\n",
       "      <td>15.70987</td>\n",
       "      <td>15.43491</td>\n",
       "      <td>4649</td>\n",
       "      <td>301</td>\n",
       "      <td>3</td>\n",
       "      <td>121</td>\n",
       "      <td>2254061292459420000</td>\n",
       "      <td>GALAXY</td>\n",
       "      <td>0.058155</td>\n",
       "      <td>2002</td>\n",
       "      <td>53471</td>\n",
       "      <td>35</td>\n",
       "    </tr>\n",
       "    <tr>\n",
       "      <th>4</th>\n",
       "      <td>1237665441522840000</td>\n",
       "      <td>212.817222</td>\n",
       "      <td>26.625225</td>\n",
       "      <td>18.88325</td>\n",
       "      <td>17.87948</td>\n",
       "      <td>17.47037</td>\n",
       "      <td>17.17441</td>\n",
       "      <td>17.05235</td>\n",
       "      <td>4649</td>\n",
       "      <td>301</td>\n",
       "      <td>3</td>\n",
       "      <td>191</td>\n",
       "      <td>2390305906828010000</td>\n",
       "      <td>GALAXY</td>\n",
       "      <td>0.072210</td>\n",
       "      <td>2123</td>\n",
       "      <td>53793</td>\n",
       "      <td>74</td>\n",
       "    </tr>\n",
       "  </tbody>\n",
       "</table>\n",
       "</div>"
      ],
      "text/plain": [
       "                 objid          ra        dec         u         g         r  \\\n",
       "0  1237666301628060000   47.372545   0.820621  18.69254  17.13867  16.55555   \n",
       "1  1237673706652430000  116.303083  42.455980  18.47633  17.30546  17.24116   \n",
       "2  1237671126974140000  172.756623  -8.785698  16.47714  15.31072  15.55971   \n",
       "3  1237665441518260000  201.224207  28.771290  18.63561  16.88346  16.09825   \n",
       "4  1237665441522840000  212.817222  26.625225  18.88325  17.87948  17.47037   \n",
       "\n",
       "          i         z   run  rerun  camcol  field            specobjid  \\\n",
       "0  16.34662  16.17639  4849    301       5    771  8168632633242440000   \n",
       "1  17.32780  17.37114  6573    301       6    220  9333948945297330000   \n",
       "2  15.72207  15.82471  5973    301       1     13  3221211255238850000   \n",
       "3  15.70987  15.43491  4649    301       3    121  2254061292459420000   \n",
       "4  17.17441  17.05235  4649    301       3    191  2390305906828010000   \n",
       "\n",
       "    class  redshift  plate    mjd  fiberid  \n",
       "0    STAR  0.000115   7255  56597      832  \n",
       "1    STAR -0.000093   8290  57364      868  \n",
       "2    STAR  0.000165   2861  54583       42  \n",
       "3  GALAXY  0.058155   2002  53471       35  \n",
       "4  GALAXY  0.072210   2123  53793       74  "
      ]
     },
     "execution_count": 3,
     "metadata": {},
     "output_type": "execute_result"
    }
   ],
   "source": [
    "data.head()"
   ]
  },
  {
   "cell_type": "code",
   "execution_count": 4,
   "metadata": {},
   "outputs": [
    {
     "data": {
      "text/plain": [
       "objid        0\n",
       "ra           0\n",
       "dec          0\n",
       "u            0\n",
       "g            0\n",
       "r            0\n",
       "i            0\n",
       "z            0\n",
       "run          0\n",
       "rerun        0\n",
       "camcol       0\n",
       "field        0\n",
       "specobjid    0\n",
       "class        0\n",
       "redshift     0\n",
       "plate        0\n",
       "mjd          0\n",
       "fiberid      0\n",
       "dtype: int64"
      ]
     },
     "execution_count": 4,
     "metadata": {},
     "output_type": "execute_result"
    }
   ],
   "source": [
    "pd.isnull(data).sum()"
   ]
  },
  {
   "cell_type": "code",
   "execution_count": 5,
   "metadata": {},
   "outputs": [],
   "source": [
    "from sklearn.model_selection import train_test_split\n",
    "training_set, test_set = train_test_split(data, test_size = 0.2, random_state = 1)"
   ]
  },
  {
   "cell_type": "code",
   "execution_count": 6,
   "metadata": {},
   "outputs": [],
   "source": [
    "X_train = training_set.iloc[:,0:2].values\n",
    "Y_train = training_set.iloc[:,2].values\n",
    "X_test = test_set.iloc[:,0:2].values\n",
    "Y_test = test_set.iloc[:,2].values"
   ]
  },
  {
   "cell_type": "code",
   "execution_count": 8,
   "metadata": {},
   "outputs": [],
   "source": [
    "from sklearn.svm import SVC"
   ]
  },
  {
   "cell_type": "code",
   "execution_count": 9,
   "metadata": {},
   "outputs": [],
   "source": [
    "classifier = SVC(kernel='gaussian', random_state = 1)"
   ]
  },
  {
   "cell_type": "code",
   "execution_count": 10,
   "metadata": {},
   "outputs": [
    {
     "data": {
      "text/plain": [
       "61     450\n",
       "98     442\n",
       "65     433\n",
       "99     429\n",
       "97     428\n",
       "      ... \n",
       "790      1\n",
       "982      1\n",
       "800      1\n",
       "839      1\n",
       "971      1\n",
       "Name: field, Length: 840, dtype: int64"
      ]
     },
     "execution_count": 10,
     "metadata": {},
     "output_type": "execute_result"
    }
   ],
   "source": [
    "data['field'].value_counts()"
   ]
  },
  {
   "cell_type": "code",
   "execution_count": 12,
   "metadata": {},
   "outputs": [],
   "source": [
    "from sklearn.model_selection import train_test_split\n",
    "from sklearn.preprocessing import LabelEncoder, StandardScaler"
   ]
  },
  {
   "cell_type": "code",
   "execution_count": 13,
   "metadata": {},
   "outputs": [],
   "source": [
    "label_encoder = LabelEncoder()\n",
    "Y = label_encoder.fit_transform(Y_train)\n",
    "X = StandardScaler().fit_transform(X_train)"
   ]
  },
  {
   "cell_type": "code",
   "execution_count": 18,
   "metadata": {},
   "outputs": [],
   "source": [
    "#classifier.fit(X,Y)\n",
    "from sklearn import svm"
   ]
  },
  {
   "cell_type": "code",
   "execution_count": null,
   "metadata": {},
   "outputs": [],
   "source": [
    "C=1.0\n",
    "svc_classifier = svm.SVC(kernel='sigmoid', C=C).fit(X, Y)"
   ]
  },
  {
   "cell_type": "code",
   "execution_count": null,
   "metadata": {},
   "outputs": [],
   "source": []
  }
 ],
 "metadata": {
  "kernelspec": {
   "display_name": "Python 3",
   "language": "python",
   "name": "python3"
  },
  "language_info": {
   "codemirror_mode": {
    "name": "ipython",
    "version": 3
   },
   "file_extension": ".py",
   "mimetype": "text/x-python",
   "name": "python",
   "nbconvert_exporter": "python",
   "pygments_lexer": "ipython3",
   "version": "3.8.3"
  }
 },
 "nbformat": 4,
 "nbformat_minor": 4
}
