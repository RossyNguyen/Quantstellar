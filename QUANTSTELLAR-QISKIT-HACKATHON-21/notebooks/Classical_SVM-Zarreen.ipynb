{
 "cells": [
  {
   "cell_type": "markdown",
   "metadata": {},
   "source": []
  },
  {
   "cell_type": "markdown",
   "metadata": {},
   "source": []
  },
  {
   "cell_type": "code",
   "execution_count": 32,
   "metadata": {},
   "outputs": [],
   "source": [
    "import sys\n",
    "import os\n",
    "from pathlib import Path\n",
    "main_folder=str(Path.cwd().parent) # /elia_analytical_models\n",
    "sys.path.append(main_folder)  \n",
    "data_folder = f'{main_folder}/data'\n",
    "import pandas as pd\n",
    "import numpy as np\n",
    "import requests\n",
    "import json\n",
    "import pickle\n",
    "# import openpyxl\n",
    "import seaborn as sns\n",
    "import matplotlib.pyplot as plt\n",
    "from datetime import date\n",
    "from sklearn import svm\n",
    "import sklearn.model_selection as model_selection\n",
    "from sklearn.metrics import accuracy_score, confusion_matrix, classification_report\n",
    "from sklearn.metrics import f1_score"
   ]
  },
  {
   "cell_type": "code",
   "execution_count": 2,
   "metadata": {},
   "outputs": [],
   "source": [
    "# dr16 = pd.read_csv(f'{data_folder}/raw/Skyserver_12_30_2019 4_49_58 PM.csv')\n",
    "# with open(f'{data_folder}/interim/DR16.pkl','wb') as output_file:\n",
    "#     pickle.dump(dr16, output_file)\n",
    "with open(f'{data_folder}/interim/DR16.pkl','rb') as input_file:\n",
    "    dr16 = pickle.load(input_file)"
   ]
  },
  {
   "cell_type": "markdown",
   "metadata": {},
   "source": [
    "16 variables (double) and 1 additional variable (char) 'class'.\n",
    "A class object can be predicted from the other 16 variables.\n",
    "Variables description:  \n",
    "objid = Object Identifier  \n",
    "ra = J2000 Right Ascension (r-band)  \n",
    "dec = J2000 Declination (r-band)  \n",
    "u = better of deV/Exp magnitude fit (u-band)  \n",
    "g = better of deV/Exp magnitude fit (g-band)  \n",
    "r = better of deV/Exp magnitude fit (r-band)  \n",
    "i = better of deV/Exp magnitude fit (i-band)  \n",
    "z = better of deV/Exp magnitude fit (z-band)  \n",
    "run = Run Number  \n",
    "rerun = Rerun Number  (=301 for whole dataset)\n",
    "camcol = Camera column  \n",
    "field = Field number  \n",
    "specobjid = Object Identifier  \n",
    "class = object class (galaxy, star or quasar object)  \n",
    "redshift = Final Redshift  \n",
    "plate = plate number  \n",
    "mjd = MJD of observation  \n",
    "fiberid = fiberID \n"
   ]
  },
  {
   "cell_type": "code",
   "execution_count": 3,
   "metadata": {},
   "outputs": [
    {
     "data": {
      "text/html": [
       "<div>\n",
       "<style scoped>\n",
       "    .dataframe tbody tr th:only-of-type {\n",
       "        vertical-align: middle;\n",
       "    }\n",
       "\n",
       "    .dataframe tbody tr th {\n",
       "        vertical-align: top;\n",
       "    }\n",
       "\n",
       "    .dataframe thead th {\n",
       "        text-align: right;\n",
       "    }\n",
       "</style>\n",
       "<table border=\"1\" class=\"dataframe\">\n",
       "  <thead>\n",
       "    <tr style=\"text-align: right;\">\n",
       "      <th></th>\n",
       "      <th>objid</th>\n",
       "      <th>ra</th>\n",
       "      <th>dec</th>\n",
       "      <th>u</th>\n",
       "      <th>g</th>\n",
       "      <th>r</th>\n",
       "      <th>i</th>\n",
       "      <th>z</th>\n",
       "      <th>run</th>\n",
       "      <th>rerun</th>\n",
       "      <th>camcol</th>\n",
       "      <th>field</th>\n",
       "      <th>specobjid</th>\n",
       "      <th>class</th>\n",
       "      <th>redshift</th>\n",
       "      <th>plate</th>\n",
       "      <th>mjd</th>\n",
       "      <th>fiberid</th>\n",
       "    </tr>\n",
       "  </thead>\n",
       "  <tbody>\n",
       "    <tr>\n",
       "      <th>0</th>\n",
       "      <td>1237666301628060000</td>\n",
       "      <td>47.372545</td>\n",
       "      <td>0.820621</td>\n",
       "      <td>18.69254</td>\n",
       "      <td>17.13867</td>\n",
       "      <td>16.55555</td>\n",
       "      <td>16.34662</td>\n",
       "      <td>16.17639</td>\n",
       "      <td>4849</td>\n",
       "      <td>301</td>\n",
       "      <td>5</td>\n",
       "      <td>771</td>\n",
       "      <td>8168632633242440000</td>\n",
       "      <td>STAR</td>\n",
       "      <td>0.000115</td>\n",
       "      <td>7255</td>\n",
       "      <td>56597</td>\n",
       "      <td>832</td>\n",
       "    </tr>\n",
       "    <tr>\n",
       "      <th>1</th>\n",
       "      <td>1237673706652430000</td>\n",
       "      <td>116.303083</td>\n",
       "      <td>42.455980</td>\n",
       "      <td>18.47633</td>\n",
       "      <td>17.30546</td>\n",
       "      <td>17.24116</td>\n",
       "      <td>17.32780</td>\n",
       "      <td>17.37114</td>\n",
       "      <td>6573</td>\n",
       "      <td>301</td>\n",
       "      <td>6</td>\n",
       "      <td>220</td>\n",
       "      <td>9333948945297330000</td>\n",
       "      <td>STAR</td>\n",
       "      <td>-0.000093</td>\n",
       "      <td>8290</td>\n",
       "      <td>57364</td>\n",
       "      <td>868</td>\n",
       "    </tr>\n",
       "    <tr>\n",
       "      <th>2</th>\n",
       "      <td>1237671126974140000</td>\n",
       "      <td>172.756623</td>\n",
       "      <td>-8.785698</td>\n",
       "      <td>16.47714</td>\n",
       "      <td>15.31072</td>\n",
       "      <td>15.55971</td>\n",
       "      <td>15.72207</td>\n",
       "      <td>15.82471</td>\n",
       "      <td>5973</td>\n",
       "      <td>301</td>\n",
       "      <td>1</td>\n",
       "      <td>13</td>\n",
       "      <td>3221211255238850000</td>\n",
       "      <td>STAR</td>\n",
       "      <td>0.000165</td>\n",
       "      <td>2861</td>\n",
       "      <td>54583</td>\n",
       "      <td>42</td>\n",
       "    </tr>\n",
       "    <tr>\n",
       "      <th>3</th>\n",
       "      <td>1237665441518260000</td>\n",
       "      <td>201.224207</td>\n",
       "      <td>28.771290</td>\n",
       "      <td>18.63561</td>\n",
       "      <td>16.88346</td>\n",
       "      <td>16.09825</td>\n",
       "      <td>15.70987</td>\n",
       "      <td>15.43491</td>\n",
       "      <td>4649</td>\n",
       "      <td>301</td>\n",
       "      <td>3</td>\n",
       "      <td>121</td>\n",
       "      <td>2254061292459420000</td>\n",
       "      <td>GALAXY</td>\n",
       "      <td>0.058155</td>\n",
       "      <td>2002</td>\n",
       "      <td>53471</td>\n",
       "      <td>35</td>\n",
       "    </tr>\n",
       "    <tr>\n",
       "      <th>4</th>\n",
       "      <td>1237665441522840000</td>\n",
       "      <td>212.817222</td>\n",
       "      <td>26.625225</td>\n",
       "      <td>18.88325</td>\n",
       "      <td>17.87948</td>\n",
       "      <td>17.47037</td>\n",
       "      <td>17.17441</td>\n",
       "      <td>17.05235</td>\n",
       "      <td>4649</td>\n",
       "      <td>301</td>\n",
       "      <td>3</td>\n",
       "      <td>191</td>\n",
       "      <td>2390305906828010000</td>\n",
       "      <td>GALAXY</td>\n",
       "      <td>0.072210</td>\n",
       "      <td>2123</td>\n",
       "      <td>53793</td>\n",
       "      <td>74</td>\n",
       "    </tr>\n",
       "  </tbody>\n",
       "</table>\n",
       "</div>"
      ],
      "text/plain": [
       "                 objid          ra        dec         u         g         r  \\\n",
       "0  1237666301628060000   47.372545   0.820621  18.69254  17.13867  16.55555   \n",
       "1  1237673706652430000  116.303083  42.455980  18.47633  17.30546  17.24116   \n",
       "2  1237671126974140000  172.756623  -8.785698  16.47714  15.31072  15.55971   \n",
       "3  1237665441518260000  201.224207  28.771290  18.63561  16.88346  16.09825   \n",
       "4  1237665441522840000  212.817222  26.625225  18.88325  17.87948  17.47037   \n",
       "\n",
       "          i         z   run  rerun  camcol  field            specobjid  \\\n",
       "0  16.34662  16.17639  4849    301       5    771  8168632633242440000   \n",
       "1  17.32780  17.37114  6573    301       6    220  9333948945297330000   \n",
       "2  15.72207  15.82471  5973    301       1     13  3221211255238850000   \n",
       "3  15.70987  15.43491  4649    301       3    121  2254061292459420000   \n",
       "4  17.17441  17.05235  4649    301       3    191  2390305906828010000   \n",
       "\n",
       "    class  redshift  plate    mjd  fiberid  \n",
       "0    STAR  0.000115   7255  56597      832  \n",
       "1    STAR -0.000093   8290  57364      868  \n",
       "2    STAR  0.000165   2861  54583       42  \n",
       "3  GALAXY  0.058155   2002  53471       35  \n",
       "4  GALAXY  0.072210   2123  53793       74  "
      ]
     },
     "execution_count": 3,
     "metadata": {},
     "output_type": "execute_result"
    }
   ],
   "source": [
    "dr16.head()"
   ]
  },
  {
   "cell_type": "code",
   "execution_count": 4,
   "metadata": {},
   "outputs": [
    {
     "data": {
      "text/plain": [
       "(100000, 18)"
      ]
     },
     "execution_count": 4,
     "metadata": {},
     "output_type": "execute_result"
    }
   ],
   "source": [
    "dr16.shape"
   ]
  },
  {
   "cell_type": "code",
   "execution_count": 4,
   "metadata": {},
   "outputs": [],
   "source": [
    "features_band= ['ra','dec','u','g','r','i','z','redshift']\n",
    "features_run = ['run','camcol','field','plate','mjd','fiberid']"
   ]
  },
  {
   "cell_type": "code",
   "execution_count": 6,
   "metadata": {},
   "outputs": [
    {
     "data": {
      "text/html": [
       "<div>\n",
       "<style scoped>\n",
       "    .dataframe tbody tr th:only-of-type {\n",
       "        vertical-align: middle;\n",
       "    }\n",
       "\n",
       "    .dataframe tbody tr th {\n",
       "        vertical-align: top;\n",
       "    }\n",
       "\n",
       "    .dataframe thead th {\n",
       "        text-align: right;\n",
       "    }\n",
       "</style>\n",
       "<table border=\"1\" class=\"dataframe\">\n",
       "  <thead>\n",
       "    <tr style=\"text-align: right;\">\n",
       "      <th></th>\n",
       "      <th>ra</th>\n",
       "      <th>dec</th>\n",
       "      <th>u</th>\n",
       "      <th>g</th>\n",
       "      <th>r</th>\n",
       "      <th>i</th>\n",
       "      <th>z</th>\n",
       "      <th>redshift</th>\n",
       "    </tr>\n",
       "  </thead>\n",
       "  <tbody>\n",
       "    <tr>\n",
       "      <th>count</th>\n",
       "      <td>100000.000000</td>\n",
       "      <td>100000.000000</td>\n",
       "      <td>100000.000000</td>\n",
       "      <td>100000.000000</td>\n",
       "      <td>100000.000000</td>\n",
       "      <td>100000.000000</td>\n",
       "      <td>100000.000000</td>\n",
       "      <td>100000.000000</td>\n",
       "    </tr>\n",
       "    <tr>\n",
       "      <th>mean</th>\n",
       "      <td>177.512888</td>\n",
       "      <td>25.052056</td>\n",
       "      <td>18.637915</td>\n",
       "      <td>17.407128</td>\n",
       "      <td>16.881676</td>\n",
       "      <td>16.625534</td>\n",
       "      <td>16.467087</td>\n",
       "      <td>0.170621</td>\n",
       "    </tr>\n",
       "    <tr>\n",
       "      <th>std</th>\n",
       "      <td>78.039070</td>\n",
       "      <td>20.567259</td>\n",
       "      <td>0.832284</td>\n",
       "      <td>0.985921</td>\n",
       "      <td>1.133337</td>\n",
       "      <td>1.209532</td>\n",
       "      <td>1.281788</td>\n",
       "      <td>0.437571</td>\n",
       "    </tr>\n",
       "    <tr>\n",
       "      <th>min</th>\n",
       "      <td>0.013061</td>\n",
       "      <td>-19.495456</td>\n",
       "      <td>10.611810</td>\n",
       "      <td>9.668339</td>\n",
       "      <td>9.005167</td>\n",
       "      <td>8.848403</td>\n",
       "      <td>8.947795</td>\n",
       "      <td>-0.004136</td>\n",
       "    </tr>\n",
       "    <tr>\n",
       "      <th>25%</th>\n",
       "      <td>136.356526</td>\n",
       "      <td>6.770380</td>\n",
       "      <td>18.212902</td>\n",
       "      <td>16.852982</td>\n",
       "      <td>16.196608</td>\n",
       "      <td>15.865275</td>\n",
       "      <td>15.619960</td>\n",
       "      <td>0.000001</td>\n",
       "    </tr>\n",
       "    <tr>\n",
       "      <th>50%</th>\n",
       "      <td>180.411688</td>\n",
       "      <td>23.918611</td>\n",
       "      <td>18.873250</td>\n",
       "      <td>17.515860</td>\n",
       "      <td>16.890640</td>\n",
       "      <td>16.599885</td>\n",
       "      <td>16.428385</td>\n",
       "      <td>0.045997</td>\n",
       "    </tr>\n",
       "    <tr>\n",
       "      <th>75%</th>\n",
       "      <td>224.369107</td>\n",
       "      <td>40.344539</td>\n",
       "      <td>19.273302</td>\n",
       "      <td>18.056060</td>\n",
       "      <td>17.585750</td>\n",
       "      <td>17.344912</td>\n",
       "      <td>17.234625</td>\n",
       "      <td>0.095429</td>\n",
       "    </tr>\n",
       "    <tr>\n",
       "      <th>max</th>\n",
       "      <td>359.999615</td>\n",
       "      <td>84.490494</td>\n",
       "      <td>19.599950</td>\n",
       "      <td>19.996050</td>\n",
       "      <td>31.990100</td>\n",
       "      <td>32.141470</td>\n",
       "      <td>29.383740</td>\n",
       "      <td>7.011245</td>\n",
       "    </tr>\n",
       "  </tbody>\n",
       "</table>\n",
       "</div>"
      ],
      "text/plain": [
       "                  ra            dec              u              g  \\\n",
       "count  100000.000000  100000.000000  100000.000000  100000.000000   \n",
       "mean      177.512888      25.052056      18.637915      17.407128   \n",
       "std        78.039070      20.567259       0.832284       0.985921   \n",
       "min         0.013061     -19.495456      10.611810       9.668339   \n",
       "25%       136.356526       6.770380      18.212902      16.852982   \n",
       "50%       180.411688      23.918611      18.873250      17.515860   \n",
       "75%       224.369107      40.344539      19.273302      18.056060   \n",
       "max       359.999615      84.490494      19.599950      19.996050   \n",
       "\n",
       "                   r              i              z       redshift  \n",
       "count  100000.000000  100000.000000  100000.000000  100000.000000  \n",
       "mean       16.881676      16.625534      16.467087       0.170621  \n",
       "std         1.133337       1.209532       1.281788       0.437571  \n",
       "min         9.005167       8.848403       8.947795      -0.004136  \n",
       "25%        16.196608      15.865275      15.619960       0.000001  \n",
       "50%        16.890640      16.599885      16.428385       0.045997  \n",
       "75%        17.585750      17.344912      17.234625       0.095429  \n",
       "max        31.990100      32.141470      29.383740       7.011245  "
      ]
     },
     "execution_count": 6,
     "metadata": {},
     "output_type": "execute_result"
    }
   ],
   "source": [
    "dr16[features_band].describe()"
   ]
  },
  {
   "cell_type": "code",
   "execution_count": 11,
   "metadata": {
    "scrolled": true
   },
   "outputs": [
    {
     "name": "stderr",
     "output_type": "stream",
     "text": [
      "c:\\users\\zarreen-naowal.reza\\appdata\\local\\programs\\python\\python38\\lib\\site-packages\\pandas\\plotting\\_matplotlib\\tools.py:400: MatplotlibDeprecationWarning: \n",
      "The is_first_col function was deprecated in Matplotlib 3.4 and will be removed two minor releases later. Use ax.get_subplotspec().is_first_col() instead.\n",
      "  if ax.is_first_col():\n"
     ]
    },
    {
     "data": {
      "text/plain": [
       "array([[<AxesSubplot:title={'center':'objid'}>,\n",
       "        <AxesSubplot:title={'center':'ra'}>,\n",
       "        <AxesSubplot:title={'center':'dec'}>,\n",
       "        <AxesSubplot:title={'center':'u'}>],\n",
       "       [<AxesSubplot:title={'center':'g'}>,\n",
       "        <AxesSubplot:title={'center':'r'}>,\n",
       "        <AxesSubplot:title={'center':'i'}>,\n",
       "        <AxesSubplot:title={'center':'z'}>],\n",
       "       [<AxesSubplot:title={'center':'run'}>,\n",
       "        <AxesSubplot:title={'center':'rerun'}>,\n",
       "        <AxesSubplot:title={'center':'camcol'}>,\n",
       "        <AxesSubplot:title={'center':'field'}>],\n",
       "       [<AxesSubplot:title={'center':'specobjid'}>,\n",
       "        <AxesSubplot:title={'center':'redshift'}>,\n",
       "        <AxesSubplot:title={'center':'plate'}>,\n",
       "        <AxesSubplot:title={'center':'mjd'}>],\n",
       "       [<AxesSubplot:title={'center':'fiberid'}>, <AxesSubplot:>,\n",
       "        <AxesSubplot:>, <AxesSubplot:>]], dtype=object)"
      ]
     },
     "execution_count": 11,
     "metadata": {},
     "output_type": "execute_result"
    },
    {
     "data": {
      "image/png": "[encoded data removed]",
      "text/plain": [
       "<Figure size 1800x1080 with 20 Axes>"
      ]
     },
     "metadata": {
      "needs_background": "light"
     },
     "output_type": "display_data"
    }
   ],
   "source": [
    "dr16.hist(bins=15, figsize=(25, 15), layout=(5, 4))"
   ]
  },
  {
   "cell_type": "code",
   "execution_count": null,
   "metadata": {},
   "outputs": [],
   "source": [
    "## Create features and target data\n",
    "X = dr16[features_band]\n",
    "y = dr16['class']\n",
    "\n",
    "X_train, X_test, y_train, y_test = model_selection.train_test_split(X, y, train_size=0.80, test_size=0.20, random_state=101)\n",
    "\n",
    "# Classifier \n",
    "rbf = svm.SVC(kernel='rbf', gamma=0.5, C=0.1).fit(X_train, y_train)\n",
    "poly = svm.SVC(kernel='poly', degree=3, C=1).fit(X_train, y_train)\n",
    "\n",
    "# Prediction Efficiency \n",
    "poly_pred = poly.predict(X_test)\n",
    "rbf_pred = rbf.predict(X_test)\n",
    "\n",
    "# Accuracy and F1 scores for SVM with Polynomial kernel:\n",
    "poly_accuracy = accuracy_score(y_test, poly_pred)\n",
    "poly_f1 = f1_score(y_test, poly_pred, average='weighted')\n",
    "print('Accuracy (Polynomial Kernel): ', \"%.2f\" % (poly_accuracy*100))\n",
    "print('F1 (Polynomial Kernel): ', \"%.2f\" % (poly_f1*100))"
   ]
  },
  {
   "cell_type": "code",
   "execution_count": 11,
   "metadata": {},
   "outputs": [],
   "source": [
    "# ## Code for creating plots\n",
    "# plt.figure(figsize=(15, 5))\n",
    "# plt.subplot(121)\n",
    "# plt.contourf(xx, yy, Z, alpha=0.3)\n",
    "# plt.set_cmap(\"gist_rainbow\") \n",
    "# plt.scatter(X[:, 0], X[:, 1], c=y, cmap=plt.cm.Set1)\n",
    "# plt.xlabel('Sepal length')\n",
    "# plt.ylabel('Sepal width')\n",
    "# plt.xlim(xx.min(), xx.max())\n",
    "# plt.title('Support Vector Classifier with rbf kernel')\n",
    "# plt.plot()"
   ]
  },
  {
   "cell_type": "markdown",
   "metadata": {},
   "source": [
    "### Feature Selection using Random Forest"
   ]
  },
  {
   "cell_type": "code",
   "execution_count": 5,
   "metadata": {},
   "outputs": [],
   "source": [
    "# define dataset\n",
    "# X = dr16.drop(['class'], axis=1)\n",
    "# y = dr16['class']\n",
    "\n",
    "X = dr16[features_band]\n",
    "y = dr16['class']"
   ]
  },
  {
   "cell_type": "code",
   "execution_count": 6,
   "metadata": {
    "scrolled": true
   },
   "outputs": [
    {
     "name": "stdout",
     "output_type": "stream",
     "text": [
      "0.9663004586111921 redshift\n",
      "0.009434508750564133 u\n",
      "0.00788984833711253 g\n",
      "0.0040152164773661425 i\n",
      "0.003948253628556846 z\n",
      "0.0028339574337622147 ra\n",
      "0.002800832387559206 dec\n",
      "0.002776924373886896 r\n"
     ]
    },
    {
     "data": {
      "image/png": "[encoded data removed]",
      "text/plain": [
       "<Figure size 432x288 with 1 Axes>"
      ]
     },
     "metadata": {
      "needs_background": "light"
     },
     "output_type": "display_data"
    }
   ],
   "source": [
    "from sklearn.tree import DecisionTreeClassifier\n",
    "from matplotlib import pyplot\n",
    "\n",
    "# define the model\n",
    "model = DecisionTreeClassifier()\n",
    "# fit the model\n",
    "model.fit(X, y)\n",
    "# get importance\n",
    "importance = model.feature_importances_\n",
    "# summarize feature importance\n",
    "for name, imp in sorted(zip(importance, X.columns),reverse=True):\n",
    "    print(name, imp)\n",
    "# plot feature importance\n",
    "pyplot.bar([x for x in range(len(importance))], importance)\n",
    "pyplot.xticks(ticks=range(len(importance)), labels=X.columns)\n",
    "pyplot.show()"
   ]
  },
  {
   "cell_type": "code",
   "execution_count": 33,
   "metadata": {
    "scrolled": true
   },
   "outputs": [
    {
     "name": "stdout",
     "output_type": "stream",
     "text": [
      "0.6844855857585431 redshift\n",
      "0.08686255295359495 z\n",
      "0.0671658289798447 i\n",
      "0.05059474452297201 r\n",
      "0.04661579761418201 g\n",
      "0.039506995805000035 u\n",
      "0.018279170000959966 ra\n",
      "0.006489324364903239 dec\n"
     ]
    },
    {
     "data": {
      "image/png": "[encoded data removed]",
      "text/plain": [
       "<Figure size 432x288 with 1 Axes>"
      ]
     },
     "metadata": {
      "needs_background": "light"
     },
     "output_type": "display_data"
    }
   ],
   "source": [
    "from sklearn.ensemble import RandomForestClassifier\n",
    "model = RandomForestClassifier(n_estimators=100)\n",
    "# fit the model\n",
    "model.fit(X, y)\n",
    "# get importance\n",
    "importance = model.feature_importances_\n",
    "# summarize feature importance\n",
    "for name, imp in sorted(zip(importance, X.columns),reverse=True):\n",
    "    print(name, imp)\n",
    "# plot feature importance\n",
    "pyplot.bar([x for x in range(len(importance))], importance)\n",
    "pyplot.xticks(ticks=range(len(importance)), labels=X.columns)\n",
    "pyplot.show()"
   ]
  },
  {
   "cell_type": "markdown",
   "metadata": {},
   "source": [
    "### Minmax Scaler"
   ]
  },
  {
   "cell_type": "code",
   "execution_count": 7,
   "metadata": {},
   "outputs": [],
   "source": [
    "from sklearn.preprocessing import MinMaxScaler"
   ]
  },
  {
   "cell_type": "code",
   "execution_count": 8,
   "metadata": {},
   "outputs": [],
   "source": [
    "feature_set = ['redshift', 'z', 'i', 'r', 'g', 'u', 'ra', 'dec']"
   ]
  },
  {
   "cell_type": "code",
   "execution_count": 9,
   "metadata": {},
   "outputs": [
    {
     "data": {
      "text/html": [
       "<div>\n",
       "<style scoped>\n",
       "    .dataframe tbody tr th:only-of-type {\n",
       "        vertical-align: middle;\n",
       "    }\n",
       "\n",
       "    .dataframe tbody tr th {\n",
       "        vertical-align: top;\n",
       "    }\n",
       "\n",
       "    .dataframe thead th {\n",
       "        text-align: right;\n",
       "    }\n",
       "</style>\n",
       "<table border=\"1\" class=\"dataframe\">\n",
       "  <thead>\n",
       "    <tr style=\"text-align: right;\">\n",
       "      <th></th>\n",
       "      <th>redshift</th>\n",
       "      <th>z</th>\n",
       "      <th>i</th>\n",
       "      <th>r</th>\n",
       "      <th>g</th>\n",
       "      <th>u</th>\n",
       "      <th>ra</th>\n",
       "      <th>dec</th>\n",
       "    </tr>\n",
       "  </thead>\n",
       "  <tbody>\n",
       "    <tr>\n",
       "      <th>0</th>\n",
       "      <td>0.000115</td>\n",
       "      <td>16.17639</td>\n",
       "      <td>16.34662</td>\n",
       "      <td>16.55555</td>\n",
       "      <td>17.13867</td>\n",
       "      <td>18.69254</td>\n",
       "      <td>47.372545</td>\n",
       "      <td>0.820621</td>\n",
       "    </tr>\n",
       "    <tr>\n",
       "      <th>1</th>\n",
       "      <td>-0.000093</td>\n",
       "      <td>17.37114</td>\n",
       "      <td>17.32780</td>\n",
       "      <td>17.24116</td>\n",
       "      <td>17.30546</td>\n",
       "      <td>18.47633</td>\n",
       "      <td>116.303083</td>\n",
       "      <td>42.455980</td>\n",
       "    </tr>\n",
       "    <tr>\n",
       "      <th>2</th>\n",
       "      <td>0.000165</td>\n",
       "      <td>15.82471</td>\n",
       "      <td>15.72207</td>\n",
       "      <td>15.55971</td>\n",
       "      <td>15.31072</td>\n",
       "      <td>16.47714</td>\n",
       "      <td>172.756623</td>\n",
       "      <td>-8.785698</td>\n",
       "    </tr>\n",
       "    <tr>\n",
       "      <th>3</th>\n",
       "      <td>0.058155</td>\n",
       "      <td>15.43491</td>\n",
       "      <td>15.70987</td>\n",
       "      <td>16.09825</td>\n",
       "      <td>16.88346</td>\n",
       "      <td>18.63561</td>\n",
       "      <td>201.224207</td>\n",
       "      <td>28.771290</td>\n",
       "    </tr>\n",
       "    <tr>\n",
       "      <th>4</th>\n",
       "      <td>0.072210</td>\n",
       "      <td>17.05235</td>\n",
       "      <td>17.17441</td>\n",
       "      <td>17.47037</td>\n",
       "      <td>17.87948</td>\n",
       "      <td>18.88325</td>\n",
       "      <td>212.817222</td>\n",
       "      <td>26.625225</td>\n",
       "    </tr>\n",
       "  </tbody>\n",
       "</table>\n",
       "</div>"
      ],
      "text/plain": [
       "   redshift         z         i         r         g         u          ra  \\\n",
       "0  0.000115  16.17639  16.34662  16.55555  17.13867  18.69254   47.372545   \n",
       "1 -0.000093  17.37114  17.32780  17.24116  17.30546  18.47633  116.303083   \n",
       "2  0.000165  15.82471  15.72207  15.55971  15.31072  16.47714  172.756623   \n",
       "3  0.058155  15.43491  15.70987  16.09825  16.88346  18.63561  201.224207   \n",
       "4  0.072210  17.05235  17.17441  17.47037  17.87948  18.88325  212.817222   \n",
       "\n",
       "         dec  \n",
       "0   0.820621  \n",
       "1  42.455980  \n",
       "2  -8.785698  \n",
       "3  28.771290  \n",
       "4  26.625225  "
      ]
     },
     "execution_count": 9,
     "metadata": {},
     "output_type": "execute_result"
    }
   ],
   "source": [
    "X = X[feature_set]\n",
    "X.head()"
   ]
  },
  {
   "cell_type": "code",
   "execution_count": 10,
   "metadata": {},
   "outputs": [],
   "source": [
    "scaler = MinMaxScaler()"
   ]
  },
  {
   "cell_type": "code",
   "execution_count": 11,
   "metadata": {},
   "outputs": [],
   "source": [
    "X = scaler.fit_transform(X)"
   ]
  },
  {
   "cell_type": "code",
   "execution_count": 12,
   "metadata": {},
   "outputs": [
    {
     "data": {
      "text/html": [
       "<div>\n",
       "<style scoped>\n",
       "    .dataframe tbody tr th:only-of-type {\n",
       "        vertical-align: middle;\n",
       "    }\n",
       "\n",
       "    .dataframe tbody tr th {\n",
       "        vertical-align: top;\n",
       "    }\n",
       "\n",
       "    .dataframe thead th {\n",
       "        text-align: right;\n",
       "    }\n",
       "</style>\n",
       "<table border=\"1\" class=\"dataframe\">\n",
       "  <thead>\n",
       "    <tr style=\"text-align: right;\">\n",
       "      <th></th>\n",
       "      <th>redshift</th>\n",
       "      <th>z</th>\n",
       "      <th>i</th>\n",
       "      <th>r</th>\n",
       "      <th>g</th>\n",
       "      <th>u</th>\n",
       "      <th>ra</th>\n",
       "      <th>dec</th>\n",
       "    </tr>\n",
       "  </thead>\n",
       "  <tbody>\n",
       "    <tr>\n",
       "      <th>0</th>\n",
       "      <td>0.000606</td>\n",
       "      <td>0.353720</td>\n",
       "      <td>0.321908</td>\n",
       "      <td>0.328493</td>\n",
       "      <td>0.723329</td>\n",
       "      <td>0.899044</td>\n",
       "      <td>0.131559</td>\n",
       "      <td>0.195373</td>\n",
       "    </tr>\n",
       "    <tr>\n",
       "      <th>1</th>\n",
       "      <td>0.000576</td>\n",
       "      <td>0.412183</td>\n",
       "      <td>0.364031</td>\n",
       "      <td>0.358321</td>\n",
       "      <td>0.739479</td>\n",
       "      <td>0.874989</td>\n",
       "      <td>0.323040</td>\n",
       "      <td>0.595767</td>\n",
       "    </tr>\n",
       "    <tr>\n",
       "      <th>2</th>\n",
       "      <td>0.000613</td>\n",
       "      <td>0.336511</td>\n",
       "      <td>0.295095</td>\n",
       "      <td>0.285167</td>\n",
       "      <td>0.546334</td>\n",
       "      <td>0.652563</td>\n",
       "      <td>0.479861</td>\n",
       "      <td>0.102992</td>\n",
       "    </tr>\n",
       "    <tr>\n",
       "      <th>3</th>\n",
       "      <td>0.008879</td>\n",
       "      <td>0.317437</td>\n",
       "      <td>0.294571</td>\n",
       "      <td>0.308597</td>\n",
       "      <td>0.698618</td>\n",
       "      <td>0.892710</td>\n",
       "      <td>0.558941</td>\n",
       "      <td>0.464166</td>\n",
       "    </tr>\n",
       "    <tr>\n",
       "      <th>4</th>\n",
       "      <td>0.010883</td>\n",
       "      <td>0.396583</td>\n",
       "      <td>0.357446</td>\n",
       "      <td>0.368294</td>\n",
       "      <td>0.795059</td>\n",
       "      <td>0.920262</td>\n",
       "      <td>0.591145</td>\n",
       "      <td>0.443528</td>\n",
       "    </tr>\n",
       "  </tbody>\n",
       "</table>\n",
       "</div>"
      ],
      "text/plain": [
       "   redshift         z         i         r         g         u        ra  \\\n",
       "0  0.000606  0.353720  0.321908  0.328493  0.723329  0.899044  0.131559   \n",
       "1  0.000576  0.412183  0.364031  0.358321  0.739479  0.874989  0.323040   \n",
       "2  0.000613  0.336511  0.295095  0.285167  0.546334  0.652563  0.479861   \n",
       "3  0.008879  0.317437  0.294571  0.308597  0.698618  0.892710  0.558941   \n",
       "4  0.010883  0.396583  0.357446  0.368294  0.795059  0.920262  0.591145   \n",
       "\n",
       "        dec  \n",
       "0  0.195373  \n",
       "1  0.595767  \n",
       "2  0.102992  \n",
       "3  0.464166  \n",
       "4  0.443528  "
      ]
     },
     "execution_count": 12,
     "metadata": {},
     "output_type": "execute_result"
    }
   ],
   "source": [
    "X = pd.DataFrame(X, columns=feature_set)\n",
    "X.head(5)"
   ]
  },
  {
   "cell_type": "code",
   "execution_count": 13,
   "metadata": {},
   "outputs": [
    {
     "data": {
      "text/plain": [
       "GALAXY    51323\n",
       "STAR      38096\n",
       "QSO       10581\n",
       "Name: class, dtype: int64"
      ]
     },
     "execution_count": 13,
     "metadata": {},
     "output_type": "execute_result"
    }
   ],
   "source": [
    "y.value_counts()"
   ]
  },
  {
   "cell_type": "code",
   "execution_count": 18,
   "metadata": {},
   "outputs": [
    {
     "name": "stdout",
     "output_type": "stream",
     "text": [
      "Accuracy (Polynomial Kernel):  96.87\n",
      "F1 (Polynomial Kernel):  96.87\n",
      "Accuracy (RBF Kernel):  84.16\n",
      "F1 (RBF Kernel):  84.20\n",
      "Accuracy (Linear Kernel):  82.98\n",
      "F1 (Linear Kernel):  83.06\n"
     ]
    }
   ],
   "source": [
    "X_train, X_test, y_train, y_test = model_selection.train_test_split(X, y, train_size=0.80, test_size=0.20, random_state=101)\n",
    "\n",
    "# rbf = svm.SVC(kernel='rbf', gamma=0.5, C=0.1).fit(X_train, y_train)\n",
    "# linear = svm.SVC(kernel='linear', gamma=0.5, C=0.1).fit(X_train, y_train)\n",
    "poly = svm.SVC(kernel='poly', degree=2, C=1).fit(X_train, y_train)\n",
    "\n",
    "# Prediction Efficiency \n",
    "poly_pred = poly.predict(X_test)\n",
    "# rbf_pred = rbf.predict(X_test)\n",
    "# linear_pred = linear.predict(X_test)\n",
    "\n",
    "# Accuracy and F1 scores for SVM with Polynomial kernel:\n",
    "poly_accuracy = accuracy_score(y_test, poly_pred)\n",
    "poly_f1 = f1_score(y_test, poly_pred, average='weighted')\n",
    "print('Accuracy (Polynomial Kernel): ', \"%.2f\" % (poly_accuracy*100))\n",
    "print('F1 (Polynomial Kernel): ', \"%.2f\" % (poly_f1*100))\n",
    "\n",
    "# Accuracy and F1 scores for SVM with RBF kernel:\n",
    "rbf_accuracy = accuracy_score(y_test, rbf_pred)\n",
    "rbf_f1 = f1_score(y_test, rbf_pred, average='weighted')\n",
    "print('Accuracy (RBF Kernel): ', \"%.2f\" % (rbf_accuracy*100))\n",
    "print('F1 (RBF Kernel): ', \"%.2f\" % (rbf_f1*100))\n",
    "\n",
    "# Accuracy and F1 scores for SVM with Polynomial kernel:\n",
    "lin_accuracy = accuracy_score(y_test, linear_pred)\n",
    "lin_f1 = f1_score(y_test, linear_pred, average='weighted')\n",
    "print('Accuracy (Linear Kernel): ', \"%.2f\" % (lin_accuracy*100))\n",
    "print('F1 (Linear Kernel): ', \"%.2f\" % (lin_f1*100))"
   ]
  },
  {
   "cell_type": "markdown",
   "metadata": {},
   "source": [
    "### Grid Search"
   ]
  },
  {
   "cell_type": "code",
   "execution_count": 23,
   "metadata": {},
   "outputs": [],
   "source": [
    "from sklearn.model_selection import cross_val_score, GridSearchCV\n",
    "from sklearn.svm import SVC"
   ]
  },
  {
   "cell_type": "code",
   "execution_count": 24,
   "metadata": {},
   "outputs": [],
   "source": [
    "params_grid = [{'kernel': ['rbf'], 'gamma': [1e-3, 1e-4],\n",
    "                     'C': [1, 10, 100, 1000]}, {'kernel': ['poly'], 'degree': [2, 3], 'C': [1, 10, 100]},\n",
    "                    {'kernel': ['linear'], 'C': [1, 10, 100, 1000]}]"
   ]
  },
  {
   "cell_type": "code",
   "execution_count": 25,
   "metadata": {},
   "outputs": [
    {
     "data": {
      "text/plain": [
       "GridSearchCV(cv=5, estimator=SVC(),\n",
       "             param_grid=[{'C': [1, 10, 100, 1000], 'gamma': [0.001, 0.0001],\n",
       "                          'kernel': ['rbf']},\n",
       "                         {'C': [1, 10, 100], 'degree': [2, 3],\n",
       "                          'kernel': ['poly']},\n",
       "                         {'C': [1, 10, 100, 1000], 'kernel': ['linear']}])"
      ]
     },
     "execution_count": 25,
     "metadata": {},
     "output_type": "execute_result"
    }
   ],
   "source": [
    "svm_model = GridSearchCV(SVC(), params_grid, cv=5)\n",
    "svm_model.fit(X_train, y_train)"
   ]
  },
  {
   "cell_type": "code",
   "execution_count": 28,
   "metadata": {},
   "outputs": [
    {
     "name": "stdout",
     "output_type": "stream",
     "text": [
      "Best score for training data: 0.985825 \n",
      "\n",
      "Best C: 100 \n",
      "\n",
      "Best Kernel: poly \n",
      "\n",
      "Best Gamma: scale \n",
      "\n"
     ]
    }
   ],
   "source": [
    "# View the accuracy score\n",
    "print('Best score for training data:', svm_model.best_score_,\"\\n\") \n",
    "\n",
    "# View the best parameters for the model found using grid search\n",
    "print('Best C:',svm_model.best_estimator_.C,\"\\n\") \n",
    "print('Best Kernel:',svm_model.best_estimator_.kernel,\"\\n\")\n",
    "print('Best Gamma:',svm_model.best_estimator_.gamma,\"\\n\")\n",
    "\n",
    "final_model = svm_model.best_estimator_\n",
    "Y_pred = final_model.predict(X_test)\n",
    "Y_pred_label = list(Y_pred)"
   ]
  },
  {
   "cell_type": "code",
   "execution_count": 34,
   "metadata": {
    "scrolled": false
   },
   "outputs": [
    {
     "name": "stdout",
     "output_type": "stream",
     "text": [
      "[[10179    30   112]\n",
      " [   94  1992     2]\n",
      " [    1     0  7590]]\n",
      "\n",
      "\n",
      "              precision    recall  f1-score   support\n",
      "\n",
      "      GALAXY       0.99      0.99      0.99     10321\n",
      "         QSO       0.99      0.95      0.97      2088\n",
      "        STAR       0.99      1.00      0.99      7591\n",
      "\n",
      "    accuracy                           0.99     20000\n",
      "   macro avg       0.99      0.98      0.98     20000\n",
      "weighted avg       0.99      0.99      0.99     20000\n",
      "\n",
      "Training set score for SVM: 0.986325\n",
      "Testing  set score for SVM: 0.988050\n"
     ]
    },
    {
     "data": {
      "text/plain": [
       "<bound method BaseSearchCV.score of GridSearchCV(cv=5, estimator=SVC(),\n",
       "             param_grid=[{'C': [1, 10, 100, 1000], 'gamma': [0.001, 0.0001],\n",
       "                          'kernel': ['rbf']},\n",
       "                         {'C': [1, 10, 100], 'degree': [2, 3],\n",
       "                          'kernel': ['poly']},\n",
       "                         {'C': [1, 10, 100, 1000], 'kernel': ['linear']}])>"
      ]
     },
     "execution_count": 34,
     "metadata": {},
     "output_type": "execute_result"
    }
   ],
   "source": [
    "print(confusion_matrix(y_test, Y_pred_label))\n",
    "print(\"\\n\")\n",
    "print(classification_report(y_test,Y_pred_label))\n",
    "\n",
    "print(\"Training set score for SVM: %f\" % final_model.score(X_train , y_train))\n",
    "print(\"Testing  set score for SVM: %f\" % final_model.score(X_test  , y_test ))\n",
    "\n",
    "svm_model.score"
   ]
  },
  {
   "cell_type": "code",
   "execution_count": null,
   "metadata": {},
   "outputs": [],
   "source": []
  }
 ],
 "metadata": {
  "kernelspec": {
   "display_name": "Python 3",
   "language": "python",
   "name": "python3"
  },
  "language_info": {
   "codemirror_mode": {
    "name": "ipython",
    "version": 3
   },
   "file_extension": ".py",
   "mimetype": "text/x-python",
   "name": "python",
   "nbconvert_exporter": "python",
   "pygments_lexer": "ipython3",
   "version": "3.8.6"
  },
  "metadata": {
   "interpreter": {
    "hash": "082e9a3bcad0a290d0001e938aa60b99250c6c2ef33a923c00b70f9826caf4b7"
   }
  }
 },
 "nbformat": 4,
 "nbformat_minor": 2
}
