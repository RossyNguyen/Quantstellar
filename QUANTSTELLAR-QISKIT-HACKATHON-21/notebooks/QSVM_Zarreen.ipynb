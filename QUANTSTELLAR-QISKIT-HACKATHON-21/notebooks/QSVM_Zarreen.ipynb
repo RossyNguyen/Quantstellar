{
 "cells": [
  {
   "cell_type": "code",
   "execution_count": 112,
   "metadata": {},
   "outputs": [],
   "source": [
    "import matplotlib.pyplot as plt\n",
    "import numpy as np\n",
    "import pandas as pd\n",
    "from qiskit import BasicAer\n",
    "from qiskit.circuit.library import ZZFeatureMap, ZFeatureMap, PauliFeatureMap\n",
    "\n",
    "from qiskit.aqua import QuantumInstance, aqua_globals\n",
    "from qiskit.aqua.algorithms import QSVM, VQC\n",
    "from qiskit.aqua.utils import split_dataset_to_data_and_labels, map_label_to_class_name\n",
    "\n",
    "seed = 10599\n",
    "aqua_globals.random_seed = seed\n",
    "\n",
    "import sys\n",
    "import os\n",
    "from pathlib import Path\n",
    "import pickle\n",
    "import numpy as np\n",
    "import time\n",
    "import sklearn.model_selection as model_selection\n",
    "from sklearn.decomposition import PCA\n",
    "main_folder=str(Path.cwd().parent) \n",
    "sys.path.append(main_folder) \n",
    "data_folder = f'{main_folder}/data'\n"
   ]
  },
  {
   "cell_type": "markdown",
   "metadata": {},
   "source": [
    "# TO-DO:\n",
    "\n",
    "- Improve the accuracy via Feature Engineer or Hyperparam\n",
    "- Try with 3 classes (STAR, GALAXY , QSOR)\n",
    "- Try with more data (currently training is 100 and test is 40 and test extra is 20)"
   ]
  },
  {
   "cell_type": "markdown",
   "metadata": {},
   "source": [
    "## Loading the processed data DR16_Processed"
   ]
  },
  {
   "cell_type": "code",
   "execution_count": 120,
   "metadata": {},
   "outputs": [],
   "source": [
    "#Load the data from pickle file\n",
    "\n",
    "with open(f'{data_folder}/processed/DR16_processed_X.pkl','rb') as input_file:\n",
    "    X = pickle.load(input_file)\n",
    "with open(f'{data_folder}/processed/DR16_processed_y.pkl','rb') as input_file:\n",
    "    y = pickle.load(input_file)\n",
    "\n",
    "# You can also load the csv file but bewared of the datatype   \n",
    "# X = pd.read_csv(f'{data_folder}/processed/DR16_processed_X.csv')\n",
    "# y = pd.read_csv(f'{data_folder}/processed/DR16_processed_y.csv')"
   ]
  },
  {
   "cell_type": "code",
   "execution_count": 9,
   "metadata": {},
   "outputs": [
    {
     "name": "stdout",
     "output_type": "stream",
     "text": [
      "100000\n",
      "100000\n"
     ]
    }
   ],
   "source": [
    "print(len(X))\n",
    "print(len(y))"
   ]
  },
  {
   "cell_type": "code",
   "execution_count": 121,
   "metadata": {},
   "outputs": [],
   "source": [
    "# Create binary target for 1st trial\n",
    "y_star = y.apply(lambda x: \"STAR\" if x == \"STAR\" else \"NOT_STAR\")\n",
    "class_labels_Star = list(set(y_star))\n",
    "y_star_num =  y_star.apply(lambda x: 1 if x == \"STAR\" else 0)"
   ]
  },
  {
   "cell_type": "code",
   "execution_count": 131,
   "metadata": {},
   "outputs": [
    {
     "name": "stdout",
     "output_type": "stream",
     "text": [
      "(100, 8)\n",
      "(40, 8)\n",
      "(19, 8)\n"
     ]
    }
   ],
   "source": [
    "#Create training_dataset and test_dataset with STAR and NOT_STAR\n",
    "X_train, X_test, y_train, y_test = model_selection.train_test_split(X, y_star_num, train_size=0.001, test_size=0.99, random_state=101)\n",
    "\n",
    "# Create 1st test data\n",
    "X_test_40 = X_test.iloc[:40].copy()\n",
    "y_test_40 = y_test.iloc[:40].copy()\n",
    "\n",
    "# 2nd test data \n",
    "X_test_extra = X_test.iloc[41:60].copy()\n",
    "y_test_extra = y_test.iloc[41:60].copy()\n",
    "\n",
    "print(X_train.shape)\n",
    "print(X_test_40.shape)\n",
    "print(X_test_extra.shape)"
   ]
  },
  {
   "cell_type": "code",
   "execution_count": 132,
   "metadata": {
    "scrolled": true
   },
   "outputs": [
    {
     "data": {
      "image/png": "[encoded data removed]",
      "text/plain": [
       "<Figure size 432x288 with 1 Axes>"
      ]
     },
     "metadata": {
      "needs_background": "light"
     },
     "output_type": "display_data"
    },
    {
     "data": {
      "image/png": "[encoded data removed]",
      "text/plain": [
       "<Figure size 432x288 with 1 Axes>"
      ]
     },
     "metadata": {
      "needs_background": "light"
     },
     "output_type": "display_data"
    }
   ],
   "source": [
    "# Now reduce number of features to number of qubits\n",
    "pca = PCA(n_components=2).fit(X_train)\n",
    "X_train = pca.transform(X_train)\n",
    "X_test_40 = pca.transform(X_test_40)\n",
    "X_test_extra = pca.transform(X_test_extra)\n",
    "\n",
    "# Create datapoint[X_test,y]\n",
    "datapoints = [np.array(X_test_extra),np.array(y_test_extra)]\n",
    "# If class labels are numeric\n",
    "training_size = len(X_train)\n",
    "test_size = len(X_test_40)\n",
    "test_size_extra = len(X_test_extra)\n",
    "\n",
    "#this is where I transform our dataframe to Dict[key:np.array]\n",
    "if class_labels_Star[0].isdigit():\n",
    "        # Pick training size number of samples from each distro\n",
    "    training_input = {key: (X_train[y_train == int(key), :])[:training_size] for k, key in enumerate(class_labels_Star)}\n",
    "    #test_input_extra = {key: (X_test_extra[y_test_extra == int(key), :])[:test_size_extra] for k, key in enumerate(class_labels_Star)}\n",
    "    test_input = {key: (X_test_40[y_test == int(key), :])[: test_size] for k, key in enumerate(class_labels_Star)}\n",
    "else:\n",
    "    # if they aren't\n",
    "    training_input = {key: (X_train[y_train == k, :])[:training_size] for k, key in enumerate(class_labels_Star)}\n",
    "    #test_input_extra = {key: (X_test_extra[y_test_extra == k, :])[:test_size_extra] for k, key in enumerate(class_labels_Star)}\n",
    "    test_input = {key: (X_test_40[y_test_40 == k, :])[:test_size] for k, key in enumerate(class_labels_Star)}\n",
    "\n",
    "# Plot the 2 dimension result of PCA to check for correlation \n",
    "for k in range(0, 2):\n",
    "    plt.scatter(X_train[y_train == k, 0][:training_size],\n",
    "    X_train[y_train == k, 1][:training_size])\n",
    "       \n",
    "    plt.title(\"PCA dim. reduced user dataset\")\n",
    "    plt.show()   "
   ]
  },
  {
   "cell_type": "markdown",
   "metadata": {},
   "source": [
    "With the dataset ready we can setup the [QSVM](https://qiskit.org/documentation/stubs/qiskit.aqua.algorithms.QSVM.html) algorithm to do a classification. Here we use the [ZZFeatureMap](https://qiskit.org/documentation/stubs/qiskit.circuit.library.ZZFeatureMap.html) data encoding circuit from the Qiskit circuit library.\n",
    "\n",
    "Here the BasicAer `qasm_simulator` is used with 1024 shots.\n",
    "\n",
    "For the testing, the result includes the details and the success ratio. For the prediction, the result includes the predicted labels. "
   ]
  },
  {
   "cell_type": "markdown",
   "metadata": {},
   "source": [
    " QSVM\n",
    " \"\"\"\n",
    "        Args:\n",
    "            feature_map: Feature map module, used to transform data\n",
    "            training_dataset: Training dataset.\n",
    "            test_dataset: Testing dataset.\n",
    "            datapoints: Prediction dataset.\n",
    "            multiclass_extension: If number of classes is greater than 2 then a multiclass scheme\n",
    "                must be supplied, in the form of a multiclass extension.\n",
    "            lambda2: L2 norm regularization factor\n",
    "            quantum_instance: Quantum Instance or Backend"
   ]
  },
  {
   "cell_type": "code",
   "execution_count": 133,
   "metadata": {},
   "outputs": [
    {
     "name": "stdout",
     "output_type": "stream",
     "text": [
      "59\n"
     ]
    }
   ],
   "source": [
    "print(len(training_input['STAR']))"
   ]
  },
  {
   "cell_type": "code",
   "execution_count": 135,
   "metadata": {},
   "outputs": [
    {
     "name": "stdout",
     "output_type": "stream",
     "text": [
      "run time is: 46.28296256065369\n",
      "Testing success ratio: 0.425\n",
      "\n",
      "Prediction from datapoints set:\n",
      "  ground truth: ['NOT_STAR', 'NOT_STAR', 'STAR', 'NOT_STAR', 'NOT_STAR', 'NOT_STAR', 'NOT_STAR', 'NOT_STAR', 'STAR', 'NOT_STAR', 'STAR', 'NOT_STAR', 'STAR', 'STAR', 'STAR', 'STAR', 'STAR', 'NOT_STAR', 'STAR']\n",
      "  prediction:   ['STAR', 'NOT_STAR', 'NOT_STAR', 'STAR', 'NOT_STAR', 'NOT_STAR', 'NOT_STAR', 'NOT_STAR', 'NOT_STAR', 'NOT_STAR', 'NOT_STAR', 'NOT_STAR', 'NOT_STAR', 'STAR', 'NOT_STAR', 'STAR', 'STAR', 'NOT_STAR', 'STAR']\n",
      "  success rate: 63.1578947368421%\n"
     ]
    }
   ],
   "source": [
    "feature_dim = 2\n",
    "\n",
    "feature_map = ZZFeatureMap(feature_dimension=feature_dim, reps=2, entanglement='linear')\n",
    "qsvm = QSVM(feature_map, training_input, test_input, datapoints[0])\n",
    "\n",
    "backend = BasicAer.get_backend('qasm_simulator')\n",
    "quantum_instance = QuantumInstance(backend, shots=1024, seed_simulator=seed, seed_transpiler=seed)\n",
    "start_run_qsvm = time.time()\n",
    "result = qsvm.run(quantum_instance)\n",
    "end_run_qsvm = time.time()\n",
    "print(f'run time is: {end_run_qsvm - start_run_qsvm}')\n",
    "\n",
    "print(f'Testing success ratio: {result[\"testing_accuracy\"]}')\n",
    "print()\n",
    "print('Prediction from datapoints set:')\n",
    "print(f'  ground truth: {map_label_to_class_name(datapoints[1], qsvm.label_to_class)}')\n",
    "print(f'  prediction:   {result[\"predicted_classes\"]}')\n",
    "predicted_labels = result[\"predicted_labels\"]\n",
    "print(f'  success rate: {100*np.count_nonzero(predicted_labels == datapoints[1])/len(predicted_labels)}%')"
   ]
  },
  {
   "cell_type": "markdown",
   "metadata": {},
   "source": [
    "Qiskit also has a classical SVM implementation that takes the same input data for classification. Let's run this and do a comparison. Now the ad hoc data set was created to show that there can be datasets where quantum could give an advantage."
   ]
  },
  {
   "cell_type": "markdown",
   "metadata": {},
   "source": [
    "## New"
   ]
  },
  {
   "cell_type": "code",
   "execution_count": 165,
   "metadata": {},
   "outputs": [],
   "source": [
    "def split_balanced(data, target, train_size=100, test_size=60):\n",
    "    \n",
    "    np.random.seed(0)\n",
    "\n",
    "    classes = np.unique(target)\n",
    "    # can give test_size as fraction of input data size of number of samples\n",
    "    if test_size<1:\n",
    "        n_test = np.round(len(target)*test_size)\n",
    "    else:\n",
    "        n_test = test_size\n",
    "    n_train = train_size #max(0,len(target)-n_test)\n",
    "    n_train_per_class = max(1,int(np.floor(n_train/len(classes))))\n",
    "    n_test_per_class = max(1,int(np.floor(n_test/len(classes))))\n",
    "\n",
    "    ixs = []\n",
    "    for cl in classes:\n",
    "        if (n_train_per_class+n_test_per_class) > np.sum(target==cl):\n",
    "            # if data has too few samples for this class, do upsampling\n",
    "            # split the data to training and testing before sampling so data points won't be\n",
    "            #  shared among training and test data\n",
    "            splitix = int(np.ceil(n_train_per_class/(n_train_per_class+n_test_per_class)*np.sum(target==cl)))\n",
    "            ixs.append(np.r_[np.random.choice(np.nonzero(target==cl)[0][:splitix], n_train_per_class),\n",
    "                np.random.choice(np.nonzero(target==cl)[0][splitix:], n_test_per_class)])\n",
    "        else:\n",
    "            ixs.append(np.random.choice(np.nonzero(target==cl)[0], n_train_per_class+n_test_per_class,\n",
    "                replace=False))\n",
    "\n",
    "    # take same num of samples from all classes\n",
    "    ix_train = np.concatenate([x[:n_train_per_class] for x in ixs])\n",
    "    ix_test = np.concatenate([x[n_train_per_class:(n_train_per_class+n_test_per_class)] for x in ixs])\n",
    "\n",
    "    X_train = data[ix_train,:]\n",
    "    X_test = data[ix_test,:]\n",
    "    y_train = target[ix_train]\n",
    "    y_test = target[ix_test]\n",
    "\n",
    "    return X_train, X_test, y_train, y_test"
   ]
  },
  {
   "cell_type": "code",
   "execution_count": 4,
   "metadata": {},
   "outputs": [
    {
     "name": "stdout",
     "output_type": "stream",
     "text": [
      "     ┌───┐┌──────────────┐                                           ┌───┐»\n",
      "q_0: ┤ H ├┤ U1(2.0*x[0]) ├──■─────────────────────────────────────■──┤ H ├»\n",
      "     ├───┤├──────────────┤┌─┴─┐┌───────────────────────────────┐┌─┴─┐├───┤»\n",
      "q_1: ┤ H ├┤ U1(2.0*x[1]) ├┤ X ├┤ U1(2.0*(π - x[0])*(π - x[1])) ├┤ X ├┤ H ├»\n",
      "     └───┘└──────────────┘└───┘└───────────────────────────────┘└───┘└───┘»\n",
      "«     ┌──────────────┐                                           \n",
      "«q_0: ┤ U1(2.0*x[0]) ├──■─────────────────────────────────────■──\n",
      "«     ├──────────────┤┌─┴─┐┌───────────────────────────────┐┌─┴─┐\n",
      "«q_1: ┤ U1(2.0*x[1]) ├┤ X ├┤ U1(2.0*(π - x[0])*(π - x[1])) ├┤ X ├\n",
      "«     └──────────────┘└───┘└───────────────────────────────┘└───┘\n"
     ]
    }
   ],
   "source": [
    "prep = ZZFeatureMap(2, reps=2)\n",
    "print(prep)"
   ]
  },
  {
   "cell_type": "code",
   "execution_count": 5,
   "metadata": {
    "scrolled": false
   },
   "outputs": [
    {
     "name": "stdout",
     "output_type": "stream",
     "text": [
      "     ┌───┐┌──────────────┐                                           ┌───┐»\n",
      "q_0: ┤ H ├┤ U1(2.0*x[0]) ├──■─────────────────────────────────────■──┤ H ├»\n",
      "     ├───┤├──────────────┤┌─┴─┐┌───────────────────────────────┐┌─┴─┐├───┤»\n",
      "q_1: ┤ H ├┤ U1(2.0*x[1]) ├┤ X ├┤ U1(2.0*(π - x[0])*(π - x[1])) ├┤ X ├┤ H ├»\n",
      "     └───┘└──────────────┘└───┘└───────────────────────────────┘└───┘└───┘»\n",
      "«     ┌──────────────┐                                           ┌───┐»\n",
      "«q_0: ┤ U1(2.0*x[0]) ├──■─────────────────────────────────────■──┤ H ├»\n",
      "«     ├──────────────┤┌─┴─┐┌───────────────────────────────┐┌─┴─┐├───┤»\n",
      "«q_1: ┤ U1(2.0*x[1]) ├┤ X ├┤ U1(2.0*(π - x[0])*(π - x[1])) ├┤ X ├┤ H ├»\n",
      "«     └──────────────┘└───┘└───────────────────────────────┘└───┘└───┘»\n",
      "«     ┌──────────────┐                                           \n",
      "«q_0: ┤ U1(2.0*x[0]) ├──■─────────────────────────────────────■──\n",
      "«     ├──────────────┤┌─┴─┐┌───────────────────────────────┐┌─┴─┐\n",
      "«q_1: ┤ U1(2.0*x[1]) ├┤ X ├┤ U1(2.0*(π - x[0])*(π - x[1])) ├┤ X ├\n",
      "«     └──────────────┘└───┘└───────────────────────────────┘└───┘\n"
     ]
    }
   ],
   "source": [
    "prep = ZZFeatureMap(2, reps=3)\n",
    "print(prep)"
   ]
  },
  {
   "cell_type": "code",
   "execution_count": 136,
   "metadata": {},
   "outputs": [],
   "source": [
    "with open(f'{data_folder}/processed/DR16_processed_X.pkl','rb') as input_file:\n",
    "    X = pickle.load(input_file)\n",
    "with open(f'{data_folder}/processed/DR16_processed_y.pkl','rb') as input_file:\n",
    "    y = pickle.load(input_file)\n"
   ]
  },
  {
   "cell_type": "code",
   "execution_count": 137,
   "metadata": {},
   "outputs": [
    {
     "data": {
      "text/plain": [
       "array(['STAR', 'STAR', 'STAR', ..., 'GALAXY', 'GALAXY', 'STAR'],\n",
       "      dtype=object)"
      ]
     },
     "execution_count": 137,
     "metadata": {},
     "output_type": "execute_result"
    }
   ],
   "source": [
    "y.values"
   ]
  },
  {
   "cell_type": "code",
   "execution_count": 138,
   "metadata": {},
   "outputs": [],
   "source": [
    "from sklearn.preprocessing import LabelEncoder\n",
    "le = LabelEncoder()\n",
    "y_num = le.fit_transform(y.values)"
   ]
  },
  {
   "cell_type": "code",
   "execution_count": 139,
   "metadata": {},
   "outputs": [
    {
     "data": {
      "text/plain": [
       "{'GALAXY', 'QSO', 'STAR'}"
      ]
     },
     "execution_count": 139,
     "metadata": {},
     "output_type": "execute_result"
    }
   ],
   "source": [
    "set(y)"
   ]
  },
  {
   "cell_type": "markdown",
   "metadata": {},
   "source": [
    "### Imbalanced Dataset"
   ]
  },
  {
   "cell_type": "code",
   "execution_count": 61,
   "metadata": {},
   "outputs": [
    {
     "name": "stdout",
     "output_type": "stream",
     "text": [
      "(100, 8)\n",
      "(40, 8)\n",
      "(20, 8)\n",
      "(100,)\n",
      "(40,)\n",
      "(20,)\n"
     ]
    }
   ],
   "source": [
    "#Create training_dataset and test_dataset with STAR and NOT_STAR\n",
    "X_train, X_test, y_train, y_test = model_selection.train_test_split(X, y_num, train_size=0.001, test_size=0.0006, random_state=101, stratify=y_num)\n",
    "\n",
    "X_val = X_test[0:40]\n",
    "X_pred = X_test[40:60]\n",
    "y_val = y_test[0:40]\n",
    "y_pred = y_test[40:60]\n",
    "\n",
    "print(X_train.shape)\n",
    "print(X_val.shape)\n",
    "print(X_pred.shape)\n",
    "\n",
    "\n",
    "print(y_train.shape)\n",
    "print(y_val.shape)\n",
    "print(y_pred.shape)\n"
   ]
  },
  {
   "cell_type": "code",
   "execution_count": 58,
   "metadata": {},
   "outputs": [
    {
     "data": {
      "text/plain": [
       "array([[ 0, 51],\n",
       "       [ 1, 11],\n",
       "       [ 2, 38]], dtype=int64)"
      ]
     },
     "execution_count": 58,
     "metadata": {},
     "output_type": "execute_result"
    }
   ],
   "source": [
    "(unique, counts) = np.unique(y_train, return_counts=True)\n",
    "frequencies = np.asarray((unique, counts)).T\n",
    "frequencies"
   ]
  },
  {
   "cell_type": "markdown",
   "metadata": {},
   "source": [
    "### Balanced Dataset"
   ]
  },
  {
   "cell_type": "code",
   "execution_count": 167,
   "metadata": {},
   "outputs": [
    {
     "name": "stdout",
     "output_type": "stream",
     "text": [
      "(99, 8)\n",
      "(60, 8)\n",
      "(99,)\n",
      "(60,)\n"
     ]
    }
   ],
   "source": [
    "X_train, X_test, y_train, y_test = split_balanced(np.array(X), y_num, train_size=100, test_size=60)\n",
    "\n",
    "# X_val = X_test[0:40]\n",
    "# X_pred = X_test[40:60]\n",
    "# y_val = y_test[0:40]\n",
    "# y_pred = y_test[40:60]\n",
    "\n",
    "print(X_train.shape)\n",
    "print(X_test.shape)\n",
    "# print(X_pred.shape)\n",
    "\n",
    "\n",
    "print(y_train.shape)\n",
    "print(y_test.shape)\n",
    "# print(y_pred.shape)\n"
   ]
  },
  {
   "cell_type": "code",
   "execution_count": 168,
   "metadata": {},
   "outputs": [
    {
     "name": "stdout",
     "output_type": "stream",
     "text": [
      " Training data distribution\n",
      " [[ 0 33]\n",
      " [ 1 33]\n",
      " [ 2 33]]\n",
      " Test data distribution\n",
      " [[ 0 20]\n",
      " [ 1 20]\n",
      " [ 2 20]]\n"
     ]
    }
   ],
   "source": [
    "(unique, counts) = np.unique(y_train, return_counts=True)\n",
    "frequencies = np.asarray((unique, counts)).T\n",
    "print(\" Training data distribution\\n\", frequencies)\n",
    "\n",
    "(unique, counts) = np.unique(y_test, return_counts=True)\n",
    "frequencies = np.asarray((unique, counts)).T\n",
    "print(\" Test data distribution\\n\", frequencies)"
   ]
  },
  {
   "cell_type": "code",
   "execution_count": 142,
   "metadata": {},
   "outputs": [
    {
     "data": {
      "text/plain": [
       "['STAR', 'QSO', 'GALAXY']"
      ]
     },
     "execution_count": 142,
     "metadata": {},
     "output_type": "execute_result"
    }
   ],
   "source": [
    "class_labels = list(set(y))\n",
    "class_labels"
   ]
  },
  {
   "cell_type": "markdown",
   "metadata": {},
   "source": [
    "### Dimensionality Reduction"
   ]
  },
  {
   "cell_type": "code",
   "execution_count": 169,
   "metadata": {
    "scrolled": true
   },
   "outputs": [],
   "source": [
    "pca = PCA(n_components=3).fit(X_train)\n",
    "X_train = pca.transform(X_train)\n",
    "X_test = pca.transform(X_test)\n",
    "# X_pred = pca.transform(X_pred)\n",
    "\n",
    "# Create datapoint[X_test,y]\n",
    "datapoints = [np.array(X_test),np.array(y_test)]\n",
    "# If class labels are numeric\n",
    "training_size = len(X_train)\n",
    "test_size = len(X_test)\n",
    "\n",
    "#this is where I transform our dataframe to Dict[key:np.array]\n",
    "if class_labels[0].isdigit():\n",
    "        # Pick training size number of samples from each distro\n",
    "    training_input = {key: (X_train[y_train == int(key), :])[:training_size] for k, key in enumerate(class_labels)}\n",
    "    #test_input_extra = {key: (X_test_extra[y_test_extra == int(key), :])[:test_size_extra] for k, key in enumerate(class_labels_Star)}\n",
    "    test_input = {key: (X_test[y_test == int(key), :])[: test_size] for k, key in enumerate(class_labels)}\n",
    "else:\n",
    "    # if they aren't\n",
    "    training_input = {key: (X_train[y_train == k, :])[:training_size] for k, key in enumerate(class_labels)}\n",
    "    #test_input_extra = {key: (X_test_extra[y_test_extra == k, :])[:test_size_extra] for k, key in enumerate(class_labels_Star)}\n",
    "    test_input = {key: (X_test[y_test == k, :])[:test_size] for k, key in enumerate(class_labels)}\n"
   ]
  },
  {
   "cell_type": "code",
   "execution_count": 170,
   "metadata": {
    "scrolled": false
   },
   "outputs": [
    {
     "name": "stdout",
     "output_type": "stream",
     "text": [
      "93.6041527733398\n"
     ]
    },
    {
     "data": {
      "application/vnd.plotly.v1+json": {
       "config": {
        "plotlyServerURL": "https://plot.ly"
       },
       "data": [
        {
         "hovertemplate": "0=%{x}<br>1=%{y}<br>color=%{marker.color}<extra></extra>",
         "legendgroup": "",
         "marker": {
          "color": [
           0,
           0,
           0,
           0,
           0,
           0,
           0,
           0,
           0,
           0,
           0,
           0,
           0,
           0,
           0,
           0,
           0,
           0,
           0,
           0,
           0,
           0,
           0,
           0,
           0,
           0,
           0,
           0,
           0,
           0,
           0,
           0,
           0,
           1,
           1,
           1,
           1,
           1,
           1,
           1,
           1,
           1,
           1,
           1,
           1,
           1,
           1,
           1,
           1,
           1,
           1,
           1,
           1,
           1,
           1,
           1,
           1,
           1,
           1,
           1,
           1,
           1,
           1,
           1,
           1,
           1,
           2,
           2,
           2,
           2,
           2,
           2,
           2,
           2,
           2,
           2,
           2,
           2,
           2,
           2,
           2,
           2,
           2,
           2,
           2,
           2,
           2,
           2,
           2,
           2,
           2,
           2,
           2,
           2,
           2,
           2,
           2,
           2,
           2
          ],
          "coloraxis": "coloraxis",
          "symbol": "circle"
         },
         "mode": "markers",
         "name": "",
         "orientation": "v",
         "showlegend": false,
         "type": "scatter",
         "x": [
          0.10197702844502061,
          -0.476555275089527,
          0.07802164990138995,
          -0.02379506160796783,
          0.052491469358537116,
          -0.07874848808476105,
          0.2881186497961445,
          0.4756569646616012,
          -0.030015958715980715,
          0.4451463256511627,
          -0.0766293217880793,
          -0.09674794305495298,
          -0.03706145647865015,
          -0.2044253572945369,
          0.16637072827716765,
          -0.13941173306758317,
          0.041857987914429254,
          0.16852826901092136,
          0.022441301875594875,
          0.2592082332491216,
          0.21520742280126715,
          -0.07281492673609068,
          0.033666652469645994,
          0.10184015234528696,
          0.09976630632723871,
          0.49372349048790065,
          0.08053519820246173,
          0.018230858623077495,
          -0.16569825369569055,
          -0.08337510408819689,
          0.07913608836709711,
          -0.16619830821274023,
          -0.22506931365749114,
          -0.3385681361699914,
          -0.3054716479138592,
          -0.2965032871046613,
          -0.15092349040326655,
          -0.10500095010608006,
          -0.12242104493933485,
          -0.12453828530574311,
          -0.08470060812219664,
          -0.1862346546645374,
          -0.14498614377733382,
          -0.2667981866087986,
          -0.20147994303604044,
          -0.24044804234278025,
          -0.2096313318080145,
          0.028725532100577583,
          -0.12492758622871157,
          -0.17881083220693955,
          -0.12291301318943074,
          -0.053462225293113334,
          0.09864789817540598,
          -0.11668996416577652,
          -0.033324643196983125,
          -0.15956492370746375,
          0.1624531434809,
          -0.3664954107027445,
          -0.2336536292610086,
          -0.03874477193884552,
          -0.3722189726361814,
          -0.14483208984865908,
          -0.257239453602752,
          -0.04935079302356792,
          0.1096064059297017,
          -0.18702138089526166,
          -0.10403862903849616,
          -0.0675637277408729,
          0.15102099982170913,
          0.35639989277617673,
          0.21956539154300517,
          0.9880882596135567,
          0.33933517401172586,
          -0.08065191962285209,
          -0.1585901669004082,
          0.08004081457918451,
          0.8488748694881549,
          -0.002574563124475804,
          0.20120880596945714,
          0.2680421071220611,
          0.01027841312859607,
          0.21653474047689808,
          -0.3077400753900732,
          0.04522138069097227,
          0.09853997991989505,
          -0.08496840336764827,
          -0.07659911151241239,
          -0.21555027975511507,
          0.16109336091142154,
          0.26998552041218676,
          0.15701297639901315,
          0.2810341452401586,
          -0.03668857297397203,
          0.07304913142857962,
          -0.009270444555870658,
          -0.12476584352978666,
          0.22157706416838457,
          -0.15706507786947174,
          -0.08869202599905077
         ],
         "xaxis": "x",
         "y": [
          -0.14051592883035893,
          0.36909623787300977,
          0.06998096142541523,
          0.11725396258879021,
          0.26831147623985824,
          0.19696871923148515,
          0.1970878536741504,
          0.0232836551791893,
          0.08394461219011005,
          -0.04538617012435307,
          -0.17735810236463517,
          -0.05193928150775878,
          0.00031760387279855404,
          0.18354013356758891,
          -0.10409134204885648,
          0.0185575822084171,
          -0.28355227399360533,
          0.03915713511073239,
          -0.0031208701791303646,
          0.08974587031650258,
          -0.1958332133048082,
          0.1883188613346511,
          -0.10604685860914818,
          0.15682595332243687,
          -0.010835074793515054,
          -0.03050441295763641,
          -0.21249292279243975,
          0.07813162688934139,
          0.029967923810635802,
          0.17550418626216885,
          0.11893553612160815,
          0.1876990347436582,
          0.1408056293467631,
          0.10490300701759564,
          -0.04220381494640634,
          -0.0071919828503062035,
          -0.333302072231835,
          -0.24713554772515628,
          -0.2376306644572746,
          -0.16170752067153332,
          0.02698099880705824,
          -0.2867434918158983,
          -0.23187116901212249,
          0.017670627935764634,
          -0.38643418076116576,
          -0.2517752639242069,
          -0.06321513605280847,
          -0.0923606547512197,
          -0.004788618233651285,
          -0.055759301912455365,
          0.0576438222273665,
          -0.21449583035674352,
          0.022385370881079926,
          -0.023040947919248933,
          -0.0011623635722849783,
          0.21519363801186997,
          -0.35435753197866005,
          0.1407765427560537,
          -0.0447233185032246,
          -0.04753990025204416,
          0.13900005380621044,
          -0.08241427039587192,
          -0.2755460787647129,
          -0.08141969724729278,
          -0.17635987449203852,
          -0.08789412820686054,
          0.2137112572193564,
          0.4630977077710183,
          -0.14982648596896578,
          -0.28902266757505074,
          -0.12971452172773276,
          0.3566203090993636,
          -0.06274197877564286,
          -0.17286052625164616,
          0.22814787784887053,
          0.33941528326390785,
          0.2987485892246976,
          -0.2369543525097257,
          -0.1645177106993908,
          -0.21444163501674005,
          0.12425430234780716,
          0.32374224302128435,
          0.6100721281088337,
          -0.24899397874206033,
          -0.1833841763871451,
          0.20206099746711337,
          0.2559018414100566,
          0.3065890328617709,
          -0.13038190617720177,
          -0.4261241561446647,
          -0.13821988599365348,
          0.3140632199819245,
          0.09267746757894467,
          0.09593832874332407,
          -0.26622373970580004,
          -0.14850061010330717,
          0.3694984107793622,
          0.24442048418061266,
          -0.18228995334057332
         ],
         "yaxis": "y"
        }
       ],
       "layout": {
        "coloraxis": {
         "colorbar": {
          "title": {
           "text": "color"
          }
         },
         "colorscale": [
          [
           0,
           "#0d0887"
          ],
          [
           0.1111111111111111,
           "#46039f"
          ],
          [
           0.2222222222222222,
           "#7201a8"
          ],
          [
           0.3333333333333333,
           "#9c179e"
          ],
          [
           0.4444444444444444,
           "#bd3786"
          ],
          [
           0.5555555555555556,
           "#d8576b"
          ],
          [
           0.6666666666666666,
           "#ed7953"
          ],
          [
           0.7777777777777778,
           "#fb9f3a"
          ],
          [
           0.8888888888888888,
           "#fdca26"
          ],
          [
           1,
           "#f0f921"
          ]
         ]
        },
        "legend": {
         "tracegroupgap": 0
        },
        "margin": {
         "t": 60
        },
        "template": {
         "data": {
          "bar": [
           {
            "error_x": {
             "color": "#2a3f5f"
            },
            "error_y": {
             "color": "#2a3f5f"
            },
            "marker": {
             "line": {
              "color": "#E5ECF6",
              "width": 0.5
             }
            },
            "type": "bar"
           }
          ],
          "barpolar": [
           {
            "marker": {
             "line": {
              "color": "#E5ECF6",
              "width": 0.5
             }
            },
            "type": "barpolar"
           }
          ],
          "carpet": [
           {
            "aaxis": {
             "endlinecolor": "#2a3f5f",
             "gridcolor": "white",
             "linecolor": "white",
             "minorgridcolor": "white",
             "startlinecolor": "#2a3f5f"
            },
            "baxis": {
             "endlinecolor": "#2a3f5f",
             "gridcolor": "white",
             "linecolor": "white",
             "minorgridcolor": "white",
             "startlinecolor": "#2a3f5f"
            },
            "type": "carpet"
           }
          ],
          "choropleth": [
           {
            "colorbar": {
             "outlinewidth": 0,
             "ticks": ""
            },
            "type": "choropleth"
           }
          ],
          "contour": [
           {
            "colorbar": {
             "outlinewidth": 0,
             "ticks": ""
            },
            "colorscale": [
             [
              0,
              "#0d0887"
             ],
             [
              0.1111111111111111,
              "#46039f"
             ],
             [
              0.2222222222222222,
              "#7201a8"
             ],
             [
              0.3333333333333333,
              "#9c179e"
             ],
             [
              0.4444444444444444,
              "#bd3786"
             ],
             [
              0.5555555555555556,
              "#d8576b"
             ],
             [
              0.6666666666666666,
              "#ed7953"
             ],
             [
              0.7777777777777778,
              "#fb9f3a"
             ],
             [
              0.8888888888888888,
              "#fdca26"
             ],
             [
              1,
              "#f0f921"
             ]
            ],
            "type": "contour"
           }
          ],
          "contourcarpet": [
           {
            "colorbar": {
             "outlinewidth": 0,
             "ticks": ""
            },
            "type": "contourcarpet"
           }
          ],
          "heatmap": [
           {
            "colorbar": {
             "outlinewidth": 0,
             "ticks": ""
            },
            "colorscale": [
             [
              0,
              "#0d0887"
             ],
             [
              0.1111111111111111,
              "#46039f"
             ],
             [
              0.2222222222222222,
              "#7201a8"
             ],
             [
              0.3333333333333333,
              "#9c179e"
             ],
             [
              0.4444444444444444,
              "#bd3786"
             ],
             [
              0.5555555555555556,
              "#d8576b"
             ],
             [
              0.6666666666666666,
              "#ed7953"
             ],
             [
              0.7777777777777778,
              "#fb9f3a"
             ],
             [
              0.8888888888888888,
              "#fdca26"
             ],
             [
              1,
              "#f0f921"
             ]
            ],
            "type": "heatmap"
           }
          ],
          "heatmapgl": [
           {
            "colorbar": {
             "outlinewidth": 0,
             "ticks": ""
            },
            "colorscale": [
             [
              0,
              "#0d0887"
             ],
             [
              0.1111111111111111,
              "#46039f"
             ],
             [
              0.2222222222222222,
              "#7201a8"
             ],
             [
              0.3333333333333333,
              "#9c179e"
             ],
             [
              0.4444444444444444,
              "#bd3786"
             ],
             [
              0.5555555555555556,
              "#d8576b"
             ],
             [
              0.6666666666666666,
              "#ed7953"
             ],
             [
              0.7777777777777778,
              "#fb9f3a"
             ],
             [
              0.8888888888888888,
              "#fdca26"
             ],
             [
              1,
              "#f0f921"
             ]
            ],
            "type": "heatmapgl"
           }
          ],
          "histogram": [
           {
            "marker": {
             "colorbar": {
              "outlinewidth": 0,
              "ticks": ""
             }
            },
            "type": "histogram"
           }
          ],
          "histogram2d": [
           {
            "colorbar": {
             "outlinewidth": 0,
             "ticks": ""
            },
            "colorscale": [
             [
              0,
              "#0d0887"
             ],
             [
              0.1111111111111111,
              "#46039f"
             ],
             [
              0.2222222222222222,
              "#7201a8"
             ],
             [
              0.3333333333333333,
              "#9c179e"
             ],
             [
              0.4444444444444444,
              "#bd3786"
             ],
             [
              0.5555555555555556,
              "#d8576b"
             ],
             [
              0.6666666666666666,
              "#ed7953"
             ],
             [
              0.7777777777777778,
              "#fb9f3a"
             ],
             [
              0.8888888888888888,
              "#fdca26"
             ],
             [
              1,
              "#f0f921"
             ]
            ],
            "type": "histogram2d"
           }
          ],
          "histogram2dcontour": [
           {
            "colorbar": {
             "outlinewidth": 0,
             "ticks": ""
            },
            "colorscale": [
             [
              0,
              "#0d0887"
             ],
             [
              0.1111111111111111,
              "#46039f"
             ],
             [
              0.2222222222222222,
              "#7201a8"
             ],
             [
              0.3333333333333333,
              "#9c179e"
             ],
             [
              0.4444444444444444,
              "#bd3786"
             ],
             [
              0.5555555555555556,
              "#d8576b"
             ],
             [
              0.6666666666666666,
              "#ed7953"
             ],
             [
              0.7777777777777778,
              "#fb9f3a"
             ],
             [
              0.8888888888888888,
              "#fdca26"
             ],
             [
              1,
              "#f0f921"
             ]
            ],
            "type": "histogram2dcontour"
           }
          ],
          "mesh3d": [
           {
            "colorbar": {
             "outlinewidth": 0,
             "ticks": ""
            },
            "type": "mesh3d"
           }
          ],
          "parcoords": [
           {
            "line": {
             "colorbar": {
              "outlinewidth": 0,
              "ticks": ""
             }
            },
            "type": "parcoords"
           }
          ],
          "pie": [
           {
            "automargin": true,
            "type": "pie"
           }
          ],
          "scatter": [
           {
            "marker": {
             "colorbar": {
              "outlinewidth": 0,
              "ticks": ""
             }
            },
            "type": "scatter"
           }
          ],
          "scatter3d": [
           {
            "line": {
             "colorbar": {
              "outlinewidth": 0,
              "ticks": ""
             }
            },
            "marker": {
             "colorbar": {
              "outlinewidth": 0,
              "ticks": ""
             }
            },
            "type": "scatter3d"
           }
          ],
          "scattercarpet": [
           {
            "marker": {
             "colorbar": {
              "outlinewidth": 0,
              "ticks": ""
             }
            },
            "type": "scattercarpet"
           }
          ],
          "scattergeo": [
           {
            "marker": {
             "colorbar": {
              "outlinewidth": 0,
              "ticks": ""
             }
            },
            "type": "scattergeo"
           }
          ],
          "scattergl": [
           {
            "marker": {
             "colorbar": {
              "outlinewidth": 0,
              "ticks": ""
             }
            },
            "type": "scattergl"
           }
          ],
          "scattermapbox": [
           {
            "marker": {
             "colorbar": {
              "outlinewidth": 0,
              "ticks": ""
             }
            },
            "type": "scattermapbox"
           }
          ],
          "scatterpolar": [
           {
            "marker": {
             "colorbar": {
              "outlinewidth": 0,
              "ticks": ""
             }
            },
            "type": "scatterpolar"
           }
          ],
          "scatterpolargl": [
           {
            "marker": {
             "colorbar": {
              "outlinewidth": 0,
              "ticks": ""
             }
            },
            "type": "scatterpolargl"
           }
          ],
          "scatterternary": [
           {
            "marker": {
             "colorbar": {
              "outlinewidth": 0,
              "ticks": ""
             }
            },
            "type": "scatterternary"
           }
          ],
          "surface": [
           {
            "colorbar": {
             "outlinewidth": 0,
             "ticks": ""
            },
            "colorscale": [
             [
              0,
              "#0d0887"
             ],
             [
              0.1111111111111111,
              "#46039f"
             ],
             [
              0.2222222222222222,
              "#7201a8"
             ],
             [
              0.3333333333333333,
              "#9c179e"
             ],
             [
              0.4444444444444444,
              "#bd3786"
             ],
             [
              0.5555555555555556,
              "#d8576b"
             ],
             [
              0.6666666666666666,
              "#ed7953"
             ],
             [
              0.7777777777777778,
              "#fb9f3a"
             ],
             [
              0.8888888888888888,
              "#fdca26"
             ],
             [
              1,
              "#f0f921"
             ]
            ],
            "type": "surface"
           }
          ],
          "table": [
           {
            "cells": {
             "fill": {
              "color": "#EBF0F8"
             },
             "line": {
              "color": "white"
             }
            },
            "header": {
             "fill": {
              "color": "#C8D4E3"
             },
             "line": {
              "color": "white"
             }
            },
            "type": "table"
           }
          ]
         },
         "layout": {
          "annotationdefaults": {
           "arrowcolor": "#2a3f5f",
           "arrowhead": 0,
           "arrowwidth": 1
          },
          "autotypenumbers": "strict",
          "coloraxis": {
           "colorbar": {
            "outlinewidth": 0,
            "ticks": ""
           }
          },
          "colorscale": {
           "diverging": [
            [
             0,
             "#8e0152"
            ],
            [
             0.1,
             "#c51b7d"
            ],
            [
             0.2,
             "#de77ae"
            ],
            [
             0.3,
             "#f1b6da"
            ],
            [
             0.4,
             "#fde0ef"
            ],
            [
             0.5,
             "#f7f7f7"
            ],
            [
             0.6,
             "#e6f5d0"
            ],
            [
             0.7,
             "#b8e186"
            ],
            [
             0.8,
             "#7fbc41"
            ],
            [
             0.9,
             "#4d9221"
            ],
            [
             1,
             "#276419"
            ]
           ],
           "sequential": [
            [
             0,
             "#0d0887"
            ],
            [
             0.1111111111111111,
             "#46039f"
            ],
            [
             0.2222222222222222,
             "#7201a8"
            ],
            [
             0.3333333333333333,
             "#9c179e"
            ],
            [
             0.4444444444444444,
             "#bd3786"
            ],
            [
             0.5555555555555556,
             "#d8576b"
            ],
            [
             0.6666666666666666,
             "#ed7953"
            ],
            [
             0.7777777777777778,
             "#fb9f3a"
            ],
            [
             0.8888888888888888,
             "#fdca26"
            ],
            [
             1,
             "#f0f921"
            ]
           ],
           "sequentialminus": [
            [
             0,
             "#0d0887"
            ],
            [
             0.1111111111111111,
             "#46039f"
            ],
            [
             0.2222222222222222,
             "#7201a8"
            ],
            [
             0.3333333333333333,
             "#9c179e"
            ],
            [
             0.4444444444444444,
             "#bd3786"
            ],
            [
             0.5555555555555556,
             "#d8576b"
            ],
            [
             0.6666666666666666,
             "#ed7953"
            ],
            [
             0.7777777777777778,
             "#fb9f3a"
            ],
            [
             0.8888888888888888,
             "#fdca26"
            ],
            [
             1,
             "#f0f921"
            ]
           ]
          },
          "colorway": [
           "#636efa",
           "#EF553B",
           "#00cc96",
           "#ab63fa",
           "#FFA15A",
           "#19d3f3",
           "#FF6692",
           "#B6E880",
           "#FF97FF",
           "#FECB52"
          ],
          "font": {
           "color": "#2a3f5f"
          },
          "geo": {
           "bgcolor": "white",
           "lakecolor": "white",
           "landcolor": "#E5ECF6",
           "showlakes": true,
           "showland": true,
           "subunitcolor": "white"
          },
          "hoverlabel": {
           "align": "left"
          },
          "hovermode": "closest",
          "mapbox": {
           "style": "light"
          },
          "paper_bgcolor": "white",
          "plot_bgcolor": "#E5ECF6",
          "polar": {
           "angularaxis": {
            "gridcolor": "white",
            "linecolor": "white",
            "ticks": ""
           },
           "bgcolor": "#E5ECF6",
           "radialaxis": {
            "gridcolor": "white",
            "linecolor": "white",
            "ticks": ""
           }
          },
          "scene": {
           "xaxis": {
            "backgroundcolor": "#E5ECF6",
            "gridcolor": "white",
            "gridwidth": 2,
            "linecolor": "white",
            "showbackground": true,
            "ticks": "",
            "zerolinecolor": "white"
           },
           "yaxis": {
            "backgroundcolor": "#E5ECF6",
            "gridcolor": "white",
            "gridwidth": 2,
            "linecolor": "white",
            "showbackground": true,
            "ticks": "",
            "zerolinecolor": "white"
           },
           "zaxis": {
            "backgroundcolor": "#E5ECF6",
            "gridcolor": "white",
            "gridwidth": 2,
            "linecolor": "white",
            "showbackground": true,
            "ticks": "",
            "zerolinecolor": "white"
           }
          },
          "shapedefaults": {
           "line": {
            "color": "#2a3f5f"
           }
          },
          "ternary": {
           "aaxis": {
            "gridcolor": "white",
            "linecolor": "white",
            "ticks": ""
           },
           "baxis": {
            "gridcolor": "white",
            "linecolor": "white",
            "ticks": ""
           },
           "bgcolor": "#E5ECF6",
           "caxis": {
            "gridcolor": "white",
            "linecolor": "white",
            "ticks": ""
           }
          },
          "title": {
           "x": 0.05
          },
          "xaxis": {
           "automargin": true,
           "gridcolor": "white",
           "linecolor": "white",
           "ticks": "",
           "title": {
            "standoff": 15
           },
           "zerolinecolor": "white",
           "zerolinewidth": 2
          },
          "yaxis": {
           "automargin": true,
           "gridcolor": "white",
           "linecolor": "white",
           "ticks": "",
           "title": {
            "standoff": 15
           },
           "zerolinecolor": "white",
           "zerolinewidth": 2
          }
         }
        },
        "xaxis": {
         "anchor": "y",
         "domain": [
          0,
          1
         ],
         "title": {
          "text": "0"
         }
        },
        "yaxis": {
         "anchor": "x",
         "domain": [
          0,
          1
         ],
         "title": {
          "text": "1"
         }
        }
       }
      },
      "text/html": [
       "<div>                            <div id=\"6e633021-260e-472e-96cb-0cdcbf16fa0b\" class=\"plotly-graph-div\" style=\"height:525px; width:100%;\"></div>            <script type=\"text/javascript\">                require([\"plotly\"], function(Plotly) {                    window.PLOTLYENV=window.PLOTLYENV || {};                                    if (document.getElementById(\"6e633021-260e-472e-96cb-0cdcbf16fa0b\")) {                    Plotly.newPlot(                        \"6e633021-260e-472e-96cb-0cdcbf16fa0b\",                        [{\"hovertemplate\": \"0=%{x}<br>1=%{y}<br>color=%{marker.color}<extra></extra>\", \"legendgroup\": \"\", \"marker\": {\"color\": [0, 0, 0, 0, 0, 0, 0, 0, 0, 0, 0, 0, 0, 0, 0, 0, 0, 0, 0, 0, 0, 0, 0, 0, 0, 0, 0, 0, 0, 0, 0, 0, 0, 1, 1, 1, 1, 1, 1, 1, 1, 1, 1, 1, 1, 1, 1, 1, 1, 1, 1, 1, 1, 1, 1, 1, 1, 1, 1, 1, 1, 1, 1, 1, 1, 1, 2, 2, 2, 2, 2, 2, 2, 2, 2, 2, 2, 2, 2, 2, 2, 2, 2, 2, 2, 2, 2, 2, 2, 2, 2, 2, 2, 2, 2, 2, 2, 2, 2], \"coloraxis\": \"coloraxis\", \"symbol\": \"circle\"}, \"mode\": \"markers\", \"name\": \"\", \"orientation\": \"v\", \"showlegend\": false, \"type\": \"scatter\", \"x\": [0.10197702844502061, -0.476555275089527, 0.07802164990138995, -0.02379506160796783, 0.052491469358537116, -0.07874848808476105, 0.2881186497961445, 0.4756569646616012, -0.030015958715980715, 0.4451463256511627, -0.0766293217880793, -0.09674794305495298, -0.03706145647865015, -0.2044253572945369, 0.16637072827716765, -0.13941173306758317, 0.041857987914429254, 0.16852826901092136, 0.022441301875594875, 0.2592082332491216, 0.21520742280126715, -0.07281492673609068, 0.033666652469645994, 0.10184015234528696, 0.09976630632723871, 0.49372349048790065, 0.08053519820246173, 0.018230858623077495, -0.16569825369569055, -0.08337510408819689, 0.07913608836709711, -0.16619830821274023, -0.22506931365749114, -0.3385681361699914, -0.3054716479138592, -0.2965032871046613, -0.15092349040326655, -0.10500095010608006, -0.12242104493933485, -0.12453828530574311, -0.08470060812219664, -0.1862346546645374, -0.14498614377733382, -0.2667981866087986, -0.20147994303604044, -0.24044804234278025, -0.2096313318080145, 0.028725532100577583, -0.12492758622871157, -0.17881083220693955, -0.12291301318943074, -0.053462225293113334, 0.09864789817540598, -0.11668996416577652, -0.033324643196983125, -0.15956492370746375, 0.1624531434809, -0.3664954107027445, -0.2336536292610086, -0.03874477193884552, -0.3722189726361814, -0.14483208984865908, -0.257239453602752, -0.04935079302356792, 0.1096064059297017, -0.18702138089526166, -0.10403862903849616, -0.0675637277408729, 0.15102099982170913, 0.35639989277617673, 0.21956539154300517, 0.9880882596135567, 0.33933517401172586, -0.08065191962285209, -0.1585901669004082, 0.08004081457918451, 0.8488748694881549, -0.002574563124475804, 0.20120880596945714, 0.2680421071220611, 0.01027841312859607, 0.21653474047689808, -0.3077400753900732, 0.04522138069097227, 0.09853997991989505, -0.08496840336764827, -0.07659911151241239, -0.21555027975511507, 0.16109336091142154, 0.26998552041218676, 0.15701297639901315, 0.2810341452401586, -0.03668857297397203, 0.07304913142857962, -0.009270444555870658, -0.12476584352978666, 0.22157706416838457, -0.15706507786947174, -0.08869202599905077], \"xaxis\": \"x\", \"y\": [-0.14051592883035893, 0.36909623787300977, 0.06998096142541523, 0.11725396258879021, 0.26831147623985824, 0.19696871923148515, 0.1970878536741504, 0.0232836551791893, 0.08394461219011005, -0.04538617012435307, -0.17735810236463517, -0.05193928150775878, 0.00031760387279855404, 0.18354013356758891, -0.10409134204885648, 0.0185575822084171, -0.28355227399360533, 0.03915713511073239, -0.0031208701791303646, 0.08974587031650258, -0.1958332133048082, 0.1883188613346511, -0.10604685860914818, 0.15682595332243687, -0.010835074793515054, -0.03050441295763641, -0.21249292279243975, 0.07813162688934139, 0.029967923810635802, 0.17550418626216885, 0.11893553612160815, 0.1876990347436582, 0.1408056293467631, 0.10490300701759564, -0.04220381494640634, -0.0071919828503062035, -0.333302072231835, -0.24713554772515628, -0.2376306644572746, -0.16170752067153332, 0.02698099880705824, -0.2867434918158983, -0.23187116901212249, 0.017670627935764634, -0.38643418076116576, -0.2517752639242069, -0.06321513605280847, -0.0923606547512197, -0.004788618233651285, -0.055759301912455365, 0.0576438222273665, -0.21449583035674352, 0.022385370881079926, -0.023040947919248933, -0.0011623635722849783, 0.21519363801186997, -0.35435753197866005, 0.1407765427560537, -0.0447233185032246, -0.04753990025204416, 0.13900005380621044, -0.08241427039587192, -0.2755460787647129, -0.08141969724729278, -0.17635987449203852, -0.08789412820686054, 0.2137112572193564, 0.4630977077710183, -0.14982648596896578, -0.28902266757505074, -0.12971452172773276, 0.3566203090993636, -0.06274197877564286, -0.17286052625164616, 0.22814787784887053, 0.33941528326390785, 0.2987485892246976, -0.2369543525097257, -0.1645177106993908, -0.21444163501674005, 0.12425430234780716, 0.32374224302128435, 0.6100721281088337, -0.24899397874206033, -0.1833841763871451, 0.20206099746711337, 0.2559018414100566, 0.3065890328617709, -0.13038190617720177, -0.4261241561446647, -0.13821988599365348, 0.3140632199819245, 0.09267746757894467, 0.09593832874332407, -0.26622373970580004, -0.14850061010330717, 0.3694984107793622, 0.24442048418061266, -0.18228995334057332], \"yaxis\": \"y\"}],                        {\"coloraxis\": {\"colorbar\": {\"title\": {\"text\": \"color\"}}, \"colorscale\": [[0.0, \"#0d0887\"], [0.1111111111111111, \"#46039f\"], [0.2222222222222222, \"#7201a8\"], [0.3333333333333333, \"#9c179e\"], [0.4444444444444444, \"#bd3786\"], [0.5555555555555556, \"#d8576b\"], [0.6666666666666666, \"#ed7953\"], [0.7777777777777778, \"#fb9f3a\"], [0.8888888888888888, \"#fdca26\"], [1.0, \"#f0f921\"]]}, \"legend\": {\"tracegroupgap\": 0}, \"margin\": {\"t\": 60}, \"template\": {\"data\": {\"bar\": [{\"error_x\": {\"color\": \"#2a3f5f\"}, \"error_y\": {\"color\": \"#2a3f5f\"}, \"marker\": {\"line\": {\"color\": \"#E5ECF6\", \"width\": 0.5}}, \"type\": \"bar\"}], \"barpolar\": [{\"marker\": {\"line\": {\"color\": \"#E5ECF6\", \"width\": 0.5}}, \"type\": \"barpolar\"}], \"carpet\": [{\"aaxis\": {\"endlinecolor\": \"#2a3f5f\", \"gridcolor\": \"white\", \"linecolor\": \"white\", \"minorgridcolor\": \"white\", \"startlinecolor\": \"#2a3f5f\"}, \"baxis\": {\"endlinecolor\": \"#2a3f5f\", \"gridcolor\": \"white\", \"linecolor\": \"white\", \"minorgridcolor\": \"white\", \"startlinecolor\": \"#2a3f5f\"}, \"type\": \"carpet\"}], \"choropleth\": [{\"colorbar\": {\"outlinewidth\": 0, \"ticks\": \"\"}, \"type\": \"choropleth\"}], \"contour\": [{\"colorbar\": {\"outlinewidth\": 0, \"ticks\": \"\"}, \"colorscale\": [[0.0, \"#0d0887\"], [0.1111111111111111, \"#46039f\"], [0.2222222222222222, \"#7201a8\"], [0.3333333333333333, \"#9c179e\"], [0.4444444444444444, \"#bd3786\"], [0.5555555555555556, \"#d8576b\"], [0.6666666666666666, \"#ed7953\"], [0.7777777777777778, \"#fb9f3a\"], [0.8888888888888888, \"#fdca26\"], [1.0, \"#f0f921\"]], \"type\": \"contour\"}], \"contourcarpet\": [{\"colorbar\": {\"outlinewidth\": 0, \"ticks\": \"\"}, \"type\": \"contourcarpet\"}], \"heatmap\": [{\"colorbar\": {\"outlinewidth\": 0, \"ticks\": \"\"}, \"colorscale\": [[0.0, \"#0d0887\"], [0.1111111111111111, \"#46039f\"], [0.2222222222222222, \"#7201a8\"], [0.3333333333333333, \"#9c179e\"], [0.4444444444444444, \"#bd3786\"], [0.5555555555555556, \"#d8576b\"], [0.6666666666666666, \"#ed7953\"], [0.7777777777777778, \"#fb9f3a\"], [0.8888888888888888, \"#fdca26\"], [1.0, \"#f0f921\"]], \"type\": \"heatmap\"}], \"heatmapgl\": [{\"colorbar\": {\"outlinewidth\": 0, \"ticks\": \"\"}, \"colorscale\": [[0.0, \"#0d0887\"], [0.1111111111111111, \"#46039f\"], [0.2222222222222222, \"#7201a8\"], [0.3333333333333333, \"#9c179e\"], [0.4444444444444444, \"#bd3786\"], [0.5555555555555556, \"#d8576b\"], [0.6666666666666666, \"#ed7953\"], [0.7777777777777778, \"#fb9f3a\"], [0.8888888888888888, \"#fdca26\"], [1.0, \"#f0f921\"]], \"type\": \"heatmapgl\"}], \"histogram\": [{\"marker\": {\"colorbar\": {\"outlinewidth\": 0, \"ticks\": \"\"}}, \"type\": \"histogram\"}], \"histogram2d\": [{\"colorbar\": {\"outlinewidth\": 0, \"ticks\": \"\"}, \"colorscale\": [[0.0, \"#0d0887\"], [0.1111111111111111, \"#46039f\"], [0.2222222222222222, \"#7201a8\"], [0.3333333333333333, \"#9c179e\"], [0.4444444444444444, \"#bd3786\"], [0.5555555555555556, \"#d8576b\"], [0.6666666666666666, \"#ed7953\"], [0.7777777777777778, \"#fb9f3a\"], [0.8888888888888888, \"#fdca26\"], [1.0, \"#f0f921\"]], \"type\": \"histogram2d\"}], \"histogram2dcontour\": [{\"colorbar\": {\"outlinewidth\": 0, \"ticks\": \"\"}, \"colorscale\": [[0.0, \"#0d0887\"], [0.1111111111111111, \"#46039f\"], [0.2222222222222222, \"#7201a8\"], [0.3333333333333333, \"#9c179e\"], [0.4444444444444444, \"#bd3786\"], [0.5555555555555556, \"#d8576b\"], [0.6666666666666666, \"#ed7953\"], [0.7777777777777778, \"#fb9f3a\"], [0.8888888888888888, \"#fdca26\"], [1.0, \"#f0f921\"]], \"type\": \"histogram2dcontour\"}], \"mesh3d\": [{\"colorbar\": {\"outlinewidth\": 0, \"ticks\": \"\"}, \"type\": \"mesh3d\"}], \"parcoords\": [{\"line\": {\"colorbar\": {\"outlinewidth\": 0, \"ticks\": \"\"}}, \"type\": \"parcoords\"}], \"pie\": [{\"automargin\": true, \"type\": \"pie\"}], \"scatter\": [{\"marker\": {\"colorbar\": {\"outlinewidth\": 0, \"ticks\": \"\"}}, \"type\": \"scatter\"}], \"scatter3d\": [{\"line\": {\"colorbar\": {\"outlinewidth\": 0, \"ticks\": \"\"}}, \"marker\": {\"colorbar\": {\"outlinewidth\": 0, \"ticks\": \"\"}}, \"type\": \"scatter3d\"}], \"scattercarpet\": [{\"marker\": {\"colorbar\": {\"outlinewidth\": 0, \"ticks\": \"\"}}, \"type\": \"scattercarpet\"}], \"scattergeo\": [{\"marker\": {\"colorbar\": {\"outlinewidth\": 0, \"ticks\": \"\"}}, \"type\": \"scattergeo\"}], \"scattergl\": [{\"marker\": {\"colorbar\": {\"outlinewidth\": 0, \"ticks\": \"\"}}, \"type\": \"scattergl\"}], \"scattermapbox\": [{\"marker\": {\"colorbar\": {\"outlinewidth\": 0, \"ticks\": \"\"}}, \"type\": \"scattermapbox\"}], \"scatterpolar\": [{\"marker\": {\"colorbar\": {\"outlinewidth\": 0, \"ticks\": \"\"}}, \"type\": \"scatterpolar\"}], \"scatterpolargl\": [{\"marker\": {\"colorbar\": {\"outlinewidth\": 0, \"ticks\": \"\"}}, \"type\": \"scatterpolargl\"}], \"scatterternary\": [{\"marker\": {\"colorbar\": {\"outlinewidth\": 0, \"ticks\": \"\"}}, \"type\": \"scatterternary\"}], \"surface\": [{\"colorbar\": {\"outlinewidth\": 0, \"ticks\": \"\"}, \"colorscale\": [[0.0, \"#0d0887\"], [0.1111111111111111, \"#46039f\"], [0.2222222222222222, \"#7201a8\"], [0.3333333333333333, \"#9c179e\"], [0.4444444444444444, \"#bd3786\"], [0.5555555555555556, \"#d8576b\"], [0.6666666666666666, \"#ed7953\"], [0.7777777777777778, \"#fb9f3a\"], [0.8888888888888888, \"#fdca26\"], [1.0, \"#f0f921\"]], \"type\": \"surface\"}], \"table\": [{\"cells\": {\"fill\": {\"color\": \"#EBF0F8\"}, \"line\": {\"color\": \"white\"}}, \"header\": {\"fill\": {\"color\": \"#C8D4E3\"}, \"line\": {\"color\": \"white\"}}, \"type\": \"table\"}]}, \"layout\": {\"annotationdefaults\": {\"arrowcolor\": \"#2a3f5f\", \"arrowhead\": 0, \"arrowwidth\": 1}, \"autotypenumbers\": \"strict\", \"coloraxis\": {\"colorbar\": {\"outlinewidth\": 0, \"ticks\": \"\"}}, \"colorscale\": {\"diverging\": [[0, \"#8e0152\"], [0.1, \"#c51b7d\"], [0.2, \"#de77ae\"], [0.3, \"#f1b6da\"], [0.4, \"#fde0ef\"], [0.5, \"#f7f7f7\"], [0.6, \"#e6f5d0\"], [0.7, \"#b8e186\"], [0.8, \"#7fbc41\"], [0.9, \"#4d9221\"], [1, \"#276419\"]], \"sequential\": [[0.0, \"#0d0887\"], [0.1111111111111111, \"#46039f\"], [0.2222222222222222, \"#7201a8\"], [0.3333333333333333, \"#9c179e\"], [0.4444444444444444, \"#bd3786\"], [0.5555555555555556, \"#d8576b\"], [0.6666666666666666, \"#ed7953\"], [0.7777777777777778, \"#fb9f3a\"], [0.8888888888888888, \"#fdca26\"], [1.0, \"#f0f921\"]], \"sequentialminus\": [[0.0, \"#0d0887\"], [0.1111111111111111, \"#46039f\"], [0.2222222222222222, \"#7201a8\"], [0.3333333333333333, \"#9c179e\"], [0.4444444444444444, \"#bd3786\"], [0.5555555555555556, \"#d8576b\"], [0.6666666666666666, \"#ed7953\"], [0.7777777777777778, \"#fb9f3a\"], [0.8888888888888888, \"#fdca26\"], [1.0, \"#f0f921\"]]}, \"colorway\": [\"#636efa\", \"#EF553B\", \"#00cc96\", \"#ab63fa\", \"#FFA15A\", \"#19d3f3\", \"#FF6692\", \"#B6E880\", \"#FF97FF\", \"#FECB52\"], \"font\": {\"color\": \"#2a3f5f\"}, \"geo\": {\"bgcolor\": \"white\", \"lakecolor\": \"white\", \"landcolor\": \"#E5ECF6\", \"showlakes\": true, \"showland\": true, \"subunitcolor\": \"white\"}, \"hoverlabel\": {\"align\": \"left\"}, \"hovermode\": \"closest\", \"mapbox\": {\"style\": \"light\"}, \"paper_bgcolor\": \"white\", \"plot_bgcolor\": \"#E5ECF6\", \"polar\": {\"angularaxis\": {\"gridcolor\": \"white\", \"linecolor\": \"white\", \"ticks\": \"\"}, \"bgcolor\": \"#E5ECF6\", \"radialaxis\": {\"gridcolor\": \"white\", \"linecolor\": \"white\", \"ticks\": \"\"}}, \"scene\": {\"xaxis\": {\"backgroundcolor\": \"#E5ECF6\", \"gridcolor\": \"white\", \"gridwidth\": 2, \"linecolor\": \"white\", \"showbackground\": true, \"ticks\": \"\", \"zerolinecolor\": \"white\"}, \"yaxis\": {\"backgroundcolor\": \"#E5ECF6\", \"gridcolor\": \"white\", \"gridwidth\": 2, \"linecolor\": \"white\", \"showbackground\": true, \"ticks\": \"\", \"zerolinecolor\": \"white\"}, \"zaxis\": {\"backgroundcolor\": \"#E5ECF6\", \"gridcolor\": \"white\", \"gridwidth\": 2, \"linecolor\": \"white\", \"showbackground\": true, \"ticks\": \"\", \"zerolinecolor\": \"white\"}}, \"shapedefaults\": {\"line\": {\"color\": \"#2a3f5f\"}}, \"ternary\": {\"aaxis\": {\"gridcolor\": \"white\", \"linecolor\": \"white\", \"ticks\": \"\"}, \"baxis\": {\"gridcolor\": \"white\", \"linecolor\": \"white\", \"ticks\": \"\"}, \"bgcolor\": \"#E5ECF6\", \"caxis\": {\"gridcolor\": \"white\", \"linecolor\": \"white\", \"ticks\": \"\"}}, \"title\": {\"x\": 0.05}, \"xaxis\": {\"automargin\": true, \"gridcolor\": \"white\", \"linecolor\": \"white\", \"ticks\": \"\", \"title\": {\"standoff\": 15}, \"zerolinecolor\": \"white\", \"zerolinewidth\": 2}, \"yaxis\": {\"automargin\": true, \"gridcolor\": \"white\", \"linecolor\": \"white\", \"ticks\": \"\", \"title\": {\"standoff\": 15}, \"zerolinecolor\": \"white\", \"zerolinewidth\": 2}}}, \"xaxis\": {\"anchor\": \"y\", \"domain\": [0.0, 1.0], \"title\": {\"text\": \"0\"}}, \"yaxis\": {\"anchor\": \"x\", \"domain\": [0.0, 1.0], \"title\": {\"text\": \"1\"}}},                        {\"responsive\": true}                    ).then(function(){\n",
       "                            \n",
       "var gd = document.getElementById('6e633021-260e-472e-96cb-0cdcbf16fa0b');\n",
       "var x = new MutationObserver(function (mutations, observer) {{\n",
       "        var display = window.getComputedStyle(gd).display;\n",
       "        if (!display || display === 'none') {{\n",
       "            console.log([gd, 'removed!']);\n",
       "            Plotly.purge(gd);\n",
       "            observer.disconnect();\n",
       "        }}\n",
       "}});\n",
       "\n",
       "// Listen for the removal of the full notebook cells\n",
       "var notebookContainer = gd.closest('#notebook-container');\n",
       "if (notebookContainer) {{\n",
       "    x.observe(notebookContainer, {childList: true});\n",
       "}}\n",
       "\n",
       "// Listen for the clearing of the current output cell\n",
       "var outputEl = gd.closest('.output');\n",
       "if (outputEl) {{\n",
       "    x.observe(outputEl, {childList: true});\n",
       "}}\n",
       "\n",
       "                        })                };                });            </script>        </div>"
      ]
     },
     "metadata": {},
     "output_type": "display_data"
    }
   ],
   "source": [
    "import plotly.express as px\n",
    "\n",
    "total_var = pca.explained_variance_ratio_.sum() * 100\n",
    "print(total_var)\n",
    "\n",
    "labels = {\n",
    "    str(i): f\"PC {i+1} ({var:.1f}%)\"\n",
    "    for i, var in enumerate(pca.explained_variance_ratio_ * 100)\n",
    "}\n",
    "\n",
    "fig = px.scatter(X_train, x=0, y=1, color=y_train)\n",
    "fig.show()"
   ]
  },
  {
   "cell_type": "code",
   "execution_count": 171,
   "metadata": {},
   "outputs": [
    {
     "data": {
      "application/vnd.plotly.v1+json": {
       "config": {
        "plotlyServerURL": "https://plot.ly"
       },
       "data": [
        {
         "hovertemplate": "PC 1=%{x}<br>PC 2=%{y}<br>PC 3=%{z}<br>color=%{marker.color}<extra></extra>",
         "legendgroup": "",
         "marker": {
          "color": [
           0,
           0,
           0,
           0,
           0,
           0,
           0,
           0,
           0,
           0,
           0,
           0,
           0,
           0,
           0,
           0,
           0,
           0,
           0,
           0,
           0,
           0,
           0,
           0,
           0,
           0,
           0,
           0,
           0,
           0,
           0,
           0,
           0,
           1,
           1,
           1,
           1,
           1,
           1,
           1,
           1,
           1,
           1,
           1,
           1,
           1,
           1,
           1,
           1,
           1,
           1,
           1,
           1,
           1,
           1,
           1,
           1,
           1,
           1,
           1,
           1,
           1,
           1,
           1,
           1,
           1,
           2,
           2,
           2,
           2,
           2,
           2,
           2,
           2,
           2,
           2,
           2,
           2,
           2,
           2,
           2,
           2,
           2,
           2,
           2,
           2,
           2,
           2,
           2,
           2,
           2,
           2,
           2,
           2,
           2,
           2,
           2,
           2,
           2
          ],
          "coloraxis": "coloraxis",
          "symbol": "circle"
         },
         "mode": "markers",
         "name": "",
         "scene": "scene",
         "showlegend": false,
         "type": "scatter3d",
         "x": [
          0.10197702844502061,
          -0.476555275089527,
          0.07802164990138995,
          -0.02379506160796783,
          0.052491469358537116,
          -0.07874848808476105,
          0.2881186497961445,
          0.4756569646616012,
          -0.030015958715980715,
          0.4451463256511627,
          -0.0766293217880793,
          -0.09674794305495298,
          -0.03706145647865015,
          -0.2044253572945369,
          0.16637072827716765,
          -0.13941173306758317,
          0.041857987914429254,
          0.16852826901092136,
          0.022441301875594875,
          0.2592082332491216,
          0.21520742280126715,
          -0.07281492673609068,
          0.033666652469645994,
          0.10184015234528696,
          0.09976630632723871,
          0.49372349048790065,
          0.08053519820246173,
          0.018230858623077495,
          -0.16569825369569055,
          -0.08337510408819689,
          0.07913608836709711,
          -0.16619830821274023,
          -0.22506931365749114,
          -0.3385681361699914,
          -0.3054716479138592,
          -0.2965032871046613,
          -0.15092349040326655,
          -0.10500095010608006,
          -0.12242104493933485,
          -0.12453828530574311,
          -0.08470060812219664,
          -0.1862346546645374,
          -0.14498614377733382,
          -0.2667981866087986,
          -0.20147994303604044,
          -0.24044804234278025,
          -0.2096313318080145,
          0.028725532100577583,
          -0.12492758622871157,
          -0.17881083220693955,
          -0.12291301318943074,
          -0.053462225293113334,
          0.09864789817540598,
          -0.11668996416577652,
          -0.033324643196983125,
          -0.15956492370746375,
          0.1624531434809,
          -0.3664954107027445,
          -0.2336536292610086,
          -0.03874477193884552,
          -0.3722189726361814,
          -0.14483208984865908,
          -0.257239453602752,
          -0.04935079302356792,
          0.1096064059297017,
          -0.18702138089526166,
          -0.10403862903849616,
          -0.0675637277408729,
          0.15102099982170913,
          0.35639989277617673,
          0.21956539154300517,
          0.9880882596135567,
          0.33933517401172586,
          -0.08065191962285209,
          -0.1585901669004082,
          0.08004081457918451,
          0.8488748694881549,
          -0.002574563124475804,
          0.20120880596945714,
          0.2680421071220611,
          0.01027841312859607,
          0.21653474047689808,
          -0.3077400753900732,
          0.04522138069097227,
          0.09853997991989505,
          -0.08496840336764827,
          -0.07659911151241239,
          -0.21555027975511507,
          0.16109336091142154,
          0.26998552041218676,
          0.15701297639901315,
          0.2810341452401586,
          -0.03668857297397203,
          0.07304913142857962,
          -0.009270444555870658,
          -0.12476584352978666,
          0.22157706416838457,
          -0.15706507786947174,
          -0.08869202599905077
         ],
         "y": [
          -0.14051592883035893,
          0.36909623787300977,
          0.06998096142541523,
          0.11725396258879021,
          0.26831147623985824,
          0.19696871923148515,
          0.1970878536741504,
          0.0232836551791893,
          0.08394461219011005,
          -0.04538617012435307,
          -0.17735810236463517,
          -0.05193928150775878,
          0.00031760387279855404,
          0.18354013356758891,
          -0.10409134204885648,
          0.0185575822084171,
          -0.28355227399360533,
          0.03915713511073239,
          -0.0031208701791303646,
          0.08974587031650258,
          -0.1958332133048082,
          0.1883188613346511,
          -0.10604685860914818,
          0.15682595332243687,
          -0.010835074793515054,
          -0.03050441295763641,
          -0.21249292279243975,
          0.07813162688934139,
          0.029967923810635802,
          0.17550418626216885,
          0.11893553612160815,
          0.1876990347436582,
          0.1408056293467631,
          0.10490300701759564,
          -0.04220381494640634,
          -0.0071919828503062035,
          -0.333302072231835,
          -0.24713554772515628,
          -0.2376306644572746,
          -0.16170752067153332,
          0.02698099880705824,
          -0.2867434918158983,
          -0.23187116901212249,
          0.017670627935764634,
          -0.38643418076116576,
          -0.2517752639242069,
          -0.06321513605280847,
          -0.0923606547512197,
          -0.004788618233651285,
          -0.055759301912455365,
          0.0576438222273665,
          -0.21449583035674352,
          0.022385370881079926,
          -0.023040947919248933,
          -0.0011623635722849783,
          0.21519363801186997,
          -0.35435753197866005,
          0.1407765427560537,
          -0.0447233185032246,
          -0.04753990025204416,
          0.13900005380621044,
          -0.08241427039587192,
          -0.2755460787647129,
          -0.08141969724729278,
          -0.17635987449203852,
          -0.08789412820686054,
          0.2137112572193564,
          0.4630977077710183,
          -0.14982648596896578,
          -0.28902266757505074,
          -0.12971452172773276,
          0.3566203090993636,
          -0.06274197877564286,
          -0.17286052625164616,
          0.22814787784887053,
          0.33941528326390785,
          0.2987485892246976,
          -0.2369543525097257,
          -0.1645177106993908,
          -0.21444163501674005,
          0.12425430234780716,
          0.32374224302128435,
          0.6100721281088337,
          -0.24899397874206033,
          -0.1833841763871451,
          0.20206099746711337,
          0.2559018414100566,
          0.3065890328617709,
          -0.13038190617720177,
          -0.4261241561446647,
          -0.13821988599365348,
          0.3140632199819245,
          0.09267746757894467,
          0.09593832874332407,
          -0.26622373970580004,
          -0.14850061010330717,
          0.3694984107793622,
          0.24442048418061266,
          -0.18228995334057332
         ],
         "z": [
          -0.22608652721143566,
          -0.06781023512556811,
          -0.15888723858871462,
          0.11744535253050306,
          -0.03608343989332983,
          0.10647107312186967,
          0.28467029881801525,
          0.17649467971494934,
          -0.11139332776969971,
          -0.1527067444518785,
          -0.2813007595550813,
          0.03294960084949233,
          -0.2307162916612354,
          0.011942733143045552,
          -0.24116009984610687,
          0.22273691544101357,
          0.3422318027297887,
          0.06564701926253116,
          0.1281997739509496,
          -0.1331726723256514,
          -0.11569022781977942,
          0.14994990027509836,
          -0.05722443688883787,
          0.010687046569501308,
          0.10367671136533546,
          -0.0002291643276384616,
          -0.07280097451763277,
          0.296461348215651,
          0.17625395631801247,
          0.10517027773749031,
          -0.18594447210307197,
          0.07197373187304243,
          0.0847857745078858,
          0.05694405172700321,
          -0.21882495973212074,
          -0.053456635251637234,
          -0.2774277337490376,
          0.020320268954044533,
          0.044652196965143325,
          -0.12947543324042,
          -0.1531434848594839,
          -0.11162295940044033,
          -0.027996404361988195,
          -0.09186499173193531,
          0.23274758026038592,
          0.4015642387406733,
          0.13025475411047463,
          -0.2945089754524441,
          -0.23609677930735629,
          0.19905261849279585,
          -0.033179281799591905,
          -0.13512506960183143,
          -0.20724946675421188,
          0.04060244255642356,
          -0.21645602717058052,
          0.05901658696623835,
          0.22826429210381666,
          0.03723432498143448,
          -0.012047286412286343,
          -0.3512802704073829,
          -0.004414642159077214,
          0.08915040110148113,
          -0.06260684580699423,
          -0.04518881379248546,
          -0.1355629649452982,
          -0.05193761432697074,
          0.021329882838239576,
          0.04260843724515511,
          0.46309345955840786,
          -0.1123984444410825,
          0.43520531879205615,
          -0.05495186296872402,
          0.11313304971361439,
          0.047393957148852195,
          0.02024257567990723,
          -0.29517956368289294,
          -0.06142015457331885,
          -0.1413174084859978,
          -0.17754923411086374,
          0.29538808359845004,
          0.4300560975091314,
          0.1725041452624762,
          0.015803077490200105,
          -0.24898600311369615,
          0.0009977096408035435,
          0.17699208741399491,
          0.07874215211161394,
          -0.3318858786775371,
          0.4996438231067266,
          -0.23045084146324205,
          -0.3098317045136974,
          -0.13633826758638307,
          -0.09193026706886899,
          -0.2664672489593806,
          0.3883805596833503,
          0.12001906959099064,
          0.08823348464788687,
          0.0157786487449386,
          -0.07371724116598612
         ]
        }
       ],
       "layout": {
        "coloraxis": {
         "colorbar": {
          "title": {
           "text": "color"
          }
         },
         "colorscale": [
          [
           0,
           "#0d0887"
          ],
          [
           0.1111111111111111,
           "#46039f"
          ],
          [
           0.2222222222222222,
           "#7201a8"
          ],
          [
           0.3333333333333333,
           "#9c179e"
          ],
          [
           0.4444444444444444,
           "#bd3786"
          ],
          [
           0.5555555555555556,
           "#d8576b"
          ],
          [
           0.6666666666666666,
           "#ed7953"
          ],
          [
           0.7777777777777778,
           "#fb9f3a"
          ],
          [
           0.8888888888888888,
           "#fdca26"
          ],
          [
           1,
           "#f0f921"
          ]
         ]
        },
        "legend": {
         "tracegroupgap": 0
        },
        "scene": {
         "domain": {
          "x": [
           0,
           1
          ],
          "y": [
           0,
           1
          ]
         },
         "xaxis": {
          "title": {
           "text": "PC 1"
          }
         },
         "yaxis": {
          "title": {
           "text": "PC 2"
          }
         },
         "zaxis": {
          "title": {
           "text": "PC 3"
          }
         }
        },
        "template": {
         "data": {
          "bar": [
           {
            "error_x": {
             "color": "#2a3f5f"
            },
            "error_y": {
             "color": "#2a3f5f"
            },
            "marker": {
             "line": {
              "color": "#E5ECF6",
              "width": 0.5
             }
            },
            "type": "bar"
           }
          ],
          "barpolar": [
           {
            "marker": {
             "line": {
              "color": "#E5ECF6",
              "width": 0.5
             }
            },
            "type": "barpolar"
           }
          ],
          "carpet": [
           {
            "aaxis": {
             "endlinecolor": "#2a3f5f",
             "gridcolor": "white",
             "linecolor": "white",
             "minorgridcolor": "white",
             "startlinecolor": "#2a3f5f"
            },
            "baxis": {
             "endlinecolor": "#2a3f5f",
             "gridcolor": "white",
             "linecolor": "white",
             "minorgridcolor": "white",
             "startlinecolor": "#2a3f5f"
            },
            "type": "carpet"
           }
          ],
          "choropleth": [
           {
            "colorbar": {
             "outlinewidth": 0,
             "ticks": ""
            },
            "type": "choropleth"
           }
          ],
          "contour": [
           {
            "colorbar": {
             "outlinewidth": 0,
             "ticks": ""
            },
            "colorscale": [
             [
              0,
              "#0d0887"
             ],
             [
              0.1111111111111111,
              "#46039f"
             ],
             [
              0.2222222222222222,
              "#7201a8"
             ],
             [
              0.3333333333333333,
              "#9c179e"
             ],
             [
              0.4444444444444444,
              "#bd3786"
             ],
             [
              0.5555555555555556,
              "#d8576b"
             ],
             [
              0.6666666666666666,
              "#ed7953"
             ],
             [
              0.7777777777777778,
              "#fb9f3a"
             ],
             [
              0.8888888888888888,
              "#fdca26"
             ],
             [
              1,
              "#f0f921"
             ]
            ],
            "type": "contour"
           }
          ],
          "contourcarpet": [
           {
            "colorbar": {
             "outlinewidth": 0,
             "ticks": ""
            },
            "type": "contourcarpet"
           }
          ],
          "heatmap": [
           {
            "colorbar": {
             "outlinewidth": 0,
             "ticks": ""
            },
            "colorscale": [
             [
              0,
              "#0d0887"
             ],
             [
              0.1111111111111111,
              "#46039f"
             ],
             [
              0.2222222222222222,
              "#7201a8"
             ],
             [
              0.3333333333333333,
              "#9c179e"
             ],
             [
              0.4444444444444444,
              "#bd3786"
             ],
             [
              0.5555555555555556,
              "#d8576b"
             ],
             [
              0.6666666666666666,
              "#ed7953"
             ],
             [
              0.7777777777777778,
              "#fb9f3a"
             ],
             [
              0.8888888888888888,
              "#fdca26"
             ],
             [
              1,
              "#f0f921"
             ]
            ],
            "type": "heatmap"
           }
          ],
          "heatmapgl": [
           {
            "colorbar": {
             "outlinewidth": 0,
             "ticks": ""
            },
            "colorscale": [
             [
              0,
              "#0d0887"
             ],
             [
              0.1111111111111111,
              "#46039f"
             ],
             [
              0.2222222222222222,
              "#7201a8"
             ],
             [
              0.3333333333333333,
              "#9c179e"
             ],
             [
              0.4444444444444444,
              "#bd3786"
             ],
             [
              0.5555555555555556,
              "#d8576b"
             ],
             [
              0.6666666666666666,
              "#ed7953"
             ],
             [
              0.7777777777777778,
              "#fb9f3a"
             ],
             [
              0.8888888888888888,
              "#fdca26"
             ],
             [
              1,
              "#f0f921"
             ]
            ],
            "type": "heatmapgl"
           }
          ],
          "histogram": [
           {
            "marker": {
             "colorbar": {
              "outlinewidth": 0,
              "ticks": ""
             }
            },
            "type": "histogram"
           }
          ],
          "histogram2d": [
           {
            "colorbar": {
             "outlinewidth": 0,
             "ticks": ""
            },
            "colorscale": [
             [
              0,
              "#0d0887"
             ],
             [
              0.1111111111111111,
              "#46039f"
             ],
             [
              0.2222222222222222,
              "#7201a8"
             ],
             [
              0.3333333333333333,
              "#9c179e"
             ],
             [
              0.4444444444444444,
              "#bd3786"
             ],
             [
              0.5555555555555556,
              "#d8576b"
             ],
             [
              0.6666666666666666,
              "#ed7953"
             ],
             [
              0.7777777777777778,
              "#fb9f3a"
             ],
             [
              0.8888888888888888,
              "#fdca26"
             ],
             [
              1,
              "#f0f921"
             ]
            ],
            "type": "histogram2d"
           }
          ],
          "histogram2dcontour": [
           {
            "colorbar": {
             "outlinewidth": 0,
             "ticks": ""
            },
            "colorscale": [
             [
              0,
              "#0d0887"
             ],
             [
              0.1111111111111111,
              "#46039f"
             ],
             [
              0.2222222222222222,
              "#7201a8"
             ],
             [
              0.3333333333333333,
              "#9c179e"
             ],
             [
              0.4444444444444444,
              "#bd3786"
             ],
             [
              0.5555555555555556,
              "#d8576b"
             ],
             [
              0.6666666666666666,
              "#ed7953"
             ],
             [
              0.7777777777777778,
              "#fb9f3a"
             ],
             [
              0.8888888888888888,
              "#fdca26"
             ],
             [
              1,
              "#f0f921"
             ]
            ],
            "type": "histogram2dcontour"
           }
          ],
          "mesh3d": [
           {
            "colorbar": {
             "outlinewidth": 0,
             "ticks": ""
            },
            "type": "mesh3d"
           }
          ],
          "parcoords": [
           {
            "line": {
             "colorbar": {
              "outlinewidth": 0,
              "ticks": ""
             }
            },
            "type": "parcoords"
           }
          ],
          "pie": [
           {
            "automargin": true,
            "type": "pie"
           }
          ],
          "scatter": [
           {
            "marker": {
             "colorbar": {
              "outlinewidth": 0,
              "ticks": ""
             }
            },
            "type": "scatter"
           }
          ],
          "scatter3d": [
           {
            "line": {
             "colorbar": {
              "outlinewidth": 0,
              "ticks": ""
             }
            },
            "marker": {
             "colorbar": {
              "outlinewidth": 0,
              "ticks": ""
             }
            },
            "type": "scatter3d"
           }
          ],
          "scattercarpet": [
           {
            "marker": {
             "colorbar": {
              "outlinewidth": 0,
              "ticks": ""
             }
            },
            "type": "scattercarpet"
           }
          ],
          "scattergeo": [
           {
            "marker": {
             "colorbar": {
              "outlinewidth": 0,
              "ticks": ""
             }
            },
            "type": "scattergeo"
           }
          ],
          "scattergl": [
           {
            "marker": {
             "colorbar": {
              "outlinewidth": 0,
              "ticks": ""
             }
            },
            "type": "scattergl"
           }
          ],
          "scattermapbox": [
           {
            "marker": {
             "colorbar": {
              "outlinewidth": 0,
              "ticks": ""
             }
            },
            "type": "scattermapbox"
           }
          ],
          "scatterpolar": [
           {
            "marker": {
             "colorbar": {
              "outlinewidth": 0,
              "ticks": ""
             }
            },
            "type": "scatterpolar"
           }
          ],
          "scatterpolargl": [
           {
            "marker": {
             "colorbar": {
              "outlinewidth": 0,
              "ticks": ""
             }
            },
            "type": "scatterpolargl"
           }
          ],
          "scatterternary": [
           {
            "marker": {
             "colorbar": {
              "outlinewidth": 0,
              "ticks": ""
             }
            },
            "type": "scatterternary"
           }
          ],
          "surface": [
           {
            "colorbar": {
             "outlinewidth": 0,
             "ticks": ""
            },
            "colorscale": [
             [
              0,
              "#0d0887"
             ],
             [
              0.1111111111111111,
              "#46039f"
             ],
             [
              0.2222222222222222,
              "#7201a8"
             ],
             [
              0.3333333333333333,
              "#9c179e"
             ],
             [
              0.4444444444444444,
              "#bd3786"
             ],
             [
              0.5555555555555556,
              "#d8576b"
             ],
             [
              0.6666666666666666,
              "#ed7953"
             ],
             [
              0.7777777777777778,
              "#fb9f3a"
             ],
             [
              0.8888888888888888,
              "#fdca26"
             ],
             [
              1,
              "#f0f921"
             ]
            ],
            "type": "surface"
           }
          ],
          "table": [
           {
            "cells": {
             "fill": {
              "color": "#EBF0F8"
             },
             "line": {
              "color": "white"
             }
            },
            "header": {
             "fill": {
              "color": "#C8D4E3"
             },
             "line": {
              "color": "white"
             }
            },
            "type": "table"
           }
          ]
         },
         "layout": {
          "annotationdefaults": {
           "arrowcolor": "#2a3f5f",
           "arrowhead": 0,
           "arrowwidth": 1
          },
          "autotypenumbers": "strict",
          "coloraxis": {
           "colorbar": {
            "outlinewidth": 0,
            "ticks": ""
           }
          },
          "colorscale": {
           "diverging": [
            [
             0,
             "#8e0152"
            ],
            [
             0.1,
             "#c51b7d"
            ],
            [
             0.2,
             "#de77ae"
            ],
            [
             0.3,
             "#f1b6da"
            ],
            [
             0.4,
             "#fde0ef"
            ],
            [
             0.5,
             "#f7f7f7"
            ],
            [
             0.6,
             "#e6f5d0"
            ],
            [
             0.7,
             "#b8e186"
            ],
            [
             0.8,
             "#7fbc41"
            ],
            [
             0.9,
             "#4d9221"
            ],
            [
             1,
             "#276419"
            ]
           ],
           "sequential": [
            [
             0,
             "#0d0887"
            ],
            [
             0.1111111111111111,
             "#46039f"
            ],
            [
             0.2222222222222222,
             "#7201a8"
            ],
            [
             0.3333333333333333,
             "#9c179e"
            ],
            [
             0.4444444444444444,
             "#bd3786"
            ],
            [
             0.5555555555555556,
             "#d8576b"
            ],
            [
             0.6666666666666666,
             "#ed7953"
            ],
            [
             0.7777777777777778,
             "#fb9f3a"
            ],
            [
             0.8888888888888888,
             "#fdca26"
            ],
            [
             1,
             "#f0f921"
            ]
           ],
           "sequentialminus": [
            [
             0,
             "#0d0887"
            ],
            [
             0.1111111111111111,
             "#46039f"
            ],
            [
             0.2222222222222222,
             "#7201a8"
            ],
            [
             0.3333333333333333,
             "#9c179e"
            ],
            [
             0.4444444444444444,
             "#bd3786"
            ],
            [
             0.5555555555555556,
             "#d8576b"
            ],
            [
             0.6666666666666666,
             "#ed7953"
            ],
            [
             0.7777777777777778,
             "#fb9f3a"
            ],
            [
             0.8888888888888888,
             "#fdca26"
            ],
            [
             1,
             "#f0f921"
            ]
           ]
          },
          "colorway": [
           "#636efa",
           "#EF553B",
           "#00cc96",
           "#ab63fa",
           "#FFA15A",
           "#19d3f3",
           "#FF6692",
           "#B6E880",
           "#FF97FF",
           "#FECB52"
          ],
          "font": {
           "color": "#2a3f5f"
          },
          "geo": {
           "bgcolor": "white",
           "lakecolor": "white",
           "landcolor": "#E5ECF6",
           "showlakes": true,
           "showland": true,
           "subunitcolor": "white"
          },
          "hoverlabel": {
           "align": "left"
          },
          "hovermode": "closest",
          "mapbox": {
           "style": "light"
          },
          "paper_bgcolor": "white",
          "plot_bgcolor": "#E5ECF6",
          "polar": {
           "angularaxis": {
            "gridcolor": "white",
            "linecolor": "white",
            "ticks": ""
           },
           "bgcolor": "#E5ECF6",
           "radialaxis": {
            "gridcolor": "white",
            "linecolor": "white",
            "ticks": ""
           }
          },
          "scene": {
           "xaxis": {
            "backgroundcolor": "#E5ECF6",
            "gridcolor": "white",
            "gridwidth": 2,
            "linecolor": "white",
            "showbackground": true,
            "ticks": "",
            "zerolinecolor": "white"
           },
           "yaxis": {
            "backgroundcolor": "#E5ECF6",
            "gridcolor": "white",
            "gridwidth": 2,
            "linecolor": "white",
            "showbackground": true,
            "ticks": "",
            "zerolinecolor": "white"
           },
           "zaxis": {
            "backgroundcolor": "#E5ECF6",
            "gridcolor": "white",
            "gridwidth": 2,
            "linecolor": "white",
            "showbackground": true,
            "ticks": "",
            "zerolinecolor": "white"
           }
          },
          "shapedefaults": {
           "line": {
            "color": "#2a3f5f"
           }
          },
          "ternary": {
           "aaxis": {
            "gridcolor": "white",
            "linecolor": "white",
            "ticks": ""
           },
           "baxis": {
            "gridcolor": "white",
            "linecolor": "white",
            "ticks": ""
           },
           "bgcolor": "#E5ECF6",
           "caxis": {
            "gridcolor": "white",
            "linecolor": "white",
            "ticks": ""
           }
          },
          "title": {
           "x": 0.05
          },
          "xaxis": {
           "automargin": true,
           "gridcolor": "white",
           "linecolor": "white",
           "ticks": "",
           "title": {
            "standoff": 15
           },
           "zerolinecolor": "white",
           "zerolinewidth": 2
          },
          "yaxis": {
           "automargin": true,
           "gridcolor": "white",
           "linecolor": "white",
           "ticks": "",
           "title": {
            "standoff": 15
           },
           "zerolinecolor": "white",
           "zerolinewidth": 2
          }
         }
        },
        "title": {
         "text": "Total Explained Variance: 93.60%"
        }
       }
      },
      "text/html": [
       "<div>                            <div id=\"2ce14c25-a3a9-40c8-bcda-617bc4ed68f5\" class=\"plotly-graph-div\" style=\"height:525px; width:100%;\"></div>            <script type=\"text/javascript\">                require([\"plotly\"], function(Plotly) {                    window.PLOTLYENV=window.PLOTLYENV || {};                                    if (document.getElementById(\"2ce14c25-a3a9-40c8-bcda-617bc4ed68f5\")) {                    Plotly.newPlot(                        \"2ce14c25-a3a9-40c8-bcda-617bc4ed68f5\",                        [{\"hovertemplate\": \"PC 1=%{x}<br>PC 2=%{y}<br>PC 3=%{z}<br>color=%{marker.color}<extra></extra>\", \"legendgroup\": \"\", \"marker\": {\"color\": [0, 0, 0, 0, 0, 0, 0, 0, 0, 0, 0, 0, 0, 0, 0, 0, 0, 0, 0, 0, 0, 0, 0, 0, 0, 0, 0, 0, 0, 0, 0, 0, 0, 1, 1, 1, 1, 1, 1, 1, 1, 1, 1, 1, 1, 1, 1, 1, 1, 1, 1, 1, 1, 1, 1, 1, 1, 1, 1, 1, 1, 1, 1, 1, 1, 1, 2, 2, 2, 2, 2, 2, 2, 2, 2, 2, 2, 2, 2, 2, 2, 2, 2, 2, 2, 2, 2, 2, 2, 2, 2, 2, 2, 2, 2, 2, 2, 2, 2], \"coloraxis\": \"coloraxis\", \"symbol\": \"circle\"}, \"mode\": \"markers\", \"name\": \"\", \"scene\": \"scene\", \"showlegend\": false, \"type\": \"scatter3d\", \"x\": [0.10197702844502061, -0.476555275089527, 0.07802164990138995, -0.02379506160796783, 0.052491469358537116, -0.07874848808476105, 0.2881186497961445, 0.4756569646616012, -0.030015958715980715, 0.4451463256511627, -0.0766293217880793, -0.09674794305495298, -0.03706145647865015, -0.2044253572945369, 0.16637072827716765, -0.13941173306758317, 0.041857987914429254, 0.16852826901092136, 0.022441301875594875, 0.2592082332491216, 0.21520742280126715, -0.07281492673609068, 0.033666652469645994, 0.10184015234528696, 0.09976630632723871, 0.49372349048790065, 0.08053519820246173, 0.018230858623077495, -0.16569825369569055, -0.08337510408819689, 0.07913608836709711, -0.16619830821274023, -0.22506931365749114, -0.3385681361699914, -0.3054716479138592, -0.2965032871046613, -0.15092349040326655, -0.10500095010608006, -0.12242104493933485, -0.12453828530574311, -0.08470060812219664, -0.1862346546645374, -0.14498614377733382, -0.2667981866087986, -0.20147994303604044, -0.24044804234278025, -0.2096313318080145, 0.028725532100577583, -0.12492758622871157, -0.17881083220693955, -0.12291301318943074, -0.053462225293113334, 0.09864789817540598, -0.11668996416577652, -0.033324643196983125, -0.15956492370746375, 0.1624531434809, -0.3664954107027445, -0.2336536292610086, -0.03874477193884552, -0.3722189726361814, -0.14483208984865908, -0.257239453602752, -0.04935079302356792, 0.1096064059297017, -0.18702138089526166, -0.10403862903849616, -0.0675637277408729, 0.15102099982170913, 0.35639989277617673, 0.21956539154300517, 0.9880882596135567, 0.33933517401172586, -0.08065191962285209, -0.1585901669004082, 0.08004081457918451, 0.8488748694881549, -0.002574563124475804, 0.20120880596945714, 0.2680421071220611, 0.01027841312859607, 0.21653474047689808, -0.3077400753900732, 0.04522138069097227, 0.09853997991989505, -0.08496840336764827, -0.07659911151241239, -0.21555027975511507, 0.16109336091142154, 0.26998552041218676, 0.15701297639901315, 0.2810341452401586, -0.03668857297397203, 0.07304913142857962, -0.009270444555870658, -0.12476584352978666, 0.22157706416838457, -0.15706507786947174, -0.08869202599905077], \"y\": [-0.14051592883035893, 0.36909623787300977, 0.06998096142541523, 0.11725396258879021, 0.26831147623985824, 0.19696871923148515, 0.1970878536741504, 0.0232836551791893, 0.08394461219011005, -0.04538617012435307, -0.17735810236463517, -0.05193928150775878, 0.00031760387279855404, 0.18354013356758891, -0.10409134204885648, 0.0185575822084171, -0.28355227399360533, 0.03915713511073239, -0.0031208701791303646, 0.08974587031650258, -0.1958332133048082, 0.1883188613346511, -0.10604685860914818, 0.15682595332243687, -0.010835074793515054, -0.03050441295763641, -0.21249292279243975, 0.07813162688934139, 0.029967923810635802, 0.17550418626216885, 0.11893553612160815, 0.1876990347436582, 0.1408056293467631, 0.10490300701759564, -0.04220381494640634, -0.0071919828503062035, -0.333302072231835, -0.24713554772515628, -0.2376306644572746, -0.16170752067153332, 0.02698099880705824, -0.2867434918158983, -0.23187116901212249, 0.017670627935764634, -0.38643418076116576, -0.2517752639242069, -0.06321513605280847, -0.0923606547512197, -0.004788618233651285, -0.055759301912455365, 0.0576438222273665, -0.21449583035674352, 0.022385370881079926, -0.023040947919248933, -0.0011623635722849783, 0.21519363801186997, -0.35435753197866005, 0.1407765427560537, -0.0447233185032246, -0.04753990025204416, 0.13900005380621044, -0.08241427039587192, -0.2755460787647129, -0.08141969724729278, -0.17635987449203852, -0.08789412820686054, 0.2137112572193564, 0.4630977077710183, -0.14982648596896578, -0.28902266757505074, -0.12971452172773276, 0.3566203090993636, -0.06274197877564286, -0.17286052625164616, 0.22814787784887053, 0.33941528326390785, 0.2987485892246976, -0.2369543525097257, -0.1645177106993908, -0.21444163501674005, 0.12425430234780716, 0.32374224302128435, 0.6100721281088337, -0.24899397874206033, -0.1833841763871451, 0.20206099746711337, 0.2559018414100566, 0.3065890328617709, -0.13038190617720177, -0.4261241561446647, -0.13821988599365348, 0.3140632199819245, 0.09267746757894467, 0.09593832874332407, -0.26622373970580004, -0.14850061010330717, 0.3694984107793622, 0.24442048418061266, -0.18228995334057332], \"z\": [-0.22608652721143566, -0.06781023512556811, -0.15888723858871462, 0.11744535253050306, -0.03608343989332983, 0.10647107312186967, 0.28467029881801525, 0.17649467971494934, -0.11139332776969971, -0.1527067444518785, -0.2813007595550813, 0.03294960084949233, -0.2307162916612354, 0.011942733143045552, -0.24116009984610687, 0.22273691544101357, 0.3422318027297887, 0.06564701926253116, 0.1281997739509496, -0.1331726723256514, -0.11569022781977942, 0.14994990027509836, -0.05722443688883787, 0.010687046569501308, 0.10367671136533546, -0.0002291643276384616, -0.07280097451763277, 0.296461348215651, 0.17625395631801247, 0.10517027773749031, -0.18594447210307197, 0.07197373187304243, 0.0847857745078858, 0.05694405172700321, -0.21882495973212074, -0.053456635251637234, -0.2774277337490376, 0.020320268954044533, 0.044652196965143325, -0.12947543324042, -0.1531434848594839, -0.11162295940044033, -0.027996404361988195, -0.09186499173193531, 0.23274758026038592, 0.4015642387406733, 0.13025475411047463, -0.2945089754524441, -0.23609677930735629, 0.19905261849279585, -0.033179281799591905, -0.13512506960183143, -0.20724946675421188, 0.04060244255642356, -0.21645602717058052, 0.05901658696623835, 0.22826429210381666, 0.03723432498143448, -0.012047286412286343, -0.3512802704073829, -0.004414642159077214, 0.08915040110148113, -0.06260684580699423, -0.04518881379248546, -0.1355629649452982, -0.05193761432697074, 0.021329882838239576, 0.04260843724515511, 0.46309345955840786, -0.1123984444410825, 0.43520531879205615, -0.05495186296872402, 0.11313304971361439, 0.047393957148852195, 0.02024257567990723, -0.29517956368289294, -0.06142015457331885, -0.1413174084859978, -0.17754923411086374, 0.29538808359845004, 0.4300560975091314, 0.1725041452624762, 0.015803077490200105, -0.24898600311369615, 0.0009977096408035435, 0.17699208741399491, 0.07874215211161394, -0.3318858786775371, 0.4996438231067266, -0.23045084146324205, -0.3098317045136974, -0.13633826758638307, -0.09193026706886899, -0.2664672489593806, 0.3883805596833503, 0.12001906959099064, 0.08823348464788687, 0.0157786487449386, -0.07371724116598612]}],                        {\"coloraxis\": {\"colorbar\": {\"title\": {\"text\": \"color\"}}, \"colorscale\": [[0.0, \"#0d0887\"], [0.1111111111111111, \"#46039f\"], [0.2222222222222222, \"#7201a8\"], [0.3333333333333333, \"#9c179e\"], [0.4444444444444444, \"#bd3786\"], [0.5555555555555556, \"#d8576b\"], [0.6666666666666666, \"#ed7953\"], [0.7777777777777778, \"#fb9f3a\"], [0.8888888888888888, \"#fdca26\"], [1.0, \"#f0f921\"]]}, \"legend\": {\"tracegroupgap\": 0}, \"scene\": {\"domain\": {\"x\": [0.0, 1.0], \"y\": [0.0, 1.0]}, \"xaxis\": {\"title\": {\"text\": \"PC 1\"}}, \"yaxis\": {\"title\": {\"text\": \"PC 2\"}}, \"zaxis\": {\"title\": {\"text\": \"PC 3\"}}}, \"template\": {\"data\": {\"bar\": [{\"error_x\": {\"color\": \"#2a3f5f\"}, \"error_y\": {\"color\": \"#2a3f5f\"}, \"marker\": {\"line\": {\"color\": \"#E5ECF6\", \"width\": 0.5}}, \"type\": \"bar\"}], \"barpolar\": [{\"marker\": {\"line\": {\"color\": \"#E5ECF6\", \"width\": 0.5}}, \"type\": \"barpolar\"}], \"carpet\": [{\"aaxis\": {\"endlinecolor\": \"#2a3f5f\", \"gridcolor\": \"white\", \"linecolor\": \"white\", \"minorgridcolor\": \"white\", \"startlinecolor\": \"#2a3f5f\"}, \"baxis\": {\"endlinecolor\": \"#2a3f5f\", \"gridcolor\": \"white\", \"linecolor\": \"white\", \"minorgridcolor\": \"white\", \"startlinecolor\": \"#2a3f5f\"}, \"type\": \"carpet\"}], \"choropleth\": [{\"colorbar\": {\"outlinewidth\": 0, \"ticks\": \"\"}, \"type\": \"choropleth\"}], \"contour\": [{\"colorbar\": {\"outlinewidth\": 0, \"ticks\": \"\"}, \"colorscale\": [[0.0, \"#0d0887\"], [0.1111111111111111, \"#46039f\"], [0.2222222222222222, \"#7201a8\"], [0.3333333333333333, \"#9c179e\"], [0.4444444444444444, \"#bd3786\"], [0.5555555555555556, \"#d8576b\"], [0.6666666666666666, \"#ed7953\"], [0.7777777777777778, \"#fb9f3a\"], [0.8888888888888888, \"#fdca26\"], [1.0, \"#f0f921\"]], \"type\": \"contour\"}], \"contourcarpet\": [{\"colorbar\": {\"outlinewidth\": 0, \"ticks\": \"\"}, \"type\": \"contourcarpet\"}], \"heatmap\": [{\"colorbar\": {\"outlinewidth\": 0, \"ticks\": \"\"}, \"colorscale\": [[0.0, \"#0d0887\"], [0.1111111111111111, \"#46039f\"], [0.2222222222222222, \"#7201a8\"], [0.3333333333333333, \"#9c179e\"], [0.4444444444444444, \"#bd3786\"], [0.5555555555555556, \"#d8576b\"], [0.6666666666666666, \"#ed7953\"], [0.7777777777777778, \"#fb9f3a\"], [0.8888888888888888, \"#fdca26\"], [1.0, \"#f0f921\"]], \"type\": \"heatmap\"}], \"heatmapgl\": [{\"colorbar\": {\"outlinewidth\": 0, \"ticks\": \"\"}, \"colorscale\": [[0.0, \"#0d0887\"], [0.1111111111111111, \"#46039f\"], [0.2222222222222222, \"#7201a8\"], [0.3333333333333333, \"#9c179e\"], [0.4444444444444444, \"#bd3786\"], [0.5555555555555556, \"#d8576b\"], [0.6666666666666666, \"#ed7953\"], [0.7777777777777778, \"#fb9f3a\"], [0.8888888888888888, \"#fdca26\"], [1.0, \"#f0f921\"]], \"type\": \"heatmapgl\"}], \"histogram\": [{\"marker\": {\"colorbar\": {\"outlinewidth\": 0, \"ticks\": \"\"}}, \"type\": \"histogram\"}], \"histogram2d\": [{\"colorbar\": {\"outlinewidth\": 0, \"ticks\": \"\"}, \"colorscale\": [[0.0, \"#0d0887\"], [0.1111111111111111, \"#46039f\"], [0.2222222222222222, \"#7201a8\"], [0.3333333333333333, \"#9c179e\"], [0.4444444444444444, \"#bd3786\"], [0.5555555555555556, \"#d8576b\"], [0.6666666666666666, \"#ed7953\"], [0.7777777777777778, \"#fb9f3a\"], [0.8888888888888888, \"#fdca26\"], [1.0, \"#f0f921\"]], \"type\": \"histogram2d\"}], \"histogram2dcontour\": [{\"colorbar\": {\"outlinewidth\": 0, \"ticks\": \"\"}, \"colorscale\": [[0.0, \"#0d0887\"], [0.1111111111111111, \"#46039f\"], [0.2222222222222222, \"#7201a8\"], [0.3333333333333333, \"#9c179e\"], [0.4444444444444444, \"#bd3786\"], [0.5555555555555556, \"#d8576b\"], [0.6666666666666666, \"#ed7953\"], [0.7777777777777778, \"#fb9f3a\"], [0.8888888888888888, \"#fdca26\"], [1.0, \"#f0f921\"]], \"type\": \"histogram2dcontour\"}], \"mesh3d\": [{\"colorbar\": {\"outlinewidth\": 0, \"ticks\": \"\"}, \"type\": \"mesh3d\"}], \"parcoords\": [{\"line\": {\"colorbar\": {\"outlinewidth\": 0, \"ticks\": \"\"}}, \"type\": \"parcoords\"}], \"pie\": [{\"automargin\": true, \"type\": \"pie\"}], \"scatter\": [{\"marker\": {\"colorbar\": {\"outlinewidth\": 0, \"ticks\": \"\"}}, \"type\": \"scatter\"}], \"scatter3d\": [{\"line\": {\"colorbar\": {\"outlinewidth\": 0, \"ticks\": \"\"}}, \"marker\": {\"colorbar\": {\"outlinewidth\": 0, \"ticks\": \"\"}}, \"type\": \"scatter3d\"}], \"scattercarpet\": [{\"marker\": {\"colorbar\": {\"outlinewidth\": 0, \"ticks\": \"\"}}, \"type\": \"scattercarpet\"}], \"scattergeo\": [{\"marker\": {\"colorbar\": {\"outlinewidth\": 0, \"ticks\": \"\"}}, \"type\": \"scattergeo\"}], \"scattergl\": [{\"marker\": {\"colorbar\": {\"outlinewidth\": 0, \"ticks\": \"\"}}, \"type\": \"scattergl\"}], \"scattermapbox\": [{\"marker\": {\"colorbar\": {\"outlinewidth\": 0, \"ticks\": \"\"}}, \"type\": \"scattermapbox\"}], \"scatterpolar\": [{\"marker\": {\"colorbar\": {\"outlinewidth\": 0, \"ticks\": \"\"}}, \"type\": \"scatterpolar\"}], \"scatterpolargl\": [{\"marker\": {\"colorbar\": {\"outlinewidth\": 0, \"ticks\": \"\"}}, \"type\": \"scatterpolargl\"}], \"scatterternary\": [{\"marker\": {\"colorbar\": {\"outlinewidth\": 0, \"ticks\": \"\"}}, \"type\": \"scatterternary\"}], \"surface\": [{\"colorbar\": {\"outlinewidth\": 0, \"ticks\": \"\"}, \"colorscale\": [[0.0, \"#0d0887\"], [0.1111111111111111, \"#46039f\"], [0.2222222222222222, \"#7201a8\"], [0.3333333333333333, \"#9c179e\"], [0.4444444444444444, \"#bd3786\"], [0.5555555555555556, \"#d8576b\"], [0.6666666666666666, \"#ed7953\"], [0.7777777777777778, \"#fb9f3a\"], [0.8888888888888888, \"#fdca26\"], [1.0, \"#f0f921\"]], \"type\": \"surface\"}], \"table\": [{\"cells\": {\"fill\": {\"color\": \"#EBF0F8\"}, \"line\": {\"color\": \"white\"}}, \"header\": {\"fill\": {\"color\": \"#C8D4E3\"}, \"line\": {\"color\": \"white\"}}, \"type\": \"table\"}]}, \"layout\": {\"annotationdefaults\": {\"arrowcolor\": \"#2a3f5f\", \"arrowhead\": 0, \"arrowwidth\": 1}, \"autotypenumbers\": \"strict\", \"coloraxis\": {\"colorbar\": {\"outlinewidth\": 0, \"ticks\": \"\"}}, \"colorscale\": {\"diverging\": [[0, \"#8e0152\"], [0.1, \"#c51b7d\"], [0.2, \"#de77ae\"], [0.3, \"#f1b6da\"], [0.4, \"#fde0ef\"], [0.5, \"#f7f7f7\"], [0.6, \"#e6f5d0\"], [0.7, \"#b8e186\"], [0.8, \"#7fbc41\"], [0.9, \"#4d9221\"], [1, \"#276419\"]], \"sequential\": [[0.0, \"#0d0887\"], [0.1111111111111111, \"#46039f\"], [0.2222222222222222, \"#7201a8\"], [0.3333333333333333, \"#9c179e\"], [0.4444444444444444, \"#bd3786\"], [0.5555555555555556, \"#d8576b\"], [0.6666666666666666, \"#ed7953\"], [0.7777777777777778, \"#fb9f3a\"], [0.8888888888888888, \"#fdca26\"], [1.0, \"#f0f921\"]], \"sequentialminus\": [[0.0, \"#0d0887\"], [0.1111111111111111, \"#46039f\"], [0.2222222222222222, \"#7201a8\"], [0.3333333333333333, \"#9c179e\"], [0.4444444444444444, \"#bd3786\"], [0.5555555555555556, \"#d8576b\"], [0.6666666666666666, \"#ed7953\"], [0.7777777777777778, \"#fb9f3a\"], [0.8888888888888888, \"#fdca26\"], [1.0, \"#f0f921\"]]}, \"colorway\": [\"#636efa\", \"#EF553B\", \"#00cc96\", \"#ab63fa\", \"#FFA15A\", \"#19d3f3\", \"#FF6692\", \"#B6E880\", \"#FF97FF\", \"#FECB52\"], \"font\": {\"color\": \"#2a3f5f\"}, \"geo\": {\"bgcolor\": \"white\", \"lakecolor\": \"white\", \"landcolor\": \"#E5ECF6\", \"showlakes\": true, \"showland\": true, \"subunitcolor\": \"white\"}, \"hoverlabel\": {\"align\": \"left\"}, \"hovermode\": \"closest\", \"mapbox\": {\"style\": \"light\"}, \"paper_bgcolor\": \"white\", \"plot_bgcolor\": \"#E5ECF6\", \"polar\": {\"angularaxis\": {\"gridcolor\": \"white\", \"linecolor\": \"white\", \"ticks\": \"\"}, \"bgcolor\": \"#E5ECF6\", \"radialaxis\": {\"gridcolor\": \"white\", \"linecolor\": \"white\", \"ticks\": \"\"}}, \"scene\": {\"xaxis\": {\"backgroundcolor\": \"#E5ECF6\", \"gridcolor\": \"white\", \"gridwidth\": 2, \"linecolor\": \"white\", \"showbackground\": true, \"ticks\": \"\", \"zerolinecolor\": \"white\"}, \"yaxis\": {\"backgroundcolor\": \"#E5ECF6\", \"gridcolor\": \"white\", \"gridwidth\": 2, \"linecolor\": \"white\", \"showbackground\": true, \"ticks\": \"\", \"zerolinecolor\": \"white\"}, \"zaxis\": {\"backgroundcolor\": \"#E5ECF6\", \"gridcolor\": \"white\", \"gridwidth\": 2, \"linecolor\": \"white\", \"showbackground\": true, \"ticks\": \"\", \"zerolinecolor\": \"white\"}}, \"shapedefaults\": {\"line\": {\"color\": \"#2a3f5f\"}}, \"ternary\": {\"aaxis\": {\"gridcolor\": \"white\", \"linecolor\": \"white\", \"ticks\": \"\"}, \"baxis\": {\"gridcolor\": \"white\", \"linecolor\": \"white\", \"ticks\": \"\"}, \"bgcolor\": \"#E5ECF6\", \"caxis\": {\"gridcolor\": \"white\", \"linecolor\": \"white\", \"ticks\": \"\"}}, \"title\": {\"x\": 0.05}, \"xaxis\": {\"automargin\": true, \"gridcolor\": \"white\", \"linecolor\": \"white\", \"ticks\": \"\", \"title\": {\"standoff\": 15}, \"zerolinecolor\": \"white\", \"zerolinewidth\": 2}, \"yaxis\": {\"automargin\": true, \"gridcolor\": \"white\", \"linecolor\": \"white\", \"ticks\": \"\", \"title\": {\"standoff\": 15}, \"zerolinecolor\": \"white\", \"zerolinewidth\": 2}}}, \"title\": {\"text\": \"Total Explained Variance: 93.60%\"}},                        {\"responsive\": true}                    ).then(function(){\n",
       "                            \n",
       "var gd = document.getElementById('2ce14c25-a3a9-40c8-bcda-617bc4ed68f5');\n",
       "var x = new MutationObserver(function (mutations, observer) {{\n",
       "        var display = window.getComputedStyle(gd).display;\n",
       "        if (!display || display === 'none') {{\n",
       "            console.log([gd, 'removed!']);\n",
       "            Plotly.purge(gd);\n",
       "            observer.disconnect();\n",
       "        }}\n",
       "}});\n",
       "\n",
       "// Listen for the removal of the full notebook cells\n",
       "var notebookContainer = gd.closest('#notebook-container');\n",
       "if (notebookContainer) {{\n",
       "    x.observe(notebookContainer, {childList: true});\n",
       "}}\n",
       "\n",
       "// Listen for the clearing of the current output cell\n",
       "var outputEl = gd.closest('.output');\n",
       "if (outputEl) {{\n",
       "    x.observe(outputEl, {childList: true});\n",
       "}}\n",
       "\n",
       "                        })                };                });            </script>        </div>"
      ]
     },
     "metadata": {},
     "output_type": "display_data"
    }
   ],
   "source": [
    "total_var = pca.explained_variance_ratio_.sum() * 100\n",
    "\n",
    "fig = px.scatter_3d(\n",
    "    X_train, x=0, y=1, z=2, color=y_train,\n",
    "    title=f'Total Explained Variance: {total_var:.2f}%',\n",
    "    labels={'0': 'PC 1', '1': 'PC 2', '2': 'PC 3'}\n",
    ")\n",
    "fig.show()"
   ]
  },
  {
   "cell_type": "markdown",
   "metadata": {},
   "source": [
    "### QSVM"
   ]
  },
  {
   "cell_type": "code",
   "execution_count": 173,
   "metadata": {
    "scrolled": true
   },
   "outputs": [
    {
     "name": "stdout",
     "output_type": "stream",
     "text": [
      "testing success ratio:  0.55\n"
     ]
    }
   ],
   "source": [
    "from qiskit.aqua.components.multiclass_extensions import AllPairs\n",
    "\n",
    "seed = 10598\n",
    "feature_dim = 3\n",
    "\n",
    "feature_map = ZZFeatureMap(feature_dimension=feature_dim, reps=2, entanglement='full')\n",
    "\n",
    "qsvm = QSVM(feature_map, training_input, test_input, multiclass_extension = AllPairs())\n",
    "\n",
    "backend = BasicAer.get_backend('qasm_simulator')\n",
    "quantum_instance = QuantumInstance(backend, shots=1024, seed_simulator=seed, seed_transpiler=seed)\n",
    "\n",
    "result = qsvm.run(quantum_instance)\n",
    "\n",
    "print(\"testing success ratio: \", result['testing_accuracy'])"
   ]
  },
  {
   "cell_type": "code",
   "execution_count": 174,
   "metadata": {},
   "outputs": [
    {
     "name": "stdout",
     "output_type": "stream",
     "text": [
      "testing success ratio:  0.5\n"
     ]
    }
   ],
   "source": [
    "feature_dim = 3\n",
    "\n",
    "feature_map =  PauliFeatureMap(feature_dimension=feature_dim, reps=1, paulis = ['Z', 'ZZ'])\n",
    "qsvm = QSVM(feature_map, training_input, test_input, multiclass_extension = AllPairs())\n",
    "\n",
    "backend = BasicAer.get_backend('qasm_simulator')\n",
    "quantum_instance = QuantumInstance(backend, shots=1024, seed_simulator=seed, seed_transpiler=seed)\n",
    "\n",
    "result = qsvm.run(quantum_instance)\n",
    "\n",
    "print(\"testing success ratio: \", result['testing_accuracy'])"
   ]
  },
  {
   "cell_type": "code",
   "execution_count": 175,
   "metadata": {},
   "outputs": [
    {
     "name": "stdout",
     "output_type": "stream",
     "text": [
      "testing success ratio:  0.4666666666666667\n"
     ]
    }
   ],
   "source": [
    "feature_map = PauliFeatureMap(feature_dimension=feature_dim, reps=1, paulis = ['Z', 'YY'])\n",
    "qsvm = QSVM(feature_map, training_input, test_input, multiclass_extension = AllPairs())\n",
    "\n",
    "backend = BasicAer.get_backend('qasm_simulator')\n",
    "quantum_instance = QuantumInstance(backend, shots=1024, seed_simulator=seed, seed_transpiler=seed)\n",
    "\n",
    "result = qsvm.run(quantum_instance)\n",
    "\n",
    "print(\"testing success ratio: \", result['testing_accuracy'])"
   ]
  },
  {
   "cell_type": "code",
   "execution_count": 176,
   "metadata": {},
   "outputs": [
    {
     "name": "stdout",
     "output_type": "stream",
     "text": [
      "testing success ratio:  0.5666666666666667\n"
     ]
    }
   ],
   "source": [
    "feature_map = PauliFeatureMap(feature_dimension=feature_dim, reps=1, paulis = ['Z','X','ZY'])\n",
    "qsvm = QSVM(feature_map, training_input, test_input, multiclass_extension = AllPairs())\n",
    "\n",
    "backend = BasicAer.get_backend('qasm_simulator')\n",
    "quantum_instance = QuantumInstance(backend, shots=1024, seed_simulator=seed, seed_transpiler=seed)\n",
    "\n",
    "result = qsvm.run(quantum_instance)\n",
    "\n",
    "print(\"testing success ratio: \", result['testing_accuracy'])"
   ]
  },
  {
   "cell_type": "markdown",
   "metadata": {},
   "source": [
    "## Classical SVM"
   ]
  },
  {
   "cell_type": "markdown",
   "metadata": {},
   "source": [
    "Three-class classification"
   ]
  },
  {
   "cell_type": "code",
   "execution_count": 177,
   "metadata": {},
   "outputs": [
    {
     "name": "stdout",
     "output_type": "stream",
     "text": [
      "Testing success ratio: 0.5833333333333333\n"
     ]
    }
   ],
   "source": [
    "from qiskit.aqua.algorithms import SklearnSVM\n",
    "\n",
    "result = SklearnSVM(training_input, test_input, multiclass_extension = AllPairs()).run()\n",
    "\n",
    "print(f'Testing success ratio: {result[\"testing_accuracy\"]}')"
   ]
  },
  {
   "cell_type": "markdown",
   "metadata": {},
   "source": [
    "Two-class classification (STAR vs NOT STAR)"
   ]
  },
  {
   "cell_type": "code",
   "execution_count": 134,
   "metadata": {},
   "outputs": [
    {
     "name": "stderr",
     "output_type": "stream",
     "text": [
      "Dataset has just two classes. Supplied multiclass extension will be ignored\n"
     ]
    },
    {
     "name": "stdout",
     "output_type": "stream",
     "text": [
      "Testing success ratio: 0.6\n"
     ]
    }
   ],
   "source": [
    "from qiskit.aqua.algorithms import SklearnSVM\n",
    "\n",
    "result = SklearnSVM(training_input, test_input, multiclass_extension = AllPairs()).run()\n",
    "\n",
    "print(f'Testing success ratio: {result[\"testing_accuracy\"]}')"
   ]
  },
  {
   "cell_type": "code",
   "execution_count": null,
   "metadata": {},
   "outputs": [],
   "source": []
  }
 ],
 "metadata": {
  "kernelspec": {
   "display_name": "Python 3",
   "language": "python",
   "name": "python3"
  },
  "language_info": {
   "codemirror_mode": {
    "name": "ipython",
    "version": 3
   },
   "file_extension": ".py",
   "mimetype": "text/x-python",
   "name": "python",
   "nbconvert_exporter": "python",
   "pygments_lexer": "ipython3",
   "version": "3.8.6"
  },
  "metadata": {
   "interpreter": {
    "hash": "0d53adc9b3e6306b4419b6c14cab3dbc6aa1f3237ea044c22b454e79edb906fd"
   }
  },
  "varInspector": {
   "cols": {
    "lenName": 16,
    "lenType": 16,
    "lenVar": 40
   },
   "kernels_config": {
    "python": {
     "delete_cmd_postfix": "",
     "delete_cmd_prefix": "del ",
     "library": "var_list.py",
     "varRefreshCmd": "print(var_dic_list())"
    },
    "r": {
     "delete_cmd_postfix": ") ",
     "delete_cmd_prefix": "rm(",
     "library": "var_list.r",
     "varRefreshCmd": "cat(var_dic_list()) "
    }
   },
   "types_to_exclude": [
    "module",
    "function",
    "builtin_function_or_method",
    "instance",
    "_Feature"
   ],
   "window_display": false
  }
 },
 "nbformat": 4,
 "nbformat_minor": 1
}
