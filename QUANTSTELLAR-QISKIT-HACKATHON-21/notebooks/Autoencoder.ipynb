{
 "cells": [
  {
   "cell_type": "code",
   "execution_count": 111,
   "id": "unauthorized-bunch",
   "metadata": {},
   "outputs": [],
   "source": [
    "import matplotlib.pyplot as plt\n",
    "import numpy as np\n",
    "import pandas as pd\n",
    "from qiskit import BasicAer\n",
    "from qiskit.circuit.library import ZZFeatureMap, ZFeatureMap, PauliFeatureMap\n",
    "\n",
    "from qiskit.aqua import QuantumInstance, aqua_globals\n",
    "from qiskit.aqua.algorithms import QSVM, VQC\n",
    "from qiskit.aqua.utils import split_dataset_to_data_and_labels, map_label_to_class_name\n",
    "\n",
    "seed = 10599\n",
    "aqua_globals.random_seed = seed\n",
    "\n",
    "import sys\n",
    "import os\n",
    "from pathlib import Path\n",
    "import pickle\n",
    "import numpy as np\n",
    "import time\n",
    "import sklearn.model_selection as model_selection\n",
    "from sklearn.decomposition import PCA\n",
    "main_folder=str(Path.cwd().parent) \n",
    "sys.path.append(main_folder) \n",
    "data_folder = f'{main_folder}/data'\n"
   ]
  },
  {
   "cell_type": "code",
   "execution_count": 59,
   "id": "verbal-writing",
   "metadata": {},
   "outputs": [],
   "source": [
    "from tensorflow.keras import optimizers\n",
    "from tensorflow.keras.models import Model, Sequential\n",
    "from tensorflow.keras.layers import Conv2D, MaxPooling2D, UpSampling2D, Dropout, Flatten, Dense, Reshape, Input"
   ]
  },
  {
   "cell_type": "code",
   "execution_count": 7,
   "id": "romance-driving",
   "metadata": {},
   "outputs": [],
   "source": [
    "from sklearn.preprocessing import LabelEncoder"
   ]
  },
  {
   "cell_type": "code",
   "execution_count": 96,
   "id": "simple-embassy",
   "metadata": {},
   "outputs": [],
   "source": [
    "with open(f'{data_folder}/processed/DR16_processed_X.pkl','rb') as input_file:\n",
    "    X = pickle.load(input_file)\n",
    "with open(f'{data_folder}/processed/DR16_processed_y.pkl','rb') as input_file:\n",
    "    y = pickle.load(input_file)"
   ]
  },
  {
   "cell_type": "code",
   "execution_count": 97,
   "id": "stylish-syndication",
   "metadata": {},
   "outputs": [
    {
     "name": "stdout",
     "output_type": "stream",
     "text": [
      "(100000, 8)\n",
      "(100000,)\n"
     ]
    }
   ],
   "source": [
    "print(X.shape)\n",
    "print(y.shape)"
   ]
  },
  {
   "cell_type": "code",
   "execution_count": 98,
   "id": "recognized-familiar",
   "metadata": {},
   "outputs": [],
   "source": [
    "le = LabelEncoder()\n",
    "y_num = le.fit_transform(y.values)"
   ]
  },
  {
   "cell_type": "code",
   "execution_count": 99,
   "id": "completed-vocabulary",
   "metadata": {},
   "outputs": [
    {
     "name": "stdout",
     "output_type": "stream",
     "text": [
      "(80000, 8)\n",
      "(20000, 8)\n"
     ]
    }
   ],
   "source": [
    "X_train, X_test, y_train, y_test = model_selection.train_test_split(X, y_num, train_size=0.8, test_size=0.2, random_state=101, stratify=y_num)\n",
    "\n",
    "print(X_train.shape)\n",
    "print(X_test.shape)"
   ]
  },
  {
   "cell_type": "code",
   "execution_count": 13,
   "id": "analyzed-angel",
   "metadata": {},
   "outputs": [
    {
     "data": {
      "text/plain": [
       "array([[    0, 41058],\n",
       "       [    1,  8465],\n",
       "       [    2, 30477]], dtype=int64)"
      ]
     },
     "execution_count": 13,
     "metadata": {},
     "output_type": "execute_result"
    }
   ],
   "source": [
    "(unique, counts) = np.unique(y_train, return_counts=True)\n",
    "frequencies = np.asarray((unique, counts)).T\n",
    "frequencies"
   ]
  },
  {
   "cell_type": "code",
   "execution_count": 14,
   "id": "alive-induction",
   "metadata": {},
   "outputs": [],
   "source": [
    "n_examples = 500\n",
    "example_images = X_test[0:n_examples]\n",
    "example_labels = y_test[0:n_examples]"
   ]
  },
  {
   "cell_type": "code",
   "execution_count": 44,
   "id": "exceptional-adoption",
   "metadata": {},
   "outputs": [
    {
     "data": {
      "text/plain": [
       "<KerasTensor: shape=(None, 8) dtype=float32 (created by layer 'input_5')>"
      ]
     },
     "execution_count": 44,
     "metadata": {},
     "output_type": "execute_result"
    }
   ],
   "source": [
    "encoded_dim = 3\n",
    "ncol = X_train.shape[1]\n",
    "input_dim = Input(shape = (ncol, ))\n",
    "input_dim"
   ]
  },
  {
   "cell_type": "code",
   "execution_count": 60,
   "id": "olive-finder",
   "metadata": {},
   "outputs": [],
   "source": [
    "encoded1 = Dense(7, activation = 'relu')(input_dim)\n",
    "encoded2 = Dense(5, activation = 'relu')(encoded1)\n",
    "encoded3 = Dense(3, activation = 'relu')(encoded2)\n",
    "encoded4 = Dense(encoded_dim, activation = 'relu')(encoded3)\n",
    "\n",
    "# Decoder Layers\n",
    "decoded1 = Dense(3, activation = 'relu')(encoded4)\n",
    "decoded2 = Dense(5, activation = 'relu')(decoded1)\n",
    "decoded3 = Dense(7, activation = 'relu')(decoded2)\n",
    "decoded4 = Dense(ncol, activation = 'sigmoid')(decoded3)\n",
    "\n",
    "# Combine Encoder and Deocder layers\n",
    "autoencoder = Model(inputs = input_dim, outputs = decoded4)\n",
    "\n",
    "optim = optimizers.Adam(\n",
    "    learning_rate=0.001, beta_1=0.9, beta_2=0.999, epsilon=1e-07, amsgrad=False,\n",
    "    name='Adam'\n",
    ")\n",
    "\n",
    "# Compile the Model\n",
    "autoencoder.compile(optimizer = optim, loss = 'binary_crossentropy')"
   ]
  },
  {
   "cell_type": "code",
   "execution_count": 61,
   "id": "parliamentary-headset",
   "metadata": {
    "scrolled": true
   },
   "outputs": [
    {
     "name": "stdout",
     "output_type": "stream",
     "text": [
      "Model: \"model_13\"\n",
      "_________________________________________________________________\n",
      "Layer (type)                 Output Shape              Param #   \n",
      "=================================================================\n",
      "input_5 (InputLayer)         [(None, 8)]               0         \n",
      "_________________________________________________________________\n",
      "dense_91 (Dense)             (None, 7)                 63        \n",
      "_________________________________________________________________\n",
      "dense_92 (Dense)             (None, 5)                 40        \n",
      "_________________________________________________________________\n",
      "dense_93 (Dense)             (None, 3)                 18        \n",
      "_________________________________________________________________\n",
      "dense_94 (Dense)             (None, 3)                 12        \n",
      "_________________________________________________________________\n",
      "dense_95 (Dense)             (None, 3)                 12        \n",
      "_________________________________________________________________\n",
      "dense_96 (Dense)             (None, 5)                 20        \n",
      "_________________________________________________________________\n",
      "dense_97 (Dense)             (None, 7)                 42        \n",
      "_________________________________________________________________\n",
      "dense_98 (Dense)             (None, 8)                 64        \n",
      "=================================================================\n",
      "Total params: 271\n",
      "Trainable params: 271\n",
      "Non-trainable params: 0\n",
      "_________________________________________________________________\n"
     ]
    }
   ],
   "source": [
    "autoencoder.summary()"
   ]
  },
  {
   "cell_type": "code",
   "execution_count": 62,
   "id": "handy-empty",
   "metadata": {
    "scrolled": true
   },
   "outputs": [
    {
     "name": "stdout",
     "output_type": "stream",
     "text": [
      "Epoch 1/30\n",
      "1250/1250 [==============================] - 1s 638us/step - loss: 0.5447 - val_loss: 0.5249\n",
      "Epoch 2/30\n",
      "1250/1250 [==============================] - 1s 550us/step - loss: 0.5222 - val_loss: 0.5210\n",
      "Epoch 3/30\n",
      "1250/1250 [==============================] - 1s 545us/step - loss: 0.5198 - val_loss: 0.5196\n",
      "Epoch 4/30\n",
      "1250/1250 [==============================] - 1s 550us/step - loss: 0.5187 - val_loss: 0.5187\n",
      "Epoch 5/30\n",
      "1250/1250 [==============================] - 1s 552us/step - loss: 0.5180 - val_loss: 0.5182\n",
      "Epoch 6/30\n",
      "1250/1250 [==============================] - 1s 555us/step - loss: 0.5177 - val_loss: 0.5180\n",
      "Epoch 7/30\n",
      "1250/1250 [==============================] - 1s 545us/step - loss: 0.5175 - val_loss: 0.5178\n",
      "Epoch 8/30\n",
      "1250/1250 [==============================] - 1s 548us/step - loss: 0.5174 - val_loss: 0.5176\n",
      "Epoch 9/30\n",
      "1250/1250 [==============================] - 1s 544us/step - loss: 0.5172 - val_loss: 0.5174\n",
      "Epoch 10/30\n",
      "1250/1250 [==============================] - 1s 551us/step - loss: 0.5168 - val_loss: 0.5169\n",
      "Epoch 11/30\n",
      "1250/1250 [==============================] - 1s 546us/step - loss: 0.5162 - val_loss: 0.5163\n",
      "Epoch 12/30\n",
      "1250/1250 [==============================] - 1s 543us/step - loss: 0.5158 - val_loss: 0.5160\n",
      "Epoch 13/30\n",
      "1250/1250 [==============================] - 1s 548us/step - loss: 0.5156 - val_loss: 0.5159\n",
      "Epoch 14/30\n",
      "1250/1250 [==============================] - 1s 554us/step - loss: 0.5155 - val_loss: 0.5158\n",
      "Epoch 15/30\n",
      "1250/1250 [==============================] - 1s 546us/step - loss: 0.5154 - val_loss: 0.5158\n",
      "Epoch 16/30\n",
      "1250/1250 [==============================] - 1s 554us/step - loss: 0.5154 - val_loss: 0.5157\n",
      "Epoch 17/30\n",
      "1250/1250 [==============================] - 1s 557us/step - loss: 0.5154 - val_loss: 0.5157\n",
      "Epoch 18/30\n",
      "1250/1250 [==============================] - 1s 557us/step - loss: 0.5154 - val_loss: 0.5157\n",
      "Epoch 19/30\n",
      "1250/1250 [==============================] - 1s 555us/step - loss: 0.5154 - val_loss: 0.5157\n",
      "Epoch 20/30\n",
      "1250/1250 [==============================] - 1s 552us/step - loss: 0.5154 - val_loss: 0.5156\n",
      "Epoch 21/30\n",
      "1250/1250 [==============================] - 1s 548us/step - loss: 0.5154 - val_loss: 0.5156\n",
      "Epoch 22/30\n",
      "1250/1250 [==============================] - 1s 547us/step - loss: 0.5153 - val_loss: 0.5156\n",
      "Epoch 23/30\n",
      "1250/1250 [==============================] - 1s 546us/step - loss: 0.5153 - val_loss: 0.5156\n",
      "Epoch 24/30\n",
      "1250/1250 [==============================] - 1s 548us/step - loss: 0.5153 - val_loss: 0.5156\n",
      "Epoch 25/30\n",
      "1250/1250 [==============================] - 1s 557us/step - loss: 0.5153 - val_loss: 0.5156\n",
      "Epoch 26/30\n",
      "1250/1250 [==============================] - 1s 561us/step - loss: 0.5153 - val_loss: 0.5156\n",
      "Epoch 27/30\n",
      "1250/1250 [==============================] - 1s 554us/step - loss: 0.5153 - val_loss: 0.5156\n",
      "Epoch 28/30\n",
      "1250/1250 [==============================] - 1s 551us/step - loss: 0.5153 - val_loss: 0.5156\n",
      "Epoch 29/30\n",
      "1250/1250 [==============================] - 1s 552us/step - loss: 0.5153 - val_loss: 0.5156\n",
      "Epoch 30/30\n",
      "1250/1250 [==============================] - 1s 564us/step - loss: 0.5153 - val_loss: 0.5156\n"
     ]
    },
    {
     "data": {
      "text/plain": [
       "<tensorflow.python.keras.callbacks.History at 0x1fc3f0f4be0>"
      ]
     },
     "execution_count": 62,
     "metadata": {},
     "output_type": "execute_result"
    }
   ],
   "source": [
    "autoencoder.fit(X_train, X_train, epochs = 30, batch_size = 64, shuffle = False, validation_data = (X_test, X_test))"
   ]
  },
  {
   "cell_type": "code",
   "execution_count": 100,
   "id": "cordless-ticket",
   "metadata": {},
   "outputs": [],
   "source": [
    "encoder = Model(inputs = input_dim, outputs = encoded4)\n",
    "encoded_input = Input(shape = (encoded_dim, ))"
   ]
  },
  {
   "cell_type": "code",
   "execution_count": 101,
   "id": "suspended-intensity",
   "metadata": {},
   "outputs": [],
   "source": [
    "encoded_train = pd.DataFrame(encoder.predict(X))\n",
    "encoded_train = encoded_train.add_prefix('feature_')\n",
    "\n",
    "encoded_test = pd.DataFrame(encoder.predict(X_test))\n",
    "encoded_test = encoded_test.add_prefix('feature_')"
   ]
  },
  {
   "cell_type": "code",
   "execution_count": 81,
   "id": "catholic-planning",
   "metadata": {},
   "outputs": [],
   "source": [
    "# encoded_train['target'] = y_num\n",
    "# encoded_test['target'] = y_test"
   ]
  },
  {
   "cell_type": "code",
   "execution_count": 102,
   "id": "international-tourism",
   "metadata": {
    "scrolled": true
   },
   "outputs": [
    {
     "name": "stdout",
     "output_type": "stream",
     "text": [
      "(100000, 3)\n"
     ]
    },
    {
     "data": {
      "text/html": [
       "<div>\n",
       "<style scoped>\n",
       "    .dataframe tbody tr th:only-of-type {\n",
       "        vertical-align: middle;\n",
       "    }\n",
       "\n",
       "    .dataframe tbody tr th {\n",
       "        vertical-align: top;\n",
       "    }\n",
       "\n",
       "    .dataframe thead th {\n",
       "        text-align: right;\n",
       "    }\n",
       "</style>\n",
       "<table border=\"1\" class=\"dataframe\">\n",
       "  <thead>\n",
       "    <tr style=\"text-align: right;\">\n",
       "      <th></th>\n",
       "      <th>feature_0</th>\n",
       "      <th>feature_1</th>\n",
       "      <th>feature_2</th>\n",
       "    </tr>\n",
       "  </thead>\n",
       "  <tbody>\n",
       "    <tr>\n",
       "      <th>0</th>\n",
       "      <td>1.744848</td>\n",
       "      <td>1.656402</td>\n",
       "      <td>0.858677</td>\n",
       "    </tr>\n",
       "    <tr>\n",
       "      <th>1</th>\n",
       "      <td>1.742593</td>\n",
       "      <td>2.473604</td>\n",
       "      <td>0.890759</td>\n",
       "    </tr>\n",
       "    <tr>\n",
       "      <th>2</th>\n",
       "      <td>2.046029</td>\n",
       "      <td>2.894971</td>\n",
       "      <td>1.692442</td>\n",
       "    </tr>\n",
       "    <tr>\n",
       "      <th>3</th>\n",
       "      <td>1.695630</td>\n",
       "      <td>3.002543</td>\n",
       "      <td>0.958708</td>\n",
       "    </tr>\n",
       "    <tr>\n",
       "      <th>4</th>\n",
       "      <td>1.534996</td>\n",
       "      <td>2.967988</td>\n",
       "      <td>0.604628</td>\n",
       "    </tr>\n",
       "  </tbody>\n",
       "</table>\n",
       "</div>"
      ],
      "text/plain": [
       "   feature_0  feature_1  feature_2\n",
       "0   1.744848   1.656402   0.858677\n",
       "1   1.742593   2.473604   0.890759\n",
       "2   2.046029   2.894971   1.692442\n",
       "3   1.695630   3.002543   0.958708\n",
       "4   1.534996   2.967988   0.604628"
      ]
     },
     "execution_count": 102,
     "metadata": {},
     "output_type": "execute_result"
    }
   ],
   "source": [
    "print(encoded_train.shape)\n",
    "encoded_train.head()"
   ]
  },
  {
   "cell_type": "code",
   "execution_count": 67,
   "id": "equivalent-packing",
   "metadata": {
    "scrolled": true
   },
   "outputs": [
    {
     "data": {
      "text/plain": [
       "2.845912    2\n",
       "3.081599    2\n",
       "2.958723    2\n",
       "2.697657    2\n",
       "2.547033    2\n",
       "           ..\n",
       "2.747480    1\n",
       "0.577970    1\n",
       "2.893318    1\n",
       "2.962333    1\n",
       "2.739542    1\n",
       "Name: feature_1, Length: 79557, dtype: int64"
      ]
     },
     "execution_count": 67,
     "metadata": {},
     "output_type": "execute_result"
    }
   ],
   "source": [
    "encoded_train['feature_1'].value_counts()"
   ]
  },
  {
   "cell_type": "markdown",
   "id": "possible-event",
   "metadata": {},
   "source": [
    "## QSVM"
   ]
  },
  {
   "cell_type": "code",
   "execution_count": 86,
   "id": "surprised-disaster",
   "metadata": {},
   "outputs": [],
   "source": [
    "from qiskit.aqua.components.multiclass_extensions import AllPairs, OneAgainstRest, ErrorCorrectingCode"
   ]
  },
  {
   "cell_type": "code",
   "execution_count": 103,
   "id": "demographic-violation",
   "metadata": {},
   "outputs": [],
   "source": [
    "def split_balanced(data, target, train_size=100, test_size=60):\n",
    "    \n",
    "    np.random.seed(0)\n",
    "\n",
    "    classes = np.unique(target)\n",
    "    # can give test_size as fraction of input data size of number of samples\n",
    "    if test_size<1:\n",
    "        n_test = np.round(len(target)*test_size)\n",
    "    else:\n",
    "        n_test = test_size\n",
    "    n_train = train_size #max(0,len(target)-n_test)\n",
    "    n_train_per_class = max(1,int(np.floor(n_train/len(classes))))\n",
    "    n_test_per_class = max(1,int(np.floor(n_test/len(classes))))\n",
    "\n",
    "    ixs = []\n",
    "    for cl in classes:\n",
    "        if (n_train_per_class+n_test_per_class) > np.sum(target==cl):\n",
    "            # if data has too few samples for this class, do upsampling\n",
    "            # split the data to training and testing before sampling so data points won't be\n",
    "            #  shared among training and test data\n",
    "            splitix = int(np.ceil(n_train_per_class/(n_train_per_class+n_test_per_class)*np.sum(target==cl)))\n",
    "            ixs.append(np.r_[np.random.choice(np.nonzero(target==cl)[0][:splitix], n_train_per_class),\n",
    "                np.random.choice(np.nonzero(target==cl)[0][splitix:], n_test_per_class)])\n",
    "        else:\n",
    "            ixs.append(np.random.choice(np.nonzero(target==cl)[0], n_train_per_class+n_test_per_class,\n",
    "                replace=False))\n",
    "\n",
    "    # take same num of samples from all classes\n",
    "    ix_train = np.concatenate([x[:n_train_per_class] for x in ixs])\n",
    "    ix_test = np.concatenate([x[n_train_per_class:(n_train_per_class+n_test_per_class)] for x in ixs])\n",
    "\n",
    "    X_train = data[ix_train,:]\n",
    "    X_test = data[ix_test,:]\n",
    "    y_train = target[ix_train]\n",
    "    y_test = target[ix_test]\n",
    "\n",
    "    return X_train, X_test, y_train, y_test"
   ]
  },
  {
   "cell_type": "code",
   "execution_count": 113,
   "id": "requested-cause",
   "metadata": {
    "scrolled": false
   },
   "outputs": [
    {
     "name": "stdout",
     "output_type": "stream",
     "text": [
      "(99, 3)\n",
      "(60, 3)\n",
      "(99,)\n",
      "(60,)\n"
     ]
    }
   ],
   "source": [
    "X_train, X_test, y_train, y_test = split_balanced(np.array(encoded_train), y_num, train_size=100, test_size=60)\n",
    "\n",
    "print(X_train.shape)\n",
    "print(X_test.shape)\n",
    "\n",
    "print(y_train.shape)\n",
    "print(y_test.shape)"
   ]
  },
  {
   "cell_type": "code",
   "execution_count": 114,
   "id": "standing-night",
   "metadata": {},
   "outputs": [
    {
     "name": "stdout",
     "output_type": "stream",
     "text": [
      " Training data distribution\n",
      " [[ 0 33]\n",
      " [ 1 33]\n",
      " [ 2 33]]\n",
      " Test data distribution\n",
      " [[ 0 20]\n",
      " [ 1 20]\n",
      " [ 2 20]]\n"
     ]
    }
   ],
   "source": [
    "(unique, counts) = np.unique(y_train, return_counts=True)\n",
    "frequencies = np.asarray((unique, counts)).T\n",
    "print(\" Training data distribution\\n\", frequencies)\n",
    "\n",
    "(unique, counts) = np.unique(y_test, return_counts=True)\n",
    "frequencies = np.asarray((unique, counts)).T\n",
    "print(\" Test data distribution\\n\", frequencies)"
   ]
  },
  {
   "cell_type": "code",
   "execution_count": 115,
   "id": "weird-shoot",
   "metadata": {},
   "outputs": [
    {
     "data": {
      "text/plain": [
       "['GALAXY', 'QSO', 'STAR']"
      ]
     },
     "execution_count": 115,
     "metadata": {},
     "output_type": "execute_result"
    }
   ],
   "source": [
    "class_labels = list(set(y))\n",
    "class_labels"
   ]
  },
  {
   "cell_type": "code",
   "execution_count": 116,
   "id": "living-reducing",
   "metadata": {},
   "outputs": [],
   "source": [
    "training_size = len(X_train)\n",
    "test_size = len(X_test)\n",
    "\n",
    "#this is where I transform our dataframe to Dict[key:np.array]\n",
    "if class_labels[0].isdigit():\n",
    "        # Pick training size number of samples from each distro\n",
    "    training_input = {key: (X_train[y_train == int(key), :])[:training_size] for k, key in enumerate(class_labels)}\n",
    "    #test_input_extra = {key: (X_test_extra[y_test_extra == int(key), :])[:test_size_extra] for k, key in enumerate(class_labels_Star)}\n",
    "    test_input = {key: (X_test[y_test == int(key), :])[: test_size] for k, key in enumerate(class_labels)}\n",
    "else:\n",
    "    # if they aren't\n",
    "    training_input = {key: (X_train[y_train == k, :])[:training_size] for k, key in enumerate(class_labels)}\n",
    "    #test_input_extra = {key: (X_test_extra[y_test_extra == k, :])[:test_size_extra] for k, key in enumerate(class_labels_Star)}\n",
    "    test_input = {key: (X_test[y_test == k, :])[:test_size] for k, key in enumerate(class_labels)}"
   ]
  },
  {
   "cell_type": "code",
   "execution_count": 117,
   "id": "coordinate-burke",
   "metadata": {},
   "outputs": [],
   "source": [
    "seed = 10598\n",
    "feature_dim = 3"
   ]
  },
  {
   "cell_type": "code",
   "execution_count": 118,
   "id": "british-variation",
   "metadata": {
    "scrolled": true
   },
   "outputs": [
    {
     "data": {
      "text/plain": [
       "{'GALAXY': array([[1.6240178 , 2.982646  , 0.76894796],\n",
       "        [1.0064902 , 0.9820663 , 0.        ],\n",
       "        [1.7363446 , 2.6736493 , 0.95900154],\n",
       "        [1.5811248 , 2.7609663 , 0.7163141 ],\n",
       "        [1.7886126 , 2.4221861 , 1.0641718 ],\n",
       "        [1.5140903 , 2.4925282 , 0.55449224],\n",
       "        [2.054512  , 3.3286853 , 1.7986248 ],\n",
       "        [2.2617693 , 3.8315532 , 2.2655025 ],\n",
       "        [1.5902625 , 2.5325584 , 0.6489163 ],\n",
       "        [2.1236913 , 3.4391067 , 1.8855752 ],\n",
       "        [1.4473133 , 2.7450457 , 0.3264413 ],\n",
       "        [1.4603544 , 2.8828564 , 0.43791997],\n",
       "        [1.5766478 , 2.5438974 , 0.5834159 ],\n",
       "        [1.4681133 , 2.277638  , 0.36074543],\n",
       "        [1.8156742 , 3.0517778 , 1.1367811 ],\n",
       "        [1.38679   , 2.9005938 , 0.34282726],\n",
       "        [1.3891788 , 3.8393967 , 0.5264163 ],\n",
       "        [1.8061213 , 3.1406417 , 1.2205659 ],\n",
       "        [1.5762806 , 3.0622594 , 0.7471432 ],\n",
       "        [2.0080671 , 2.9660532 , 1.5598528 ],\n",
       "        [1.8002119 , 3.4380507 , 1.1939175 ],\n",
       "        [1.6028671 , 2.6254983 , 0.72924125],\n",
       "        [1.5637615 , 3.0419009 , 0.6778825 ],\n",
       "        [1.8575939 , 2.799808  , 1.2422414 ],\n",
       "        [1.7074536 , 3.1855638 , 1.0210602 ],\n",
       "        [2.1832356 , 3.6788557 , 2.0731373 ],\n",
       "        [1.6203731 , 3.3194604 , 0.80682886],\n",
       "        [1.5770202 , 3.105526  , 0.79946905],\n",
       "        [1.3809761 , 2.7933738 , 0.29910612],\n",
       "        [1.5364012 , 2.5480063 , 0.58989346],\n",
       "        [1.8054211 , 2.5759788 , 1.0675378 ],\n",
       "        [1.4731749 , 2.3772097 , 0.41223955],\n",
       "        [1.409844  , 2.4112473 , 0.275354  ]], dtype=float32),\n",
       " 'QSO': array([[0.7897451 , 1.9476601 , 0.        ],\n",
       "        [0.855978  , 1.9725655 , 0.        ],\n",
       "        [0.98754245, 2.207597  , 0.        ],\n",
       "        [0.90213877, 2.661284  , 0.        ],\n",
       "        [1.1121054 , 3.0401392 , 0.        ],\n",
       "        [1.0332913 , 2.9831066 , 0.        ],\n",
       "        [0.98463273, 2.5567856 , 0.        ],\n",
       "        [1.4754744 , 2.4793456 , 0.40988308],\n",
       "        [1.0057771 , 2.8272145 , 0.        ],\n",
       "        [1.0486066 , 2.8743932 , 0.        ],\n",
       "        [1.1033729 , 2.2031622 , 0.        ],\n",
       "        [0.51305914, 3.1491456 , 0.        ],\n",
       "        [0.7836635 , 3.2336934 , 0.        ],\n",
       "        [0.69271094, 2.4271193 , 0.        ],\n",
       "        [1.6204082 , 2.7294805 , 0.6904408 ],\n",
       "        [1.4386294 , 2.3874505 , 0.28779262],\n",
       "        [1.2959895 , 2.9337013 , 0.15289143],\n",
       "        [1.4741713 , 2.5406005 , 0.4160548 ],\n",
       "        [1.0562959 , 2.7605052 , 0.        ],\n",
       "        [1.7497575 , 2.723213  , 0.9871644 ],\n",
       "        [1.4613419 , 2.811201  , 0.42688262],\n",
       "        [1.468581  , 2.4858682 , 0.4162354 ],\n",
       "        [1.1071966 , 2.044551  , 0.        ],\n",
       "        [1.5821502 , 4.0477533 , 0.90536284],\n",
       "        [0.6665945 , 1.739725  , 0.        ],\n",
       "        [0.84768856, 2.2913861 , 0.        ],\n",
       "        [1.1855645 , 2.2107794 , 0.        ],\n",
       "        [0.81162655, 1.7860559 , 0.        ],\n",
       "        [1.3437688 , 2.9055462 , 0.22377345],\n",
       "        [0.62811553, 2.562023  , 0.        ],\n",
       "        [1.4022381 , 2.8294926 , 0.3552646 ],\n",
       "        [1.640057  , 3.1884463 , 0.83377063],\n",
       "        [0.8032672 , 2.3334854 , 0.        ]], dtype=float32),\n",
       " 'STAR': array([[1.5913558 , 2.3779235 , 0.6445623 ],\n",
       "        [1.81728   , 2.0362885 , 1.0534991 ],\n",
       "        [1.6957766 , 3.9811275 , 1.1712956 ],\n",
       "        [1.9629445 , 3.8472579 , 1.578402  ],\n",
       "        [1.770204  , 3.9983838 , 1.3342446 ],\n",
       "        [2.9806323 , 3.625055  , 3.7415047 ],\n",
       "        [1.9935606 , 3.6640546 , 1.6848375 ],\n",
       "        [1.4412041 , 3.161149  , 0.43095863],\n",
       "        [1.531987  , 2.2686892 , 0.5031434 ],\n",
       "        [1.9635189 , 2.0620127 , 1.2937747 ],\n",
       "        [2.7740269 , 3.537515  , 3.3165789 ],\n",
       "        [1.538775  , 3.1729212 , 0.5903043 ],\n",
       "        [1.8530891 , 3.3131826 , 1.2546923 ],\n",
       "        [1.8180007 , 4.063947  , 1.4071838 ],\n",
       "        [1.5703169 , 3.1728137 , 0.82713187],\n",
       "        [2.0674388 , 2.876622  , 1.7206544 ],\n",
       "        [1.654887  , 0.41678217, 0.6125777 ],\n",
       "        [1.6100266 , 3.135811  , 0.70807135],\n",
       "        [1.6446977 , 3.3826525 , 0.887777  ],\n",
       "        [1.6219897 , 2.6364148 , 0.7654767 ],\n",
       "        [1.7027742 , 2.4490545 , 0.87406075],\n",
       "        [1.6218222 , 1.353099  , 0.49974728],\n",
       "        [1.7164204 , 4.0066195 , 1.2254413 ],\n",
       "        [1.7436055 , 3.7885916 , 1.1046745 ],\n",
       "        [1.8295704 , 3.03808   , 1.1367209 ],\n",
       "        [2.2177184 , 2.6282132 , 1.9290735 ],\n",
       "        [1.6821042 , 2.5932086 , 0.8146859 ],\n",
       "        [1.8067888 , 2.5182495 , 1.0415014 ],\n",
       "        [1.4280114 , 3.8485277 , 0.5793384 ],\n",
       "        [1.3972799 , 3.1457176 , 0.35134727],\n",
       "        [2.121881  , 2.6986585 , 1.7980222 ],\n",
       "        [1.5681047 , 2.2506664 , 0.565524  ],\n",
       "        [1.4501499 , 3.0241039 , 0.4005217 ]], dtype=float32)}"
      ]
     },
     "execution_count": 118,
     "metadata": {},
     "output_type": "execute_result"
    }
   ],
   "source": [
    "training_input"
   ]
  },
  {
   "cell_type": "code",
   "execution_count": 121,
   "id": "architectural-campaign",
   "metadata": {},
   "outputs": [
    {
     "ename": "RuntimeError",
     "evalue": "module compiled against API version 0xe but this version of numpy is 0xd",
     "output_type": "error",
     "traceback": [
      "\u001b[1;31m---------------------------------------------------------------------------\u001b[0m",
      "\u001b[1;31mRuntimeError\u001b[0m                              Traceback (most recent call last)",
      "\u001b[1;31mRuntimeError\u001b[0m: module compiled against API version 0xe but this version of numpy is 0xd"
     ]
    },
    {
     "ename": "MissingOptionalLibraryError",
     "evalue": "\"The 'CVXPY' library is required to use 'optimize_svm'. You can install it with 'pip install 'qiskit-aqua[cvx]''.  numpy.core.multiarray failed to import.\"",
     "output_type": "error",
     "traceback": [
      "\u001b[1;31m---------------------------------------------------------------------------\u001b[0m",
      "\u001b[1;31mImportError\u001b[0m                               Traceback (most recent call last)",
      "\u001b[1;32mc:\\users\\zarreen-naowal.reza\\appdata\\local\\programs\\python\\python38\\lib\\site-packages\\qiskit\\aqua\\utils\\qp_solver.py\u001b[0m in \u001b[0;36moptimize_svm\u001b[1;34m(kernel_matrix, y, scaling, maxiter, show_progress, max_iters, lambda2)\u001b[0m\n\u001b[0;32m     55\u001b[0m     \u001b[1;32mtry\u001b[0m\u001b[1;33m:\u001b[0m\u001b[1;33m\u001b[0m\u001b[1;33m\u001b[0m\u001b[0m\n\u001b[1;32m---> 56\u001b[1;33m         \u001b[1;32mimport\u001b[0m \u001b[0mcvxpy\u001b[0m\u001b[1;33m\u001b[0m\u001b[1;33m\u001b[0m\u001b[0m\n\u001b[0m\u001b[0;32m     57\u001b[0m     \u001b[1;32mexcept\u001b[0m \u001b[0mImportError\u001b[0m \u001b[1;32mas\u001b[0m \u001b[0mex\u001b[0m\u001b[1;33m:\u001b[0m\u001b[1;33m\u001b[0m\u001b[1;33m\u001b[0m\u001b[0m\n",
      "\u001b[1;32mc:\\users\\zarreen-naowal.reza\\appdata\\local\\programs\\python\\python38\\lib\\site-packages\\cvxpy\\__init__.py\u001b[0m in \u001b[0;36m<module>\u001b[1;34m\u001b[0m\n\u001b[0;32m     17\u001b[0m \u001b[0m__version__\u001b[0m \u001b[1;33m=\u001b[0m \u001b[1;34m\"1.1.11\"\u001b[0m\u001b[1;33m\u001b[0m\u001b[1;33m\u001b[0m\u001b[0m\n\u001b[1;32m---> 18\u001b[1;33m \u001b[1;32mfrom\u001b[0m \u001b[0mcvxpy\u001b[0m\u001b[1;33m.\u001b[0m\u001b[0matoms\u001b[0m \u001b[1;32mimport\u001b[0m \u001b[1;33m*\u001b[0m\u001b[1;33m\u001b[0m\u001b[1;33m\u001b[0m\u001b[0m\n\u001b[0m\u001b[0;32m     19\u001b[0m \u001b[1;32mfrom\u001b[0m \u001b[0mcvxpy\u001b[0m\u001b[1;33m.\u001b[0m\u001b[0mconstraints\u001b[0m \u001b[1;32mimport\u001b[0m \u001b[0mNonPos\u001b[0m\u001b[1;33m,\u001b[0m \u001b[0mZero\u001b[0m\u001b[1;33m,\u001b[0m \u001b[0mSOC\u001b[0m\u001b[1;33m,\u001b[0m \u001b[0mPSD\u001b[0m\u001b[1;33m\u001b[0m\u001b[1;33m\u001b[0m\u001b[0m\n",
      "\u001b[1;32mc:\\users\\zarreen-naowal.reza\\appdata\\local\\programs\\python\\python38\\lib\\site-packages\\cvxpy\\atoms\\__init__.py\u001b[0m in \u001b[0;36m<module>\u001b[1;34m\u001b[0m\n\u001b[0;32m     19\u001b[0m \u001b[1;32mfrom\u001b[0m \u001b[0mcvxpy\u001b[0m\u001b[1;33m.\u001b[0m\u001b[0matoms\u001b[0m\u001b[1;33m.\u001b[0m\u001b[0meye_minus_inv\u001b[0m \u001b[1;32mimport\u001b[0m \u001b[0meye_minus_inv\u001b[0m\u001b[1;33m,\u001b[0m \u001b[0mresolvent\u001b[0m\u001b[1;33m\u001b[0m\u001b[1;33m\u001b[0m\u001b[0m\n\u001b[1;32m---> 20\u001b[1;33m \u001b[1;32mfrom\u001b[0m \u001b[0mcvxpy\u001b[0m\u001b[1;33m.\u001b[0m\u001b[0matoms\u001b[0m\u001b[1;33m.\u001b[0m\u001b[0mgeo_mean\u001b[0m \u001b[1;32mimport\u001b[0m \u001b[0mgeo_mean\u001b[0m\u001b[1;33m\u001b[0m\u001b[1;33m\u001b[0m\u001b[0m\n\u001b[0m\u001b[0;32m     21\u001b[0m \u001b[1;32mfrom\u001b[0m \u001b[0mcvxpy\u001b[0m\u001b[1;33m.\u001b[0m\u001b[0matoms\u001b[0m\u001b[1;33m.\u001b[0m\u001b[0mgen_lambda_max\u001b[0m \u001b[1;32mimport\u001b[0m \u001b[0mgen_lambda_max\u001b[0m\u001b[1;33m\u001b[0m\u001b[1;33m\u001b[0m\u001b[0m\n",
      "\u001b[1;32mc:\\users\\zarreen-naowal.reza\\appdata\\local\\programs\\python\\python38\\lib\\site-packages\\cvxpy\\atoms\\geo_mean.py\u001b[0m in \u001b[0;36m<module>\u001b[1;34m\u001b[0m\n\u001b[0;32m     19\u001b[0m \u001b[1;32mimport\u001b[0m \u001b[0mscipy\u001b[0m\u001b[1;33m.\u001b[0m\u001b[0msparse\u001b[0m \u001b[1;32mas\u001b[0m \u001b[0msp\u001b[0m\u001b[1;33m\u001b[0m\u001b[1;33m\u001b[0m\u001b[0m\n\u001b[1;32m---> 20\u001b[1;33m from cvxpy.utilities.power_tools import (fracify, decompose, approx_error, lower_bound,\n\u001b[0m\u001b[0;32m     21\u001b[0m                                          over_bound, prettydict)\n",
      "\u001b[1;32mc:\\users\\zarreen-naowal.reza\\appdata\\local\\programs\\python\\python38\\lib\\site-packages\\cvxpy\\utilities\\power_tools.py\u001b[0m in \u001b[0;36m<module>\u001b[1;34m\u001b[0m\n\u001b[0;32m     17\u001b[0m \u001b[1;32mfrom\u001b[0m \u001b[0mfractions\u001b[0m \u001b[1;32mimport\u001b[0m \u001b[0mFraction\u001b[0m\u001b[1;33m\u001b[0m\u001b[1;33m\u001b[0m\u001b[0m\n\u001b[1;32m---> 18\u001b[1;33m \u001b[1;32mfrom\u001b[0m \u001b[0mcvxpy\u001b[0m\u001b[1;33m.\u001b[0m\u001b[0matoms\u001b[0m\u001b[1;33m.\u001b[0m\u001b[0maffine\u001b[0m\u001b[1;33m.\u001b[0m\u001b[0mreshape\u001b[0m \u001b[1;32mimport\u001b[0m \u001b[0mreshape\u001b[0m\u001b[1;33m\u001b[0m\u001b[1;33m\u001b[0m\u001b[0m\n\u001b[0m\u001b[0;32m     19\u001b[0m \u001b[1;32mfrom\u001b[0m \u001b[0mcvxpy\u001b[0m\u001b[1;33m.\u001b[0m\u001b[0matoms\u001b[0m\u001b[1;33m.\u001b[0m\u001b[0maffine\u001b[0m\u001b[1;33m.\u001b[0m\u001b[0mvstack\u001b[0m \u001b[1;32mimport\u001b[0m \u001b[0mvstack\u001b[0m\u001b[1;33m\u001b[0m\u001b[1;33m\u001b[0m\u001b[0m\n",
      "\u001b[1;32mc:\\users\\zarreen-naowal.reza\\appdata\\local\\programs\\python\\python38\\lib\\site-packages\\cvxpy\\atoms\\affine\\reshape.py\u001b[0m in \u001b[0;36m<module>\u001b[1;34m\u001b[0m\n\u001b[0;32m     17\u001b[0m \u001b[1;32mfrom\u001b[0m \u001b[0mcvxpy\u001b[0m\u001b[1;33m.\u001b[0m\u001b[0mexpressions\u001b[0m\u001b[1;33m.\u001b[0m\u001b[0mexpression\u001b[0m \u001b[1;32mimport\u001b[0m \u001b[0mExpression\u001b[0m\u001b[1;33m\u001b[0m\u001b[1;33m\u001b[0m\u001b[0m\n\u001b[1;32m---> 18\u001b[1;33m \u001b[1;32mfrom\u001b[0m \u001b[0mcvxpy\u001b[0m\u001b[1;33m.\u001b[0m\u001b[0matoms\u001b[0m\u001b[1;33m.\u001b[0m\u001b[0maffine\u001b[0m\u001b[1;33m.\u001b[0m\u001b[0mhstack\u001b[0m \u001b[1;32mimport\u001b[0m \u001b[0mhstack\u001b[0m\u001b[1;33m\u001b[0m\u001b[1;33m\u001b[0m\u001b[0m\n\u001b[0m\u001b[0;32m     19\u001b[0m \u001b[1;32mfrom\u001b[0m \u001b[0mcvxpy\u001b[0m\u001b[1;33m.\u001b[0m\u001b[0matoms\u001b[0m\u001b[1;33m.\u001b[0m\u001b[0maffine\u001b[0m\u001b[1;33m.\u001b[0m\u001b[0maffine_atom\u001b[0m \u001b[1;32mimport\u001b[0m \u001b[0mAffAtom\u001b[0m\u001b[1;33m\u001b[0m\u001b[1;33m\u001b[0m\u001b[0m\n",
      "\u001b[1;32mc:\\users\\zarreen-naowal.reza\\appdata\\local\\programs\\python\\python38\\lib\\site-packages\\cvxpy\\atoms\\affine\\hstack.py\u001b[0m in \u001b[0;36m<module>\u001b[1;34m\u001b[0m\n\u001b[0;32m     17\u001b[0m \u001b[1;32mimport\u001b[0m \u001b[0mcvxpy\u001b[0m\u001b[1;33m.\u001b[0m\u001b[0mlin_ops\u001b[0m\u001b[1;33m.\u001b[0m\u001b[0mlin_utils\u001b[0m \u001b[1;32mas\u001b[0m \u001b[0mlu\u001b[0m\u001b[1;33m\u001b[0m\u001b[1;33m\u001b[0m\u001b[0m\n\u001b[1;32m---> 18\u001b[1;33m \u001b[1;32mfrom\u001b[0m \u001b[0mcvxpy\u001b[0m\u001b[1;33m.\u001b[0m\u001b[0matoms\u001b[0m\u001b[1;33m.\u001b[0m\u001b[0maffine\u001b[0m\u001b[1;33m.\u001b[0m\u001b[0maffine_atom\u001b[0m \u001b[1;32mimport\u001b[0m \u001b[0mAffAtom\u001b[0m\u001b[1;33m\u001b[0m\u001b[1;33m\u001b[0m\u001b[0m\n\u001b[0m\u001b[0;32m     19\u001b[0m \u001b[1;32mimport\u001b[0m \u001b[0mnumpy\u001b[0m \u001b[1;32mas\u001b[0m \u001b[0mnp\u001b[0m\u001b[1;33m\u001b[0m\u001b[1;33m\u001b[0m\u001b[0m\n",
      "\u001b[1;32mc:\\users\\zarreen-naowal.reza\\appdata\\local\\programs\\python\\python38\\lib\\site-packages\\cvxpy\\atoms\\affine\\affine_atom.py\u001b[0m in \u001b[0;36m<module>\u001b[1;34m\u001b[0m\n\u001b[0;32m     21\u001b[0m \u001b[1;32mfrom\u001b[0m \u001b[0mcvxpy\u001b[0m\u001b[1;33m.\u001b[0m\u001b[0matoms\u001b[0m\u001b[1;33m.\u001b[0m\u001b[0matom\u001b[0m \u001b[1;32mimport\u001b[0m \u001b[0mAtom\u001b[0m\u001b[1;33m\u001b[0m\u001b[1;33m\u001b[0m\u001b[0m\n\u001b[1;32m---> 22\u001b[1;33m \u001b[1;32mfrom\u001b[0m \u001b[0mcvxpy\u001b[0m\u001b[1;33m.\u001b[0m\u001b[0mcvxcore\u001b[0m\u001b[1;33m.\u001b[0m\u001b[0mpython\u001b[0m \u001b[1;32mimport\u001b[0m \u001b[0mcanonInterface\u001b[0m\u001b[1;33m\u001b[0m\u001b[1;33m\u001b[0m\u001b[0m\n\u001b[0m\u001b[0;32m     23\u001b[0m \u001b[1;32mfrom\u001b[0m \u001b[0mcvxpy\u001b[0m\u001b[1;33m.\u001b[0m\u001b[0mexpressions\u001b[0m\u001b[1;33m.\u001b[0m\u001b[0mconstants\u001b[0m \u001b[1;32mimport\u001b[0m \u001b[0mConstant\u001b[0m\u001b[1;33m\u001b[0m\u001b[1;33m\u001b[0m\u001b[0m\n",
      "\u001b[1;32mc:\\users\\zarreen-naowal.reza\\appdata\\local\\programs\\python\\python38\\lib\\site-packages\\cvxpy\\cvxcore\\python\\__init__.py\u001b[0m in \u001b[0;36m<module>\u001b[1;34m\u001b[0m\n\u001b[0;32m      2\u001b[0m \u001b[1;31m# tries to import cvxcore as `from . import _cvxcore`\u001b[0m\u001b[1;33m\u001b[0m\u001b[1;33m\u001b[0m\u001b[1;33m\u001b[0m\u001b[0m\n\u001b[1;32m----> 3\u001b[1;33m \u001b[1;32mimport\u001b[0m \u001b[0m_cvxcore\u001b[0m\u001b[1;33m\u001b[0m\u001b[1;33m\u001b[0m\u001b[0m\n\u001b[0m",
      "\u001b[1;31mImportError\u001b[0m: numpy.core.multiarray failed to import",
      "\nThe above exception was the direct cause of the following exception:\n",
      "\u001b[1;31mMissingOptionalLibraryError\u001b[0m               Traceback (most recent call last)",
      "\u001b[1;32m<ipython-input-121-e15966c2f396>\u001b[0m in \u001b[0;36m<module>\u001b[1;34m\u001b[0m\n\u001b[0;32m      5\u001b[0m \u001b[0mquantum_instance\u001b[0m \u001b[1;33m=\u001b[0m \u001b[0mQuantumInstance\u001b[0m\u001b[1;33m(\u001b[0m\u001b[0mbackend\u001b[0m\u001b[1;33m,\u001b[0m \u001b[0mshots\u001b[0m\u001b[1;33m=\u001b[0m\u001b[1;36m1024\u001b[0m\u001b[1;33m,\u001b[0m \u001b[0mseed_simulator\u001b[0m\u001b[1;33m=\u001b[0m\u001b[0mseed\u001b[0m\u001b[1;33m,\u001b[0m \u001b[0mseed_transpiler\u001b[0m\u001b[1;33m=\u001b[0m\u001b[0mseed\u001b[0m\u001b[1;33m)\u001b[0m\u001b[1;33m\u001b[0m\u001b[1;33m\u001b[0m\u001b[0m\n\u001b[0;32m      6\u001b[0m \u001b[1;33m\u001b[0m\u001b[0m\n\u001b[1;32m----> 7\u001b[1;33m \u001b[0mresult\u001b[0m \u001b[1;33m=\u001b[0m \u001b[0mqsvm\u001b[0m\u001b[1;33m.\u001b[0m\u001b[0mrun\u001b[0m\u001b[1;33m(\u001b[0m\u001b[0mquantum_instance\u001b[0m\u001b[1;33m)\u001b[0m\u001b[1;33m\u001b[0m\u001b[1;33m\u001b[0m\u001b[0m\n\u001b[0m\u001b[0;32m      8\u001b[0m \u001b[1;33m\u001b[0m\u001b[0m\n\u001b[0;32m      9\u001b[0m \u001b[0mprint\u001b[0m\u001b[1;33m(\u001b[0m\u001b[1;34m\"testing success ratio: \"\u001b[0m\u001b[1;33m,\u001b[0m \u001b[0mresult\u001b[0m\u001b[1;33m[\u001b[0m\u001b[1;34m'testing_accuracy'\u001b[0m\u001b[1;33m]\u001b[0m\u001b[1;33m)\u001b[0m\u001b[1;33m\u001b[0m\u001b[1;33m\u001b[0m\u001b[0m\n",
      "\u001b[1;32mc:\\users\\zarreen-naowal.reza\\appdata\\local\\programs\\python\\python38\\lib\\site-packages\\qiskit\\aqua\\algorithms\\quantum_algorithm.py\u001b[0m in \u001b[0;36mrun\u001b[1;34m(self, quantum_instance, **kwargs)\u001b[0m\n\u001b[0;32m     69\u001b[0m                 \u001b[0mself\u001b[0m\u001b[1;33m.\u001b[0m\u001b[0mquantum_instance\u001b[0m \u001b[1;33m=\u001b[0m \u001b[0mquantum_instance\u001b[0m\u001b[1;33m\u001b[0m\u001b[1;33m\u001b[0m\u001b[0m\n\u001b[0;32m     70\u001b[0m \u001b[1;33m\u001b[0m\u001b[0m\n\u001b[1;32m---> 71\u001b[1;33m         \u001b[1;32mreturn\u001b[0m \u001b[0mself\u001b[0m\u001b[1;33m.\u001b[0m\u001b[0m_run\u001b[0m\u001b[1;33m(\u001b[0m\u001b[1;33m)\u001b[0m\u001b[1;33m\u001b[0m\u001b[1;33m\u001b[0m\u001b[0m\n\u001b[0m\u001b[0;32m     72\u001b[0m \u001b[1;33m\u001b[0m\u001b[0m\n\u001b[0;32m     73\u001b[0m     \u001b[1;33m@\u001b[0m\u001b[0mabstractmethod\u001b[0m\u001b[1;33m\u001b[0m\u001b[1;33m\u001b[0m\u001b[0m\n",
      "\u001b[1;32mc:\\users\\zarreen-naowal.reza\\appdata\\local\\programs\\python\\python38\\lib\\site-packages\\qiskit\\aqua\\algorithms\\classifiers\\qsvm\\qsvm.py\u001b[0m in \u001b[0;36m_run\u001b[1;34m(self)\u001b[0m\n\u001b[0;32m    474\u001b[0m \u001b[1;33m\u001b[0m\u001b[0m\n\u001b[0;32m    475\u001b[0m     \u001b[1;32mdef\u001b[0m \u001b[0m_run\u001b[0m\u001b[1;33m(\u001b[0m\u001b[0mself\u001b[0m\u001b[1;33m)\u001b[0m\u001b[1;33m:\u001b[0m\u001b[1;33m\u001b[0m\u001b[1;33m\u001b[0m\u001b[0m\n\u001b[1;32m--> 476\u001b[1;33m         \u001b[1;32mreturn\u001b[0m \u001b[0mself\u001b[0m\u001b[1;33m.\u001b[0m\u001b[0minstance\u001b[0m\u001b[1;33m.\u001b[0m\u001b[0mrun\u001b[0m\u001b[1;33m(\u001b[0m\u001b[1;33m)\u001b[0m\u001b[1;33m\u001b[0m\u001b[1;33m\u001b[0m\u001b[0m\n\u001b[0m\u001b[0;32m    477\u001b[0m \u001b[1;33m\u001b[0m\u001b[0m\n\u001b[0;32m    478\u001b[0m     \u001b[1;33m@\u001b[0m\u001b[0mproperty\u001b[0m\u001b[1;33m\u001b[0m\u001b[1;33m\u001b[0m\u001b[0m\n",
      "\u001b[1;32mc:\\users\\zarreen-naowal.reza\\appdata\\local\\programs\\python\\python38\\lib\\site-packages\\qiskit\\aqua\\algorithms\\classifiers\\qsvm\\_qsvm_multiclass.py\u001b[0m in \u001b[0;36mrun\u001b[1;34m(self)\u001b[0m\n\u001b[0;32m     58\u001b[0m         \u001b[0mput\u001b[0m \u001b[0mthe\u001b[0m \u001b[0mtrain\u001b[0m\u001b[1;33m,\u001b[0m \u001b[0mtest\u001b[0m\u001b[1;33m,\u001b[0m \u001b[0mpredict\u001b[0m \u001b[0mtogether\u001b[0m\u001b[1;33m\u001b[0m\u001b[1;33m\u001b[0m\u001b[0m\n\u001b[0;32m     59\u001b[0m         \"\"\"\n\u001b[1;32m---> 60\u001b[1;33m         \u001b[0mself\u001b[0m\u001b[1;33m.\u001b[0m\u001b[0mtrain\u001b[0m\u001b[1;33m(\u001b[0m\u001b[0mself\u001b[0m\u001b[1;33m.\u001b[0m\u001b[0m_qalgo\u001b[0m\u001b[1;33m.\u001b[0m\u001b[0mtraining_dataset\u001b[0m\u001b[1;33m[\u001b[0m\u001b[1;36m0\u001b[0m\u001b[1;33m]\u001b[0m\u001b[1;33m,\u001b[0m \u001b[0mself\u001b[0m\u001b[1;33m.\u001b[0m\u001b[0m_qalgo\u001b[0m\u001b[1;33m.\u001b[0m\u001b[0mtraining_dataset\u001b[0m\u001b[1;33m[\u001b[0m\u001b[1;36m1\u001b[0m\u001b[1;33m]\u001b[0m\u001b[1;33m)\u001b[0m\u001b[1;33m\u001b[0m\u001b[1;33m\u001b[0m\u001b[0m\n\u001b[0m\u001b[0;32m     61\u001b[0m         \u001b[1;32mif\u001b[0m \u001b[0mself\u001b[0m\u001b[1;33m.\u001b[0m\u001b[0m_qalgo\u001b[0m\u001b[1;33m.\u001b[0m\u001b[0mtest_dataset\u001b[0m \u001b[1;32mis\u001b[0m \u001b[1;32mnot\u001b[0m \u001b[1;32mNone\u001b[0m\u001b[1;33m:\u001b[0m\u001b[1;33m\u001b[0m\u001b[1;33m\u001b[0m\u001b[0m\n\u001b[0;32m     62\u001b[0m             \u001b[0mself\u001b[0m\u001b[1;33m.\u001b[0m\u001b[0mtest\u001b[0m\u001b[1;33m(\u001b[0m\u001b[0mself\u001b[0m\u001b[1;33m.\u001b[0m\u001b[0m_qalgo\u001b[0m\u001b[1;33m.\u001b[0m\u001b[0mtest_dataset\u001b[0m\u001b[1;33m[\u001b[0m\u001b[1;36m0\u001b[0m\u001b[1;33m]\u001b[0m\u001b[1;33m,\u001b[0m \u001b[0mself\u001b[0m\u001b[1;33m.\u001b[0m\u001b[0m_qalgo\u001b[0m\u001b[1;33m.\u001b[0m\u001b[0mtest_dataset\u001b[0m\u001b[1;33m[\u001b[0m\u001b[1;36m1\u001b[0m\u001b[1;33m]\u001b[0m\u001b[1;33m)\u001b[0m\u001b[1;33m\u001b[0m\u001b[1;33m\u001b[0m\u001b[0m\n",
      "\u001b[1;32mc:\\users\\zarreen-naowal.reza\\appdata\\local\\programs\\python\\python38\\lib\\site-packages\\qiskit\\aqua\\algorithms\\classifiers\\qsvm\\_qsvm_multiclass.py\u001b[0m in \u001b[0;36mtrain\u001b[1;34m(self, data, labels)\u001b[0m\n\u001b[0;32m     39\u001b[0m     \u001b[1;32mdef\u001b[0m \u001b[0mtrain\u001b[0m\u001b[1;33m(\u001b[0m\u001b[0mself\u001b[0m\u001b[1;33m,\u001b[0m \u001b[0mdata\u001b[0m\u001b[1;33m,\u001b[0m \u001b[0mlabels\u001b[0m\u001b[1;33m)\u001b[0m\u001b[1;33m:\u001b[0m\u001b[1;33m\u001b[0m\u001b[1;33m\u001b[0m\u001b[0m\n\u001b[0;32m     40\u001b[0m         \u001b[1;34m\"\"\" train \"\"\"\u001b[0m\u001b[1;33m\u001b[0m\u001b[1;33m\u001b[0m\u001b[0m\n\u001b[1;32m---> 41\u001b[1;33m         \u001b[0mself\u001b[0m\u001b[1;33m.\u001b[0m\u001b[0mmulticlass_classifier\u001b[0m\u001b[1;33m.\u001b[0m\u001b[0mtrain\u001b[0m\u001b[1;33m(\u001b[0m\u001b[0mdata\u001b[0m\u001b[1;33m,\u001b[0m \u001b[0mlabels\u001b[0m\u001b[1;33m)\u001b[0m\u001b[1;33m\u001b[0m\u001b[1;33m\u001b[0m\u001b[0m\n\u001b[0m\u001b[0;32m     42\u001b[0m \u001b[1;33m\u001b[0m\u001b[0m\n\u001b[0;32m     43\u001b[0m     \u001b[1;32mdef\u001b[0m \u001b[0mtest\u001b[0m\u001b[1;33m(\u001b[0m\u001b[0mself\u001b[0m\u001b[1;33m,\u001b[0m \u001b[0mdata\u001b[0m\u001b[1;33m,\u001b[0m \u001b[0mlabels\u001b[0m\u001b[1;33m)\u001b[0m\u001b[1;33m:\u001b[0m\u001b[1;33m\u001b[0m\u001b[1;33m\u001b[0m\u001b[0m\n",
      "\u001b[1;32mc:\\users\\zarreen-naowal.reza\\appdata\\local\\programs\\python\\python38\\lib\\site-packages\\qiskit\\aqua\\components\\multiclass_extensions\\error_correcting_code.py\u001b[0m in \u001b[0;36mtrain\u001b[1;34m(self, x, y)\u001b[0m\n\u001b[0;32m    101\u001b[0m             \u001b[1;32melse\u001b[0m\u001b[1;33m:\u001b[0m\u001b[1;33m\u001b[0m\u001b[1;33m\u001b[0m\u001b[0m\n\u001b[0;32m    102\u001b[0m                 \u001b[0mestimator\u001b[0m \u001b[1;33m=\u001b[0m \u001b[0mself\u001b[0m\u001b[1;33m.\u001b[0m\u001b[0mestimator_cls\u001b[0m\u001b[1;33m(\u001b[0m\u001b[1;33m*\u001b[0m\u001b[0mself\u001b[0m\u001b[1;33m.\u001b[0m\u001b[0mparams\u001b[0m\u001b[1;33m)\u001b[0m\u001b[1;33m\u001b[0m\u001b[1;33m\u001b[0m\u001b[0m\n\u001b[1;32m--> 103\u001b[1;33m                 \u001b[0mestimator\u001b[0m\u001b[1;33m.\u001b[0m\u001b[0mfit\u001b[0m\u001b[1;33m(\u001b[0m\u001b[0mx\u001b[0m\u001b[1;33m,\u001b[0m \u001b[0my_bit\u001b[0m\u001b[1;33m)\u001b[0m\u001b[1;33m\u001b[0m\u001b[1;33m\u001b[0m\u001b[0m\n\u001b[0m\u001b[0;32m    104\u001b[0m             \u001b[0mself\u001b[0m\u001b[1;33m.\u001b[0m\u001b[0mestimators\u001b[0m\u001b[1;33m.\u001b[0m\u001b[0mappend\u001b[0m\u001b[1;33m(\u001b[0m\u001b[0mestimator\u001b[0m\u001b[1;33m)\u001b[0m\u001b[1;33m\u001b[0m\u001b[1;33m\u001b[0m\u001b[0m\n\u001b[0;32m    105\u001b[0m \u001b[1;33m\u001b[0m\u001b[0m\n",
      "\u001b[1;32mc:\\users\\zarreen-naowal.reza\\appdata\\local\\programs\\python\\python38\\lib\\site-packages\\qiskit\\aqua\\algorithms\\classifiers\\qsvm\\_qsvm_estimator.py\u001b[0m in \u001b[0;36mfit\u001b[1;34m(self, x, y)\u001b[0m\n\u001b[0;32m     35\u001b[0m             \u001b[0my\u001b[0m \u001b[1;33m(\u001b[0m\u001b[0mnumpy\u001b[0m\u001b[1;33m.\u001b[0m\u001b[0mndarray\u001b[0m\u001b[1;33m)\u001b[0m\u001b[1;33m:\u001b[0m \u001b[0minput\u001b[0m \u001b[0mlabels\u001b[0m\u001b[1;33m,\u001b[0m \u001b[0mNx1\u001b[0m \u001b[0marray\u001b[0m\u001b[1;33m\u001b[0m\u001b[1;33m\u001b[0m\u001b[0m\n\u001b[0;32m     36\u001b[0m         \"\"\"\n\u001b[1;32m---> 37\u001b[1;33m         \u001b[0mself\u001b[0m\u001b[1;33m.\u001b[0m\u001b[0m_qsvm_binary\u001b[0m\u001b[1;33m.\u001b[0m\u001b[0mtrain\u001b[0m\u001b[1;33m(\u001b[0m\u001b[0mx\u001b[0m\u001b[1;33m,\u001b[0m \u001b[0my\u001b[0m\u001b[1;33m)\u001b[0m\u001b[1;33m\u001b[0m\u001b[1;33m\u001b[0m\u001b[0m\n\u001b[0m\u001b[0;32m     38\u001b[0m         \u001b[0mself\u001b[0m\u001b[1;33m.\u001b[0m\u001b[0m_ret\u001b[0m \u001b[1;33m=\u001b[0m \u001b[0mself\u001b[0m\u001b[1;33m.\u001b[0m\u001b[0m_qsvm_binary\u001b[0m\u001b[1;33m.\u001b[0m\u001b[0m_ret\u001b[0m\u001b[1;33m\u001b[0m\u001b[1;33m\u001b[0m\u001b[0m\n\u001b[0;32m     39\u001b[0m \u001b[1;33m\u001b[0m\u001b[0m\n",
      "\u001b[1;32mc:\\users\\zarreen-naowal.reza\\appdata\\local\\programs\\python\\python38\\lib\\site-packages\\qiskit\\aqua\\algorithms\\classifiers\\qsvm\\_qsvm_binary.py\u001b[0m in \u001b[0;36mtrain\u001b[1;34m(self, data, labels)\u001b[0m\n\u001b[0;32m     80\u001b[0m         \u001b[0mlabels\u001b[0m \u001b[1;33m=\u001b[0m \u001b[0mlabels\u001b[0m \u001b[1;33m*\u001b[0m \u001b[1;36m2\u001b[0m \u001b[1;33m-\u001b[0m \u001b[1;36m1\u001b[0m  \u001b[1;31m# map label from 0 --> -1 and 1 --> 1\u001b[0m\u001b[1;33m\u001b[0m\u001b[1;33m\u001b[0m\u001b[0m\n\u001b[0;32m     81\u001b[0m         \u001b[0mlabels\u001b[0m \u001b[1;33m=\u001b[0m \u001b[0mlabels\u001b[0m\u001b[1;33m.\u001b[0m\u001b[0mastype\u001b[0m\u001b[1;33m(\u001b[0m\u001b[0mfloat\u001b[0m\u001b[1;33m)\u001b[0m\u001b[1;33m\u001b[0m\u001b[1;33m\u001b[0m\u001b[0m\n\u001b[1;32m---> 82\u001b[1;33m         \u001b[1;33m[\u001b[0m\u001b[0malpha\u001b[0m\u001b[1;33m,\u001b[0m \u001b[0mb\u001b[0m\u001b[1;33m,\u001b[0m \u001b[0msupport\u001b[0m\u001b[1;33m]\u001b[0m \u001b[1;33m=\u001b[0m \u001b[0moptimize_svm\u001b[0m\u001b[1;33m(\u001b[0m\u001b[0mkernel_matrix\u001b[0m\u001b[1;33m,\u001b[0m \u001b[0mlabels\u001b[0m\u001b[1;33m,\u001b[0m \u001b[0mscaling\u001b[0m\u001b[1;33m=\u001b[0m\u001b[0mscaling\u001b[0m\u001b[1;33m,\u001b[0m \u001b[0mlambda2\u001b[0m\u001b[1;33m=\u001b[0m\u001b[0mlambda2\u001b[0m\u001b[1;33m)\u001b[0m\u001b[1;33m\u001b[0m\u001b[1;33m\u001b[0m\u001b[0m\n\u001b[0m\u001b[0;32m     83\u001b[0m         \u001b[0msupport_index\u001b[0m \u001b[1;33m=\u001b[0m \u001b[0mnp\u001b[0m\u001b[1;33m.\u001b[0m\u001b[0mwhere\u001b[0m\u001b[1;33m(\u001b[0m\u001b[0msupport\u001b[0m\u001b[1;33m)\u001b[0m\u001b[1;33m\u001b[0m\u001b[1;33m\u001b[0m\u001b[0m\n\u001b[0;32m     84\u001b[0m         \u001b[0malphas\u001b[0m \u001b[1;33m=\u001b[0m \u001b[0malpha\u001b[0m\u001b[1;33m[\u001b[0m\u001b[0msupport_index\u001b[0m\u001b[1;33m]\u001b[0m\u001b[1;33m\u001b[0m\u001b[1;33m\u001b[0m\u001b[0m\n",
      "\u001b[1;32mc:\\users\\zarreen-naowal.reza\\appdata\\local\\programs\\python\\python38\\lib\\site-packages\\qiskit\\aqua\\utils\\qp_solver.py\u001b[0m in \u001b[0;36moptimize_svm\u001b[1;34m(kernel_matrix, y, scaling, maxiter, show_progress, max_iters, lambda2)\u001b[0m\n\u001b[0;32m     56\u001b[0m         \u001b[1;32mimport\u001b[0m \u001b[0mcvxpy\u001b[0m\u001b[1;33m\u001b[0m\u001b[1;33m\u001b[0m\u001b[0m\n\u001b[0;32m     57\u001b[0m     \u001b[1;32mexcept\u001b[0m \u001b[0mImportError\u001b[0m \u001b[1;32mas\u001b[0m \u001b[0mex\u001b[0m\u001b[1;33m:\u001b[0m\u001b[1;33m\u001b[0m\u001b[1;33m\u001b[0m\u001b[0m\n\u001b[1;32m---> 58\u001b[1;33m         raise MissingOptionalLibraryError(\n\u001b[0m\u001b[0;32m     59\u001b[0m             \u001b[0mlibname\u001b[0m\u001b[1;33m=\u001b[0m\u001b[1;34m'CVXPY'\u001b[0m\u001b[1;33m,\u001b[0m\u001b[1;33m\u001b[0m\u001b[1;33m\u001b[0m\u001b[0m\n\u001b[0;32m     60\u001b[0m             \u001b[0mname\u001b[0m\u001b[1;33m=\u001b[0m\u001b[1;34m'optimize_svm'\u001b[0m\u001b[1;33m,\u001b[0m\u001b[1;33m\u001b[0m\u001b[1;33m\u001b[0m\u001b[0m\n",
      "\u001b[1;31mMissingOptionalLibraryError\u001b[0m: \"The 'CVXPY' library is required to use 'optimize_svm'. You can install it with 'pip install 'qiskit-aqua[cvx]''.  numpy.core.multiarray failed to import.\""
     ]
    }
   ],
   "source": [
    "feature_map = PauliFeatureMap(feature_dimension=feature_dim, reps=1, paulis = ['Z','X','ZY'])\n",
    "qsvm = QSVM(feature_map, training_input, test_input, multiclass_extension = ErrorCorrectingCode())\n",
    "\n",
    "backend = BasicAer.get_backend('qasm_simulator')\n",
    "quantum_instance = QuantumInstance(backend, shots=1024, seed_simulator=seed, seed_transpiler=seed)\n",
    "\n",
    "result = qsvm.run(quantum_instance)\n",
    "\n",
    "print(\"testing success ratio: \", result['testing_accuracy'])"
   ]
  },
  {
   "cell_type": "markdown",
   "id": "coupled-czech",
   "metadata": {},
   "source": [
    "## Classical SVM"
   ]
  },
  {
   "cell_type": "code",
   "execution_count": 120,
   "id": "cloudy-building",
   "metadata": {},
   "outputs": [
    {
     "name": "stdout",
     "output_type": "stream",
     "text": [
      "Testing success ratio: 0.6833333333333333\n"
     ]
    }
   ],
   "source": [
    "from qiskit.aqua.algorithms import SklearnSVM\n",
    "\n",
    "result = SklearnSVM(training_input, test_input, multiclass_extension = AllPairs()).run()\n",
    "\n",
    "print(f'Testing success ratio: {result[\"testing_accuracy\"]}')"
   ]
  },
  {
   "cell_type": "code",
   "execution_count": null,
   "id": "equivalent-webcam",
   "metadata": {},
   "outputs": [],
   "source": []
  }
 ],
 "metadata": {
  "kernelspec": {
   "display_name": "Python 3",
   "language": "python",
   "name": "python3"
  },
  "language_info": {
   "codemirror_mode": {
    "name": "ipython",
    "version": 3
   },
   "file_extension": ".py",
   "mimetype": "text/x-python",
   "name": "python",
   "nbconvert_exporter": "python",
   "pygments_lexer": "ipython3",
   "version": "3.8.6"
  }
 },
 "nbformat": 4,
 "nbformat_minor": 5
}
